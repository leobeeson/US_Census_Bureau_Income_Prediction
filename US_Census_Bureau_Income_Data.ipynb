{
 "cells": [
  {
   "cell_type": "markdown",
   "metadata": {},
   "source": [
    "\n",
    "# <font color=blue>Predicting Incomes from US Census Bureau Data</font>\n",
    "**The objective of this project is to model demographic and employment data to predict incomes. The data consists of census data extracted from the Current Population Surveys of 1994 and 1995, conducted by the US Census Bureau.**\n",
    "\n",
    "### The project is structured along the following framework:\n",
    "1. **Business Understanding**\n",
    "2. **Data Understanding**\n",
    "3. **Data Preparation**\n",
    "4. **Model Construction**\n",
    "5. **Model Evaluation**\n",
    "6. **Model Deployment**\n",
    "7. **Business Insights**\n",
    "8. **Conclusions**"
   ]
  },
  {
   "cell_type": "markdown",
   "metadata": {},
   "source": [
    "# <font color=blue>1. Business Understanding</font>\n",
    "## Business Objective\n",
    "The business objective behind this project can be analysed from three different perspective. That of the US Census Bureau conducting the surveys, that of governments and institutional actors, and that of the private sector:\n",
    "* **For the Census Bureau:**\n",
    "    * An accurate prediction model of incomes can help them predict subjects' incomes in areas where they don't have actual data on incomes.\n",
    "    * This can enhance the quality of the data for areas where data is sparse or methodologically questionable.\n",
    "    * It can also significantly reduce for them the cost of data collection, both economic and in terms of manpower.\n",
    "* **Governments and  institutional actors:**\n",
    "    * Income is an important indicator for economic and social markers, such as quality of nutrition, access to medical services and utilities, etc.\n",
    "    * Having more and better insights into income levels of populations can guide better policy design.\n",
    "* **Private sector:**\n",
    "    * Income levels tend to have a strong association to disposable income and purchasing power of groups and individuals.\n",
    "    * Understanding income levels across segments and areas helps companies improve location selection, optimise supply chains, design better pricing strategies, among others.\n",
    "\n",
    "## Business Success Criteria\n",
    "The business success criteria for the Census Beureau deriving from this project is defined as follows:\n",
    "* Increase in accuracy of projections of incomes in the US from one census period to the next. \n",
    "* Less estimation errors in modelling year-on-year changes in incomes predictions and associated demographic data between census periods.\n",
    "\n",
    "## Project Plan\n",
    "<img src=\"resources/US_Census_Data.png\">"
   ]
  },
  {
   "cell_type": "code",
   "execution_count": 428,
   "metadata": {},
   "outputs": [],
   "source": [
    "##### INSTALL ALL PROJECT'S DEPENDENCIES #####\n",
    "library(stringr)\n",
    "library(Hmisc)\n",
    "library(plyr)\n",
    "library(gridExtra)\n",
    "library(dplyr)\n",
    "library(arsenal)\n",
    "library(VIM)\n",
    "library(InformationValue)\n",
    "library(caret)\n",
    "library(gbm)\n",
    "library(DMwR)\n",
    "library(pROC)\n",
    "library(e1071)\n",
    "library(corrplot)"
   ]
  },
  {
   "cell_type": "markdown",
   "metadata": {},
   "source": [
    "# <font color=blue>2. Data Understanding</font>\n",
    "In order to understand the data, this section consists of two tasks:\n",
    "1. Survey the metadata for the dataset, and structure it into a data frame.\n",
    "2. Survey the dataset and verify it matches with the metadata."
   ]
  },
  {
   "cell_type": "markdown",
   "metadata": {},
   "source": [
    "# Surveying the  Metadata\n",
    "Metadata for the dataset was unstructured in text format. This section of the code collects the different elements of the metadata in the text file and structures them into a data frame holding each variables name, ID, type, number of distinct values, and factor levels for categorical values."
   ]
  },
  {
   "cell_type": "code",
   "execution_count": 429,
   "metadata": {},
   "outputs": [],
   "source": [
    "##### READ IN METADATA FILE #####\n",
    "metadata_file <- readLines(\"data/census_income_metadata.txt\")"
   ]
  },
  {
   "cell_type": "code",
   "execution_count": 430,
   "metadata": {},
   "outputs": [],
   "source": [
    "##### GET VARIABLES' DESCRIPTIONS AND ID #####\n",
    "clean_variables_description <- function(line){\n",
    "  out <- str_sub(string = line, start = 2)\n",
    "  out <- trimws(out)\n",
    "  out <- str_split(string = out, pattern = \"\\t+\")\n",
    "  return(out)\n",
    "}\n",
    "var_names <- metadata_file[24:68]\n",
    "var_names_list <- lapply(var_names, clean_variables_description)\n",
    "var_names_df <- data.frame(matrix(unlist(var_names_list), nrow = 45, byrow = TRUE), stringsAsFactors = FALSE)\n",
    "names(var_names_df) <- c(\"var_description\", \"var_ID\")"
   ]
  },
  {
   "cell_type": "code",
   "execution_count": 431,
   "metadata": {},
   "outputs": [],
   "source": [
    "##### GET VARIABLES' TYPE AND NUMBER OF DISTINCT VALUES #####\n",
    "clean_variables_types <- function(line){\n",
    "  out <- str_sub(string = line, start = 2)\n",
    "  out <- str_split(string = out, pattern = \" (?=distinct)|\\\\(|\\\\)\", simplify = TRUE)\n",
    "  out <- out[c(1,length(out)-1,length(out))]\n",
    "  out <- trimws(out)\n",
    "  return(out)\n",
    "}\n",
    "var_types <- metadata_file[82:121]\n",
    "var_types_list <- lapply(var_types, clean_variables_types)\n",
    "var_types_df <- data.frame(matrix(unlist(var_types_list), nrow = 40, byrow = TRUE), stringsAsFactors = FALSE)\n",
    "names(var_types_df) <- c(\"num_distinct_vals\", \"var_description\", \"var_type\")"
   ]
  },
  {
   "cell_type": "code",
   "execution_count": 432,
   "metadata": {},
   "outputs": [],
   "source": [
    "##### GET VARIABLES' DISTINCT VALUES #####\n",
    "clean_unique_values <- function(line){\n",
    "  out <- str_sub(string = line, start = 1, end = nchar(line) - 1)\n",
    "  out <- gsub(pattern = \"\\\\|\", replacement = \"\", x = out)\n",
    "  out <- str_split(string = out, pattern = \":\", n = 2, simplify = TRUE)\n",
    "  out <- trimws(out)\n",
    "  return(out)\n",
    "}\n",
    "var_unique_vals <- metadata_file[143:184]\n",
    "var_unique_vals_list <- lapply(var_unique_vals, clean_unique_values)\n",
    "var_unique_vals_df <- data.frame(matrix(unlist(var_unique_vals_list), nrow = 42, byrow = TRUE), stringsAsFactors = FALSE)\n",
    "names(var_unique_vals_df) <- c(\"var_description\", \"var_factors\")"
   ]
  },
  {
   "cell_type": "code",
   "execution_count": 433,
   "metadata": {},
   "outputs": [],
   "source": [
    "##### NORMALISE AND CLEAN VARIABLE NAMES #####\n",
    "var_names_df$var_description[var_names_df$var_description == \"industry code\"] <- \"detailed industry recode\"\n",
    "var_names_df$var_description[var_names_df$var_description == \"occupation code\"] <- \"detailed occupation recode\"\n",
    "var_names_df$var_description[var_names_df$var_description == \"enrolled in edu inst last wk\"] <- \"enroll in edu inst last wk\"\n",
    "var_names_df$var_description[var_names_df$var_description == \"marital status\"] <- \"marital stat\"\n",
    "var_names_df$var_description[var_names_df$var_description == \"mace\"] <- \"race\"\n",
    "var_names_df$var_description[var_names_df$var_description == \"hispanic Origin\"] <- \"hispanic origin\"\n",
    "var_names_df$var_description[var_names_df$var_description == \"divdends from stocks\"] <- \"dividends from stocks\"\n",
    "var_names_df$var_description[var_names_df$var_description == \"tax filer status\"] <- \"tax filer stat\"\n",
    "var_names_df <- rbind(var_names_df, c(\"year\", \"YEAR\"))\n",
    "\n",
    "excluded <- c(\"adjusted gross income\", \"federal income tax liability\", \"total person earnings\", \"total person income\", \"taxable income amount\")\n",
    "var_names_df <- var_names_df[!var_names_df$var_description %in% excluded, ]"
   ]
  },
  {
   "cell_type": "code",
   "execution_count": 434,
   "metadata": {},
   "outputs": [],
   "source": [
    "##### JOIN VARIABLE METADATA #####\n",
    "metadata_df <- left_join(var_names_df, var_types_df, by = \"var_description\") %>%\n",
    "  left_join(., var_unique_vals_df, by = \"var_description\")\n",
    "\n",
    "metadata_df <- metadata_df[-25, ]\n",
    "metadata_df$var_description[metadata_df$var_description == \"fill inc questionnaire for veteran's admin\"] <- \"fill inc questionnaire for veterans admin\"\n",
    "metadata_df$var_description <- str_replace_all(string = metadata_df$var_description, pattern = \" \", replacement = \"_\")"
   ]
  },
  {
   "cell_type": "code",
   "execution_count": 435,
   "metadata": {},
   "outputs": [
    {
     "data": {
      "text/html": [
       "<table>\n",
       "<thead><tr><th scope=col>var_description</th><th scope=col>var_ID</th><th scope=col>num_distinct_vals</th><th scope=col>var_type</th><th scope=col>var_factors</th></tr></thead>\n",
       "<tbody>\n",
       "\t<tr><td>age                                                                                                                                                                                                                                                                                                                                                                                                                     </td><td>AAGE                                                                                                                                                                                                                                                                                                                                                                                                                    </td><td>91                                                                                                                                                                                                                                                                                                                                                                                                                      </td><td>continuous                                                                                                                                                                                                                                                                                                                                                                                                              </td><td>continuous                                                                                                                                                                                                                                                                                                                                                                                                              </td></tr>\n",
       "\t<tr><td>class_of_worker                                                                                                                                                                                                                                                                                                                                                                                                         </td><td>ACLSWKR                                                                                                                                                                                                                                                                                                                                                                                                                 </td><td>9                                                                                                                                                                                                                                                                                                                                                                                                                       </td><td>nominal                                                                                                                                                                                                                                                                                                                                                                                                                 </td><td>Not in universe, Federal government, Local government, Never worked, Private, Self-employed-incorporated, Self-employed-not incorporated, State government, Without pay                                                                                                                                                                                                                                                 </td></tr>\n",
       "\t<tr><td>detailed_industry_recode                                                                                                                                                                                                                                                                                                                                                                                                </td><td>ADTIND                                                                                                                                                                                                                                                                                                                                                                                                                  </td><td>52                                                                                                                                                                                                                                                                                                                                                                                                                      </td><td>nominal                                                                                                                                                                                                                                                                                                                                                                                                                 </td><td>0, 40, 44, 2, 43, 47, 48, 1, 11, 19, 24, 25, 32, 33, 34, 35, 36, 37, 38, 39, 4, 42, 45, 5, 15, 16, 22, 29, 31, 50, 14, 17, 18, 28, 3, 30, 41, 46, 51, 12, 13, 21, 23, 26, 6, 7, 9, 49, 27, 8, 10, 20                                                                                                                                                                                                                    </td></tr>\n",
       "\t<tr><td>detailed_occupation_recode                                                                                                                                                                                                                                                                                                                                                                                              </td><td>ADTOCC                                                                                                                                                                                                                                                                                                                                                                                                                  </td><td>47                                                                                                                                                                                                                                                                                                                                                                                                                      </td><td>nominal                                                                                                                                                                                                                                                                                                                                                                                                                 </td><td>0, 12, 31, 44, 19, 32, 10, 23, 26, 28, 29, 42, 40, 34, 14, 36, 38, 2, 20, 25, 37, 41, 27, 24, 30, 43, 33, 16, 45, 17, 35, 22, 18, 39, 3, 15, 13, 46, 8, 21, 9, 4, 6, 5, 1, 11, 7                                                                                                                                                                                                                                        </td></tr>\n",
       "\t<tr><td>education                                                                                                                                                                                                                                                                                                                                                                                                               </td><td>AHGA                                                                                                                                                                                                                                                                                                                                                                                                                    </td><td>17                                                                                                                                                                                                                                                                                                                                                                                                                      </td><td>nominal                                                                                                                                                                                                                                                                                                                                                                                                                 </td><td>Children, 7th and 8th grade, 9th grade, 10th grade, High school graduate, 11th grade, 12th grade no diploma, 5th or 6th grade, Less than 1st grade, Bachelors degree(BA AB BS), 1st 2nd 3rd or 4th grade, Some college but no degree, Masters degree(MA MS MEng MEd MSW MBA), Associates degree-occup /vocational, Associates degree-academic program, Doctorate degree(PhD EdD), Prof school degree (MD DDS DVM LLB JD)</td></tr>\n",
       "\t<tr><td>wage_per_hour                                                                                                                                                                                                                                                                                                                                                                                                           </td><td>AHRSPAY                                                                                                                                                                                                                                                                                                                                                                                                                 </td><td>1240                                                                                                                                                                                                                                                                                                                                                                                                                    </td><td>continuous                                                                                                                                                                                                                                                                                                                                                                                                              </td><td>continuous                                                                                                                                                                                                                                                                                                                                                                                                              </td></tr>\n",
       "</tbody>\n",
       "</table>\n"
      ],
      "text/latex": [
       "\\begin{tabular}{r|lllll}\n",
       " var\\_description & var\\_ID & num\\_distinct\\_vals & var\\_type & var\\_factors\\\\\n",
       "\\hline\n",
       "\t age                                                                                                                                                                                                                                                                                                                                                                                                                      & AAGE                                                                                                                                                                                                                                                                                                                                                                                                                     & 91                                                                                                                                                                                                                                                                                                                                                                                                                       & continuous                                                                                                                                                                                                                                                                                                                                                                                                               & continuous                                                                                                                                                                                                                                                                                                                                                                                                              \\\\\n",
       "\t class\\_of\\_worker                                                                                                                                                                                                                                                                                                                                                                                                      & ACLSWKR                                                                                                                                                                                                                                                                                                                                                                                                                  & 9                                                                                                                                                                                                                                                                                                                                                                                                                        & nominal                                                                                                                                                                                                                                                                                                                                                                                                                  & Not in universe, Federal government, Local government, Never worked, Private, Self-employed-incorporated, Self-employed-not incorporated, State government, Without pay                                                                                                                                                                                                                                                 \\\\\n",
       "\t detailed\\_industry\\_recode                                                                                                                                                                                                                                                                                                                                                                                             & ADTIND                                                                                                                                                                                                                                                                                                                                                                                                                   & 52                                                                                                                                                                                                                                                                                                                                                                                                                       & nominal                                                                                                                                                                                                                                                                                                                                                                                                                  & 0, 40, 44, 2, 43, 47, 48, 1, 11, 19, 24, 25, 32, 33, 34, 35, 36, 37, 38, 39, 4, 42, 45, 5, 15, 16, 22, 29, 31, 50, 14, 17, 18, 28, 3, 30, 41, 46, 51, 12, 13, 21, 23, 26, 6, 7, 9, 49, 27, 8, 10, 20                                                                                                                                                                                                                    \\\\\n",
       "\t detailed\\_occupation\\_recode                                                                                                                                                                                                                                                                                                                                                                                           & ADTOCC                                                                                                                                                                                                                                                                                                                                                                                                                   & 47                                                                                                                                                                                                                                                                                                                                                                                                                       & nominal                                                                                                                                                                                                                                                                                                                                                                                                                  & 0, 12, 31, 44, 19, 32, 10, 23, 26, 28, 29, 42, 40, 34, 14, 36, 38, 2, 20, 25, 37, 41, 27, 24, 30, 43, 33, 16, 45, 17, 35, 22, 18, 39, 3, 15, 13, 46, 8, 21, 9, 4, 6, 5, 1, 11, 7                                                                                                                                                                                                                                        \\\\\n",
       "\t education                                                                                                                                                                                                                                                                                                                                                                                                                & AHGA                                                                                                                                                                                                                                                                                                                                                                                                                     & 17                                                                                                                                                                                                                                                                                                                                                                                                                       & nominal                                                                                                                                                                                                                                                                                                                                                                                                                  & Children, 7th and 8th grade, 9th grade, 10th grade, High school graduate, 11th grade, 12th grade no diploma, 5th or 6th grade, Less than 1st grade, Bachelors degree(BA AB BS), 1st 2nd 3rd or 4th grade, Some college but no degree, Masters degree(MA MS MEng MEd MSW MBA), Associates degree-occup /vocational, Associates degree-academic program, Doctorate degree(PhD EdD), Prof school degree (MD DDS DVM LLB JD)\\\\\n",
       "\t wage\\_per\\_hour                                                                                                                                                                                                                                                                                                                                                                                                        & AHRSPAY                                                                                                                                                                                                                                                                                                                                                                                                                  & 1240                                                                                                                                                                                                                                                                                                                                                                                                                     & continuous                                                                                                                                                                                                                                                                                                                                                                                                               & continuous                                                                                                                                                                                                                                                                                                                                                                                                              \\\\\n",
       "\\end{tabular}\n"
      ],
      "text/markdown": [
       "\n",
       "var_description | var_ID | num_distinct_vals | var_type | var_factors | \n",
       "|---|---|---|---|---|---|\n",
       "| age                                                                                                                                                                                                                                                                                                                                                                                                                      | AAGE                                                                                                                                                                                                                                                                                                                                                                                                                     | 91                                                                                                                                                                                                                                                                                                                                                                                                                       | continuous                                                                                                                                                                                                                                                                                                                                                                                                               | continuous                                                                                                                                                                                                                                                                                                                                                                                                               | \n",
       "| class_of_worker                                                                                                                                                                                                                                                                                                                                                                                                          | ACLSWKR                                                                                                                                                                                                                                                                                                                                                                                                                  | 9                                                                                                                                                                                                                                                                                                                                                                                                                        | nominal                                                                                                                                                                                                                                                                                                                                                                                                                  | Not in universe, Federal government, Local government, Never worked, Private, Self-employed-incorporated, Self-employed-not incorporated, State government, Without pay                                                                                                                                                                                                                                                  | \n",
       "| detailed_industry_recode                                                                                                                                                                                                                                                                                                                                                                                                 | ADTIND                                                                                                                                                                                                                                                                                                                                                                                                                   | 52                                                                                                                                                                                                                                                                                                                                                                                                                       | nominal                                                                                                                                                                                                                                                                                                                                                                                                                  | 0, 40, 44, 2, 43, 47, 48, 1, 11, 19, 24, 25, 32, 33, 34, 35, 36, 37, 38, 39, 4, 42, 45, 5, 15, 16, 22, 29, 31, 50, 14, 17, 18, 28, 3, 30, 41, 46, 51, 12, 13, 21, 23, 26, 6, 7, 9, 49, 27, 8, 10, 20                                                                                                                                                                                                                     | \n",
       "| detailed_occupation_recode                                                                                                                                                                                                                                                                                                                                                                                               | ADTOCC                                                                                                                                                                                                                                                                                                                                                                                                                   | 47                                                                                                                                                                                                                                                                                                                                                                                                                       | nominal                                                                                                                                                                                                                                                                                                                                                                                                                  | 0, 12, 31, 44, 19, 32, 10, 23, 26, 28, 29, 42, 40, 34, 14, 36, 38, 2, 20, 25, 37, 41, 27, 24, 30, 43, 33, 16, 45, 17, 35, 22, 18, 39, 3, 15, 13, 46, 8, 21, 9, 4, 6, 5, 1, 11, 7                                                                                                                                                                                                                                         | \n",
       "| education                                                                                                                                                                                                                                                                                                                                                                                                                | AHGA                                                                                                                                                                                                                                                                                                                                                                                                                     | 17                                                                                                                                                                                                                                                                                                                                                                                                                       | nominal                                                                                                                                                                                                                                                                                                                                                                                                                  | Children, 7th and 8th grade, 9th grade, 10th grade, High school graduate, 11th grade, 12th grade no diploma, 5th or 6th grade, Less than 1st grade, Bachelors degree(BA AB BS), 1st 2nd 3rd or 4th grade, Some college but no degree, Masters degree(MA MS MEng MEd MSW MBA), Associates degree-occup /vocational, Associates degree-academic program, Doctorate degree(PhD EdD), Prof school degree (MD DDS DVM LLB JD) | \n",
       "| wage_per_hour                                                                                                                                                                                                                                                                                                                                                                                                            | AHRSPAY                                                                                                                                                                                                                                                                                                                                                                                                                  | 1240                                                                                                                                                                                                                                                                                                                                                                                                                     | continuous                                                                                                                                                                                                                                                                                                                                                                                                               | continuous                                                                                                                                                                                                                                                                                                                                                                                                               | \n",
       "\n",
       "\n"
      ],
      "text/plain": [
       "  var_description            var_ID  num_distinct_vals var_type  \n",
       "1 age                        AAGE    91                continuous\n",
       "2 class_of_worker            ACLSWKR 9                 nominal   \n",
       "3 detailed_industry_recode   ADTIND  52                nominal   \n",
       "4 detailed_occupation_recode ADTOCC  47                nominal   \n",
       "5 education                  AHGA    17                nominal   \n",
       "6 wage_per_hour              AHRSPAY 1240              continuous\n",
       "  var_factors                                                                                                                                                                                                                                                                                                                                                                                                             \n",
       "1 continuous                                                                                                                                                                                                                                                                                                                                                                                                              \n",
       "2 Not in universe, Federal government, Local government, Never worked, Private, Self-employed-incorporated, Self-employed-not incorporated, State government, Without pay                                                                                                                                                                                                                                                 \n",
       "3 0, 40, 44, 2, 43, 47, 48, 1, 11, 19, 24, 25, 32, 33, 34, 35, 36, 37, 38, 39, 4, 42, 45, 5, 15, 16, 22, 29, 31, 50, 14, 17, 18, 28, 3, 30, 41, 46, 51, 12, 13, 21, 23, 26, 6, 7, 9, 49, 27, 8, 10, 20                                                                                                                                                                                                                    \n",
       "4 0, 12, 31, 44, 19, 32, 10, 23, 26, 28, 29, 42, 40, 34, 14, 36, 38, 2, 20, 25, 37, 41, 27, 24, 30, 43, 33, 16, 45, 17, 35, 22, 18, 39, 3, 15, 13, 46, 8, 21, 9, 4, 6, 5, 1, 11, 7                                                                                                                                                                                                                                        \n",
       "5 Children, 7th and 8th grade, 9th grade, 10th grade, High school graduate, 11th grade, 12th grade no diploma, 5th or 6th grade, Less than 1st grade, Bachelors degree(BA AB BS), 1st 2nd 3rd or 4th grade, Some college but no degree, Masters degree(MA MS MEng MEd MSW MBA), Associates degree-occup /vocational, Associates degree-academic program, Doctorate degree(PhD EdD), Prof school degree (MD DDS DVM LLB JD)\n",
       "6 continuous                                                                                                                                                                                                                                                                                                                                                                                                              "
      ]
     },
     "metadata": {},
     "output_type": "display_data"
    }
   ],
   "source": [
    "##### SAVE METADATA DATAFRAME ##### \n",
    "#saveRDS(object = metadata_df, file = \"resources/metadata_df.RDS\")\n",
    "head(metadata_df)"
   ]
  },
  {
   "cell_type": "code",
   "execution_count": 436,
   "metadata": {},
   "outputs": [],
   "source": [
    "##### GOOD HOUSEKEEPING #####\n",
    "rm(var_types, var_types_list)\n",
    "rm(var_names, var_names_list)\n",
    "rm(var_unique_vals, var_unique_vals_list, metadata_file)\n",
    "rm(excluded)\n",
    "rm(var_names_df, var_types_df, var_unique_vals_df)"
   ]
  },
  {
   "cell_type": "markdown",
   "metadata": {},
   "source": [
    "# Surveying the Training Data\n",
    "The training and test data sets were headerless in a csv file. This section validates that the variables, names, types, number of distinct values, and factor levels in the data sets match the metadata supplied in the text file."
   ]
  },
  {
   "cell_type": "code",
   "execution_count": 437,
   "metadata": {},
   "outputs": [],
   "source": [
    "##### READ IN TRAIN SET #####\n",
    "train_data <- read.csv(file = \"data/census_income_learn.csv\")"
   ]
  },
  {
   "cell_type": "code",
   "execution_count": 438,
   "metadata": {},
   "outputs": [],
   "source": [
    "##### ASSIGN VARIABLE NAMES TO TRAIN SET #####\n",
    "names(train_data) <- c(metadata_df$var_description, \"income\")"
   ]
  },
  {
   "cell_type": "code",
   "execution_count": 439,
   "metadata": {},
   "outputs": [],
   "source": [
    "##### FUNCTION FOR GETTING DISTINCT VALUES #####\n",
    "check_sanity_distinct <- function(var_name){\n",
    "  vals <- trimws(as.character(train_data[,names(train_data) == var_name]))\n",
    "  unique_vals <- sort(unique(vals))\n",
    "  num_unique_vals <- length(unique_vals)\n",
    "  unique_vals <- unique_vals[unique_vals != \"?\"]\n",
    "  unique_vals <- paste(unique_vals, collapse = \", \")\n",
    "  out <- list(var_name = var_name, sc_unique_vals = unique_vals, sc_num_unique_vals = num_unique_vals)\n",
    "  return(out)\n",
    "}"
   ]
  },
  {
   "cell_type": "code",
   "execution_count": 440,
   "metadata": {},
   "outputs": [],
   "source": [
    "##### GET UNIQUE VALUES FROM LEARNING FILE (TRAINING DATA) #####\n",
    "sc_uniques <- lapply(names(train_data)[!names(train_data) %in% c(\"income\")], check_sanity_distinct)\n",
    "sc_var_description <- unlist(lapply(sc_uniques, function(x) x[[1]]))\n",
    "sc_unique_vals <- unlist(lapply(sc_uniques, function(x) x[[2]]))\n",
    "sc_num_unique_vals <- unlist(lapply(sc_uniques, function(x) x[[3]]))    "
   ]
  },
  {
   "cell_type": "code",
   "execution_count": 441,
   "metadata": {},
   "outputs": [],
   "source": [
    "##### CHECK VAR DESCRIPTIONS #####\n",
    "metadata_df$sc_var_description <- sc_var_description\n",
    "metadata_df$sc_var_description_bool <- metadata_df$var_description == metadata_df$sc_var_description"
   ]
  },
  {
   "cell_type": "code",
   "execution_count": 442,
   "metadata": {},
   "outputs": [],
   "source": [
    "##### CHECK NUMBER OF UNIQUE VALUES #####\n",
    "metadata_df$sc_num_unique_vals <- sc_num_unique_vals\n",
    "metadata_df$sc_num_unique_vals_bool <- metadata_df$num_distinct_vals == metadata_df$sc_num_unique_vals"
   ]
  },
  {
   "cell_type": "code",
   "execution_count": 443,
   "metadata": {},
   "outputs": [],
   "source": [
    "##### FUNCTION FOR CHECKING UNIQUE VALUES #####\n",
    "compare_vector_elements <- function(string_1, string_2){\n",
    "  vec_1 <- trimws(unlist(str_split(string = string_1, pattern = \",\")))\n",
    "  vec_2 <- trimws(unlist(str_split(string = string_2, pattern = \",\")))\n",
    "  equality_check <- identical(sort(vec_1), sort(vec_2))\n",
    "  return(equality_check)\n",
    "}"
   ]
  },
  {
   "cell_type": "code",
   "execution_count": 444,
   "metadata": {},
   "outputs": [],
   "source": [
    "##### CHECK UNIQUE VALUES #####\n",
    "metadata_df$sc_unique_vals <- sc_unique_vals\n",
    "metadata_df$sc_unique_vals[metadata_df$var_factors == \"continuous\"] <- \"continuous\"\n",
    "metadata_df$sc_unique_vals_bool <- mapply(compare_vector_elements, metadata_df$var_factors, metadata_df$sc_unique_vals)"
   ]
  },
  {
   "cell_type": "code",
   "execution_count": 445,
   "metadata": {},
   "outputs": [
    {
     "data": {
      "text/html": [
       "<table>\n",
       "<thead><tr><th scope=col>var_description</th><th scope=col>var_ID</th><th scope=col>num_distinct_vals</th><th scope=col>var_type</th><th scope=col>var_factors</th><th scope=col>sc_var_description</th><th scope=col>sc_var_description_bool</th><th scope=col>sc_num_unique_vals</th><th scope=col>sc_num_unique_vals_bool</th><th scope=col>sc_unique_vals</th><th scope=col>sc_unique_vals_bool</th></tr></thead>\n",
       "<tbody>\n",
       "\t<tr><td>age                                                                                                                                                                                                                                                                                                                                                                                                                     </td><td>AAGE                                                                                                                                                                                                                                                                                                                                                                                                                    </td><td>91                                                                                                                                                                                                                                                                                                                                                                                                                      </td><td>continuous                                                                                                                                                                                                                                                                                                                                                                                                              </td><td>continuous                                                                                                                                                                                                                                                                                                                                                                                                              </td><td>age                                                                                                                                                                                                                                                                                                                                                                                                                     </td><td>TRUE                                                                                                                                                                                                                                                                                                                                                                                                                    </td><td>  91                                                                                                                                                                                                                                                                                                                                                                                                                    </td><td>TRUE                                                                                                                                                                                                                                                                                                                                                                                                                    </td><td>continuous                                                                                                                                                                                                                                                                                                                                                                                                              </td><td>TRUE                                                                                                                                                                                                                                                                                                                                                                                                                    </td></tr>\n",
       "\t<tr><td>class_of_worker                                                                                                                                                                                                                                                                                                                                                                                                         </td><td>ACLSWKR                                                                                                                                                                                                                                                                                                                                                                                                                 </td><td>9                                                                                                                                                                                                                                                                                                                                                                                                                       </td><td>nominal                                                                                                                                                                                                                                                                                                                                                                                                                 </td><td>Not in universe, Federal government, Local government, Never worked, Private, Self-employed-incorporated, Self-employed-not incorporated, State government, Without pay                                                                                                                                                                                                                                                 </td><td>class_of_worker                                                                                                                                                                                                                                                                                                                                                                                                         </td><td>TRUE                                                                                                                                                                                                                                                                                                                                                                                                                    </td><td>   9                                                                                                                                                                                                                                                                                                                                                                                                                    </td><td>TRUE                                                                                                                                                                                                                                                                                                                                                                                                                    </td><td>Federal government, Local government, Never worked, Not in universe, Private, Self-employed-incorporated, Self-employed-not incorporated, State government, Without pay                                                                                                                                                                                                                                                 </td><td>TRUE                                                                                                                                                                                                                                                                                                                                                                                                                    </td></tr>\n",
       "\t<tr><td>detailed_industry_recode                                                                                                                                                                                                                                                                                                                                                                                                </td><td>ADTIND                                                                                                                                                                                                                                                                                                                                                                                                                  </td><td>52                                                                                                                                                                                                                                                                                                                                                                                                                      </td><td>nominal                                                                                                                                                                                                                                                                                                                                                                                                                 </td><td>0, 40, 44, 2, 43, 47, 48, 1, 11, 19, 24, 25, 32, 33, 34, 35, 36, 37, 38, 39, 4, 42, 45, 5, 15, 16, 22, 29, 31, 50, 14, 17, 18, 28, 3, 30, 41, 46, 51, 12, 13, 21, 23, 26, 6, 7, 9, 49, 27, 8, 10, 20                                                                                                                                                                                                                    </td><td>detailed_industry_recode                                                                                                                                                                                                                                                                                                                                                                                                </td><td>TRUE                                                                                                                                                                                                                                                                                                                                                                                                                    </td><td>  52                                                                                                                                                                                                                                                                                                                                                                                                                    </td><td>TRUE                                                                                                                                                                                                                                                                                                                                                                                                                    </td><td>0, 1, 10, 11, 12, 13, 14, 15, 16, 17, 18, 19, 2, 20, 21, 22, 23, 24, 25, 26, 27, 28, 29, 3, 30, 31, 32, 33, 34, 35, 36, 37, 38, 39, 4, 40, 41, 42, 43, 44, 45, 46, 47, 48, 49, 5, 50, 51, 6, 7, 8, 9                                                                                                                                                                                                                    </td><td>TRUE                                                                                                                                                                                                                                                                                                                                                                                                                    </td></tr>\n",
       "\t<tr><td>detailed_occupation_recode                                                                                                                                                                                                                                                                                                                                                                                              </td><td>ADTOCC                                                                                                                                                                                                                                                                                                                                                                                                                  </td><td>47                                                                                                                                                                                                                                                                                                                                                                                                                      </td><td>nominal                                                                                                                                                                                                                                                                                                                                                                                                                 </td><td>0, 12, 31, 44, 19, 32, 10, 23, 26, 28, 29, 42, 40, 34, 14, 36, 38, 2, 20, 25, 37, 41, 27, 24, 30, 43, 33, 16, 45, 17, 35, 22, 18, 39, 3, 15, 13, 46, 8, 21, 9, 4, 6, 5, 1, 11, 7                                                                                                                                                                                                                                        </td><td>detailed_occupation_recode                                                                                                                                                                                                                                                                                                                                                                                              </td><td>TRUE                                                                                                                                                                                                                                                                                                                                                                                                                    </td><td>  47                                                                                                                                                                                                                                                                                                                                                                                                                    </td><td>TRUE                                                                                                                                                                                                                                                                                                                                                                                                                    </td><td>0, 1, 10, 11, 12, 13, 14, 15, 16, 17, 18, 19, 2, 20, 21, 22, 23, 24, 25, 26, 27, 28, 29, 3, 30, 31, 32, 33, 34, 35, 36, 37, 38, 39, 4, 40, 41, 42, 43, 44, 45, 46, 5, 6, 7, 8, 9                                                                                                                                                                                                                                        </td><td>TRUE                                                                                                                                                                                                                                                                                                                                                                                                                    </td></tr>\n",
       "\t<tr><td>education                                                                                                                                                                                                                                                                                                                                                                                                               </td><td>AHGA                                                                                                                                                                                                                                                                                                                                                                                                                    </td><td>17                                                                                                                                                                                                                                                                                                                                                                                                                      </td><td>nominal                                                                                                                                                                                                                                                                                                                                                                                                                 </td><td>Children, 7th and 8th grade, 9th grade, 10th grade, High school graduate, 11th grade, 12th grade no diploma, 5th or 6th grade, Less than 1st grade, Bachelors degree(BA AB BS), 1st 2nd 3rd or 4th grade, Some college but no degree, Masters degree(MA MS MEng MEd MSW MBA), Associates degree-occup /vocational, Associates degree-academic program, Doctorate degree(PhD EdD), Prof school degree (MD DDS DVM LLB JD)</td><td>education                                                                                                                                                                                                                                                                                                                                                                                                               </td><td>TRUE                                                                                                                                                                                                                                                                                                                                                                                                                    </td><td>  17                                                                                                                                                                                                                                                                                                                                                                                                                    </td><td>TRUE                                                                                                                                                                                                                                                                                                                                                                                                                    </td><td>10th grade, 11th grade, 12th grade no diploma, 1st 2nd 3rd or 4th grade, 5th or 6th grade, 7th and 8th grade, 9th grade, Associates degree-academic program, Associates degree-occup /vocational, Bachelors degree(BA AB BS), Children, Doctorate degree(PhD EdD), High school graduate, Less than 1st grade, Masters degree(MA MS MEng MEd MSW MBA), Prof school degree (MD DDS DVM LLB JD), Some college but no degree</td><td>TRUE                                                                                                                                                                                                                                                                                                                                                                                                                    </td></tr>\n",
       "\t<tr><td>wage_per_hour                                                                                                                                                                                                                                                                                                                                                                                                           </td><td>AHRSPAY                                                                                                                                                                                                                                                                                                                                                                                                                 </td><td>1240                                                                                                                                                                                                                                                                                                                                                                                                                    </td><td>continuous                                                                                                                                                                                                                                                                                                                                                                                                              </td><td>continuous                                                                                                                                                                                                                                                                                                                                                                                                              </td><td>wage_per_hour                                                                                                                                                                                                                                                                                                                                                                                                           </td><td>TRUE                                                                                                                                                                                                                                                                                                                                                                                                                    </td><td>1240                                                                                                                                                                                                                                                                                                                                                                                                                    </td><td>TRUE                                                                                                                                                                                                                                                                                                                                                                                                                    </td><td>continuous                                                                                                                                                                                                                                                                                                                                                                                                              </td><td>TRUE                                                                                                                                                                                                                                                                                                                                                                                                                    </td></tr>\n",
       "</tbody>\n",
       "</table>\n"
      ],
      "text/latex": [
       "\\begin{tabular}{r|lllllllllll}\n",
       " var\\_description & var\\_ID & num\\_distinct\\_vals & var\\_type & var\\_factors & sc\\_var\\_description & sc\\_var\\_description\\_bool & sc\\_num\\_unique\\_vals & sc\\_num\\_unique\\_vals\\_bool & sc\\_unique\\_vals & sc\\_unique\\_vals\\_bool\\\\\n",
       "\\hline\n",
       "\t age                                                                                                                                                                                                                                                                                                                                                                                                                      & AAGE                                                                                                                                                                                                                                                                                                                                                                                                                     & 91                                                                                                                                                                                                                                                                                                                                                                                                                       & continuous                                                                                                                                                                                                                                                                                                                                                                                                               & continuous                                                                                                                                                                                                                                                                                                                                                                                                               & age                                                                                                                                                                                                                                                                                                                                                                                                                      & TRUE                                                                                                                                                                                                                                                                                                                                                                                                                     &   91                                                                                                                                                                                                                                                                                                                                                                                                                     & TRUE                                                                                                                                                                                                                                                                                                                                                                                                                     & continuous                                                                                                                                                                                                                                                                                                                                                                                                               & TRUE                                                                                                                                                                                                                                                                                                                                                                                                                    \\\\\n",
       "\t class\\_of\\_worker                                                                                                                                                                                                                                                                                                                                                                                                      & ACLSWKR                                                                                                                                                                                                                                                                                                                                                                                                                  & 9                                                                                                                                                                                                                                                                                                                                                                                                                        & nominal                                                                                                                                                                                                                                                                                                                                                                                                                  & Not in universe, Federal government, Local government, Never worked, Private, Self-employed-incorporated, Self-employed-not incorporated, State government, Without pay                                                                                                                                                                                                                                                  & class\\_of\\_worker                                                                                                                                                                                                                                                                                                                                                                                                      & TRUE                                                                                                                                                                                                                                                                                                                                                                                                                     &    9                                                                                                                                                                                                                                                                                                                                                                                                                     & TRUE                                                                                                                                                                                                                                                                                                                                                                                                                     & Federal government, Local government, Never worked, Not in universe, Private, Self-employed-incorporated, Self-employed-not incorporated, State government, Without pay                                                                                                                                                                                                                                                  & TRUE                                                                                                                                                                                                                                                                                                                                                                                                                    \\\\\n",
       "\t detailed\\_industry\\_recode                                                                                                                                                                                                                                                                                                                                                                                             & ADTIND                                                                                                                                                                                                                                                                                                                                                                                                                   & 52                                                                                                                                                                                                                                                                                                                                                                                                                       & nominal                                                                                                                                                                                                                                                                                                                                                                                                                  & 0, 40, 44, 2, 43, 47, 48, 1, 11, 19, 24, 25, 32, 33, 34, 35, 36, 37, 38, 39, 4, 42, 45, 5, 15, 16, 22, 29, 31, 50, 14, 17, 18, 28, 3, 30, 41, 46, 51, 12, 13, 21, 23, 26, 6, 7, 9, 49, 27, 8, 10, 20                                                                                                                                                                                                                     & detailed\\_industry\\_recode                                                                                                                                                                                                                                                                                                                                                                                             & TRUE                                                                                                                                                                                                                                                                                                                                                                                                                     &   52                                                                                                                                                                                                                                                                                                                                                                                                                     & TRUE                                                                                                                                                                                                                                                                                                                                                                                                                     & 0, 1, 10, 11, 12, 13, 14, 15, 16, 17, 18, 19, 2, 20, 21, 22, 23, 24, 25, 26, 27, 28, 29, 3, 30, 31, 32, 33, 34, 35, 36, 37, 38, 39, 4, 40, 41, 42, 43, 44, 45, 46, 47, 48, 49, 5, 50, 51, 6, 7, 8, 9                                                                                                                                                                                                                     & TRUE                                                                                                                                                                                                                                                                                                                                                                                                                    \\\\\n",
       "\t detailed\\_occupation\\_recode                                                                                                                                                                                                                                                                                                                                                                                           & ADTOCC                                                                                                                                                                                                                                                                                                                                                                                                                   & 47                                                                                                                                                                                                                                                                                                                                                                                                                       & nominal                                                                                                                                                                                                                                                                                                                                                                                                                  & 0, 12, 31, 44, 19, 32, 10, 23, 26, 28, 29, 42, 40, 34, 14, 36, 38, 2, 20, 25, 37, 41, 27, 24, 30, 43, 33, 16, 45, 17, 35, 22, 18, 39, 3, 15, 13, 46, 8, 21, 9, 4, 6, 5, 1, 11, 7                                                                                                                                                                                                                                         & detailed\\_occupation\\_recode                                                                                                                                                                                                                                                                                                                                                                                           & TRUE                                                                                                                                                                                                                                                                                                                                                                                                                     &   47                                                                                                                                                                                                                                                                                                                                                                                                                     & TRUE                                                                                                                                                                                                                                                                                                                                                                                                                     & 0, 1, 10, 11, 12, 13, 14, 15, 16, 17, 18, 19, 2, 20, 21, 22, 23, 24, 25, 26, 27, 28, 29, 3, 30, 31, 32, 33, 34, 35, 36, 37, 38, 39, 4, 40, 41, 42, 43, 44, 45, 46, 5, 6, 7, 8, 9                                                                                                                                                                                                                                         & TRUE                                                                                                                                                                                                                                                                                                                                                                                                                    \\\\\n",
       "\t education                                                                                                                                                                                                                                                                                                                                                                                                                & AHGA                                                                                                                                                                                                                                                                                                                                                                                                                     & 17                                                                                                                                                                                                                                                                                                                                                                                                                       & nominal                                                                                                                                                                                                                                                                                                                                                                                                                  & Children, 7th and 8th grade, 9th grade, 10th grade, High school graduate, 11th grade, 12th grade no diploma, 5th or 6th grade, Less than 1st grade, Bachelors degree(BA AB BS), 1st 2nd 3rd or 4th grade, Some college but no degree, Masters degree(MA MS MEng MEd MSW MBA), Associates degree-occup /vocational, Associates degree-academic program, Doctorate degree(PhD EdD), Prof school degree (MD DDS DVM LLB JD) & education                                                                                                                                                                                                                                                                                                                                                                                                                & TRUE                                                                                                                                                                                                                                                                                                                                                                                                                     &   17                                                                                                                                                                                                                                                                                                                                                                                                                     & TRUE                                                                                                                                                                                                                                                                                                                                                                                                                     & 10th grade, 11th grade, 12th grade no diploma, 1st 2nd 3rd or 4th grade, 5th or 6th grade, 7th and 8th grade, 9th grade, Associates degree-academic program, Associates degree-occup /vocational, Bachelors degree(BA AB BS), Children, Doctorate degree(PhD EdD), High school graduate, Less than 1st grade, Masters degree(MA MS MEng MEd MSW MBA), Prof school degree (MD DDS DVM LLB JD), Some college but no degree & TRUE                                                                                                                                                                                                                                                                                                                                                                                                                    \\\\\n",
       "\t wage\\_per\\_hour                                                                                                                                                                                                                                                                                                                                                                                                        & AHRSPAY                                                                                                                                                                                                                                                                                                                                                                                                                  & 1240                                                                                                                                                                                                                                                                                                                                                                                                                     & continuous                                                                                                                                                                                                                                                                                                                                                                                                               & continuous                                                                                                                                                                                                                                                                                                                                                                                                               & wage\\_per\\_hour                                                                                                                                                                                                                                                                                                                                                                                                        & TRUE                                                                                                                                                                                                                                                                                                                                                                                                                     & 1240                                                                                                                                                                                                                                                                                                                                                                                                                     & TRUE                                                                                                                                                                                                                                                                                                                                                                                                                     & continuous                                                                                                                                                                                                                                                                                                                                                                                                               & TRUE                                                                                                                                                                                                                                                                                                                                                                                                                    \\\\\n",
       "\\end{tabular}\n"
      ],
      "text/markdown": [
       "\n",
       "var_description | var_ID | num_distinct_vals | var_type | var_factors | sc_var_description | sc_var_description_bool | sc_num_unique_vals | sc_num_unique_vals_bool | sc_unique_vals | sc_unique_vals_bool | \n",
       "|---|---|---|---|---|---|\n",
       "| age                                                                                                                                                                                                                                                                                                                                                                                                                      | AAGE                                                                                                                                                                                                                                                                                                                                                                                                                     | 91                                                                                                                                                                                                                                                                                                                                                                                                                       | continuous                                                                                                                                                                                                                                                                                                                                                                                                               | continuous                                                                                                                                                                                                                                                                                                                                                                                                               | age                                                                                                                                                                                                                                                                                                                                                                                                                      | TRUE                                                                                                                                                                                                                                                                                                                                                                                                                     |   91                                                                                                                                                                                                                                                                                                                                                                                                                     | TRUE                                                                                                                                                                                                                                                                                                                                                                                                                     | continuous                                                                                                                                                                                                                                                                                                                                                                                                               | TRUE                                                                                                                                                                                                                                                                                                                                                                                                                     | \n",
       "| class_of_worker                                                                                                                                                                                                                                                                                                                                                                                                          | ACLSWKR                                                                                                                                                                                                                                                                                                                                                                                                                  | 9                                                                                                                                                                                                                                                                                                                                                                                                                        | nominal                                                                                                                                                                                                                                                                                                                                                                                                                  | Not in universe, Federal government, Local government, Never worked, Private, Self-employed-incorporated, Self-employed-not incorporated, State government, Without pay                                                                                                                                                                                                                                                  | class_of_worker                                                                                                                                                                                                                                                                                                                                                                                                          | TRUE                                                                                                                                                                                                                                                                                                                                                                                                                     |    9                                                                                                                                                                                                                                                                                                                                                                                                                     | TRUE                                                                                                                                                                                                                                                                                                                                                                                                                     | Federal government, Local government, Never worked, Not in universe, Private, Self-employed-incorporated, Self-employed-not incorporated, State government, Without pay                                                                                                                                                                                                                                                  | TRUE                                                                                                                                                                                                                                                                                                                                                                                                                     | \n",
       "| detailed_industry_recode                                                                                                                                                                                                                                                                                                                                                                                                 | ADTIND                                                                                                                                                                                                                                                                                                                                                                                                                   | 52                                                                                                                                                                                                                                                                                                                                                                                                                       | nominal                                                                                                                                                                                                                                                                                                                                                                                                                  | 0, 40, 44, 2, 43, 47, 48, 1, 11, 19, 24, 25, 32, 33, 34, 35, 36, 37, 38, 39, 4, 42, 45, 5, 15, 16, 22, 29, 31, 50, 14, 17, 18, 28, 3, 30, 41, 46, 51, 12, 13, 21, 23, 26, 6, 7, 9, 49, 27, 8, 10, 20                                                                                                                                                                                                                     | detailed_industry_recode                                                                                                                                                                                                                                                                                                                                                                                                 | TRUE                                                                                                                                                                                                                                                                                                                                                                                                                     |   52                                                                                                                                                                                                                                                                                                                                                                                                                     | TRUE                                                                                                                                                                                                                                                                                                                                                                                                                     | 0, 1, 10, 11, 12, 13, 14, 15, 16, 17, 18, 19, 2, 20, 21, 22, 23, 24, 25, 26, 27, 28, 29, 3, 30, 31, 32, 33, 34, 35, 36, 37, 38, 39, 4, 40, 41, 42, 43, 44, 45, 46, 47, 48, 49, 5, 50, 51, 6, 7, 8, 9                                                                                                                                                                                                                     | TRUE                                                                                                                                                                                                                                                                                                                                                                                                                     | \n",
       "| detailed_occupation_recode                                                                                                                                                                                                                                                                                                                                                                                               | ADTOCC                                                                                                                                                                                                                                                                                                                                                                                                                   | 47                                                                                                                                                                                                                                                                                                                                                                                                                       | nominal                                                                                                                                                                                                                                                                                                                                                                                                                  | 0, 12, 31, 44, 19, 32, 10, 23, 26, 28, 29, 42, 40, 34, 14, 36, 38, 2, 20, 25, 37, 41, 27, 24, 30, 43, 33, 16, 45, 17, 35, 22, 18, 39, 3, 15, 13, 46, 8, 21, 9, 4, 6, 5, 1, 11, 7                                                                                                                                                                                                                                         | detailed_occupation_recode                                                                                                                                                                                                                                                                                                                                                                                               | TRUE                                                                                                                                                                                                                                                                                                                                                                                                                     |   47                                                                                                                                                                                                                                                                                                                                                                                                                     | TRUE                                                                                                                                                                                                                                                                                                                                                                                                                     | 0, 1, 10, 11, 12, 13, 14, 15, 16, 17, 18, 19, 2, 20, 21, 22, 23, 24, 25, 26, 27, 28, 29, 3, 30, 31, 32, 33, 34, 35, 36, 37, 38, 39, 4, 40, 41, 42, 43, 44, 45, 46, 5, 6, 7, 8, 9                                                                                                                                                                                                                                         | TRUE                                                                                                                                                                                                                                                                                                                                                                                                                     | \n",
       "| education                                                                                                                                                                                                                                                                                                                                                                                                                | AHGA                                                                                                                                                                                                                                                                                                                                                                                                                     | 17                                                                                                                                                                                                                                                                                                                                                                                                                       | nominal                                                                                                                                                                                                                                                                                                                                                                                                                  | Children, 7th and 8th grade, 9th grade, 10th grade, High school graduate, 11th grade, 12th grade no diploma, 5th or 6th grade, Less than 1st grade, Bachelors degree(BA AB BS), 1st 2nd 3rd or 4th grade, Some college but no degree, Masters degree(MA MS MEng MEd MSW MBA), Associates degree-occup /vocational, Associates degree-academic program, Doctorate degree(PhD EdD), Prof school degree (MD DDS DVM LLB JD) | education                                                                                                                                                                                                                                                                                                                                                                                                                | TRUE                                                                                                                                                                                                                                                                                                                                                                                                                     |   17                                                                                                                                                                                                                                                                                                                                                                                                                     | TRUE                                                                                                                                                                                                                                                                                                                                                                                                                     | 10th grade, 11th grade, 12th grade no diploma, 1st 2nd 3rd or 4th grade, 5th or 6th grade, 7th and 8th grade, 9th grade, Associates degree-academic program, Associates degree-occup /vocational, Bachelors degree(BA AB BS), Children, Doctorate degree(PhD EdD), High school graduate, Less than 1st grade, Masters degree(MA MS MEng MEd MSW MBA), Prof school degree (MD DDS DVM LLB JD), Some college but no degree | TRUE                                                                                                                                                                                                                                                                                                                                                                                                                     | \n",
       "| wage_per_hour                                                                                                                                                                                                                                                                                                                                                                                                            | AHRSPAY                                                                                                                                                                                                                                                                                                                                                                                                                  | 1240                                                                                                                                                                                                                                                                                                                                                                                                                     | continuous                                                                                                                                                                                                                                                                                                                                                                                                               | continuous                                                                                                                                                                                                                                                                                                                                                                                                               | wage_per_hour                                                                                                                                                                                                                                                                                                                                                                                                            | TRUE                                                                                                                                                                                                                                                                                                                                                                                                                     | 1240                                                                                                                                                                                                                                                                                                                                                                                                                     | TRUE                                                                                                                                                                                                                                                                                                                                                                                                                     | continuous                                                                                                                                                                                                                                                                                                                                                                                                               | TRUE                                                                                                                                                                                                                                                                                                                                                                                                                     | \n",
       "\n",
       "\n"
      ],
      "text/plain": [
       "  var_description            var_ID  num_distinct_vals var_type  \n",
       "1 age                        AAGE    91                continuous\n",
       "2 class_of_worker            ACLSWKR 9                 nominal   \n",
       "3 detailed_industry_recode   ADTIND  52                nominal   \n",
       "4 detailed_occupation_recode ADTOCC  47                nominal   \n",
       "5 education                  AHGA    17                nominal   \n",
       "6 wage_per_hour              AHRSPAY 1240              continuous\n",
       "  var_factors                                                                                                                                                                                                                                                                                                                                                                                                             \n",
       "1 continuous                                                                                                                                                                                                                                                                                                                                                                                                              \n",
       "2 Not in universe, Federal government, Local government, Never worked, Private, Self-employed-incorporated, Self-employed-not incorporated, State government, Without pay                                                                                                                                                                                                                                                 \n",
       "3 0, 40, 44, 2, 43, 47, 48, 1, 11, 19, 24, 25, 32, 33, 34, 35, 36, 37, 38, 39, 4, 42, 45, 5, 15, 16, 22, 29, 31, 50, 14, 17, 18, 28, 3, 30, 41, 46, 51, 12, 13, 21, 23, 26, 6, 7, 9, 49, 27, 8, 10, 20                                                                                                                                                                                                                    \n",
       "4 0, 12, 31, 44, 19, 32, 10, 23, 26, 28, 29, 42, 40, 34, 14, 36, 38, 2, 20, 25, 37, 41, 27, 24, 30, 43, 33, 16, 45, 17, 35, 22, 18, 39, 3, 15, 13, 46, 8, 21, 9, 4, 6, 5, 1, 11, 7                                                                                                                                                                                                                                        \n",
       "5 Children, 7th and 8th grade, 9th grade, 10th grade, High school graduate, 11th grade, 12th grade no diploma, 5th or 6th grade, Less than 1st grade, Bachelors degree(BA AB BS), 1st 2nd 3rd or 4th grade, Some college but no degree, Masters degree(MA MS MEng MEd MSW MBA), Associates degree-occup /vocational, Associates degree-academic program, Doctorate degree(PhD EdD), Prof school degree (MD DDS DVM LLB JD)\n",
       "6 continuous                                                                                                                                                                                                                                                                                                                                                                                                              \n",
       "  sc_var_description         sc_var_description_bool sc_num_unique_vals\n",
       "1 age                        TRUE                      91              \n",
       "2 class_of_worker            TRUE                       9              \n",
       "3 detailed_industry_recode   TRUE                      52              \n",
       "4 detailed_occupation_recode TRUE                      47              \n",
       "5 education                  TRUE                      17              \n",
       "6 wage_per_hour              TRUE                    1240              \n",
       "  sc_num_unique_vals_bool\n",
       "1 TRUE                   \n",
       "2 TRUE                   \n",
       "3 TRUE                   \n",
       "4 TRUE                   \n",
       "5 TRUE                   \n",
       "6 TRUE                   \n",
       "  sc_unique_vals                                                                                                                                                                                                                                                                                                                                                                                                          \n",
       "1 continuous                                                                                                                                                                                                                                                                                                                                                                                                              \n",
       "2 Federal government, Local government, Never worked, Not in universe, Private, Self-employed-incorporated, Self-employed-not incorporated, State government, Without pay                                                                                                                                                                                                                                                 \n",
       "3 0, 1, 10, 11, 12, 13, 14, 15, 16, 17, 18, 19, 2, 20, 21, 22, 23, 24, 25, 26, 27, 28, 29, 3, 30, 31, 32, 33, 34, 35, 36, 37, 38, 39, 4, 40, 41, 42, 43, 44, 45, 46, 47, 48, 49, 5, 50, 51, 6, 7, 8, 9                                                                                                                                                                                                                    \n",
       "4 0, 1, 10, 11, 12, 13, 14, 15, 16, 17, 18, 19, 2, 20, 21, 22, 23, 24, 25, 26, 27, 28, 29, 3, 30, 31, 32, 33, 34, 35, 36, 37, 38, 39, 4, 40, 41, 42, 43, 44, 45, 46, 5, 6, 7, 8, 9                                                                                                                                                                                                                                        \n",
       "5 10th grade, 11th grade, 12th grade no diploma, 1st 2nd 3rd or 4th grade, 5th or 6th grade, 7th and 8th grade, 9th grade, Associates degree-academic program, Associates degree-occup /vocational, Bachelors degree(BA AB BS), Children, Doctorate degree(PhD EdD), High school graduate, Less than 1st grade, Masters degree(MA MS MEng MEd MSW MBA), Prof school degree (MD DDS DVM LLB JD), Some college but no degree\n",
       "6 continuous                                                                                                                                                                                                                                                                                                                                                                                                              \n",
       "  sc_unique_vals_bool\n",
       "1 TRUE               \n",
       "2 TRUE               \n",
       "3 TRUE               \n",
       "4 TRUE               \n",
       "5 TRUE               \n",
       "6 TRUE               "
      ]
     },
     "metadata": {},
     "output_type": "display_data"
    }
   ],
   "source": [
    "##### VALIDATE METADATA VIS-A-VIS TRAINING DATA #####\n",
    "#saveRDS(object = metadata_df, file = \"resources/metadata_df_sanity_check_training_set.RDS\")\n",
    "head(metadata_df)"
   ]
  },
  {
   "cell_type": "code",
   "execution_count": 446,
   "metadata": {},
   "outputs": [
    {
     "data": {
      "text/html": [
       "<ol class=list-inline>\n",
       "\t<li>'compare_vector_elements'</li>\n",
       "\t<li>'metadata_df'</li>\n",
       "</ol>\n"
      ],
      "text/latex": [
       "\\begin{enumerate*}\n",
       "\\item 'compare\\_vector\\_elements'\n",
       "\\item 'metadata\\_df'\n",
       "\\end{enumerate*}\n"
      ],
      "text/markdown": [
       "1. 'compare_vector_elements'\n",
       "2. 'metadata_df'\n",
       "\n",
       "\n"
      ],
      "text/plain": [
       "[1] \"compare_vector_elements\" \"metadata_df\"            "
      ]
     },
     "metadata": {},
     "output_type": "display_data"
    }
   ],
   "source": [
    "##### GOOD HOUSEKEEPING #####\n",
    "rm(list=setdiff(ls(), c(\"metadata_df\", \"compare_vector_elements\")))\n",
    "ls()"
   ]
  },
  {
   "cell_type": "markdown",
   "metadata": {},
   "source": [
    "# Surveying the Test Data"
   ]
  },
  {
   "cell_type": "code",
   "execution_count": 447,
   "metadata": {},
   "outputs": [],
   "source": [
    "##### READ IN TEST SET #####\n",
    "test_data <- read.csv(file = \"data/census_income_test.csv\")"
   ]
  },
  {
   "cell_type": "code",
   "execution_count": 448,
   "metadata": {},
   "outputs": [],
   "source": [
    "##### ASSIGN VARIABLE NAMES TO TEST SET #####\n",
    "names(test_data) <- c(metadata_df$var_description, \"income\")"
   ]
  },
  {
   "cell_type": "code",
   "execution_count": 449,
   "metadata": {},
   "outputs": [],
   "source": [
    "##### FUNCTION FOR GETTING DISTINCT VALUES #####\n",
    "check_sanity_distinct <- function(var_name){\n",
    "  vals <- trimws(as.character(test_data[,names(test_data) == var_name]))\n",
    "  unique_vals <- sort(unique(vals))\n",
    "  num_unique_vals <- length(unique_vals)\n",
    "  unique_vals <- unique_vals[unique_vals != \"?\"]\n",
    "  unique_vals <- paste(unique_vals, collapse = \", \")\n",
    "  out <- list(var_name = var_name, sc_unique_vals = unique_vals, sc_num_unique_vals = num_unique_vals)\n",
    "  return(out)\n",
    "}"
   ]
  },
  {
   "cell_type": "code",
   "execution_count": 450,
   "metadata": {},
   "outputs": [],
   "source": [
    "##### GET UNIQUE VALUES FROM TEST DATA #####\n",
    "sc_uniques <- lapply(names(test_data)[!names(test_data) %in% c(\"income\")], check_sanity_distinct)\n",
    "sc_var_description <- unlist(lapply(sc_uniques, function(x) x[[1]]))\n",
    "sc_unique_vals <- unlist(lapply(sc_uniques, function(x) x[[2]]))\n",
    "sc_num_unique_vals <- unlist(lapply(sc_uniques, function(x) x[[3]]))    "
   ]
  },
  {
   "cell_type": "code",
   "execution_count": 451,
   "metadata": {},
   "outputs": [],
   "source": [
    "##### CHECK VAR DESCRIPTIONS #####\n",
    "metadata_df$sc_var_description <- sc_var_description\n",
    "metadata_df$sc_var_description_bool <- metadata_df$var_description == metadata_df$sc_var_description"
   ]
  },
  {
   "cell_type": "code",
   "execution_count": 452,
   "metadata": {},
   "outputs": [],
   "source": [
    "##### CHECK NUMBER OF UNIQUE VALUES #####\n",
    "metadata_df$sc_num_unique_vals <- sc_num_unique_vals\n",
    "metadata_df$sc_num_unique_vals_bool <- metadata_df$num_distinct_vals == metadata_df$sc_num_unique_vals"
   ]
  },
  {
   "cell_type": "code",
   "execution_count": 453,
   "metadata": {},
   "outputs": [],
   "source": [
    "##### CHECK UNIQUE VALUES #####\n",
    "metadata_df$sc_unique_vals <- sc_unique_vals\n",
    "metadata_df$sc_unique_vals[metadata_df$var_factors == \"continuous\"] <- \"continuous\"\n",
    "metadata_df$sc_unique_vals_bool <- mapply(compare_vector_elements, metadata_df$var_factors, metadata_df$sc_unique_vals)"
   ]
  },
  {
   "cell_type": "code",
   "execution_count": 454,
   "metadata": {},
   "outputs": [],
   "source": [
    "##### AUDIT NON-MATCHING UNIQUE VALUES #####\n",
    "set_diff_vector_elements <- function(string_1, string_2){\n",
    "  vec_1 <- trimws(unlist(str_split(string = string_1, pattern = \",\")))\n",
    "  vec_2 <- trimws(unlist(str_split(string = string_2, pattern = \",\")))\n",
    "  diffs <- setdiff(vec_1, vec_2)\n",
    "  return(diffs)\n",
    "}"
   ]
  },
  {
   "cell_type": "code",
   "execution_count": 455,
   "metadata": {},
   "outputs": [],
   "source": [
    "# Create subset of observations from categorical variables with non-matching unique values:\n",
    "audit_test_df <- metadata_df %>%\n",
    "  filter(var_type != \"continuous\") %>%\n",
    "  filter(sc_unique_vals_bool == FALSE)"
   ]
  },
  {
   "cell_type": "code",
   "execution_count": 456,
   "metadata": {},
   "outputs": [
    {
     "name": "stdout",
     "output_type": "stream",
     "text": [
      "Grandchild <18 ever marr not in subfamily"
     ]
    }
   ],
   "source": [
    "# Identify which unique values for the relevant variable appears in the training set but not in the test set:\n",
    "factors_not_in_test_set <- set_diff_vector_elements(audit_test_df$var_factors[1], audit_test_df$sc_unique_vals[1])\n",
    "cat(factors_not_in_test_set)"
   ]
  },
  {
   "cell_type": "code",
   "execution_count": 457,
   "metadata": {},
   "outputs": [
    {
     "name": "stdout",
     "output_type": "stream",
     "text": [
      "[1] 23\n",
      "integer(0)\n"
     ]
    }
   ],
   "source": [
    "# Double check missing factors:\n",
    "print(grep(pattern = factors_not_in_test_set, x = metadata_df$var_factors))        # [1] 23\n",
    "print(grep(pattern = factors_not_in_test_set, x = metadata_df$sc_unique_vals))     # integer(0)"
   ]
  },
  {
   "cell_type": "code",
   "execution_count": 458,
   "metadata": {},
   "outputs": [
    {
     "data": {
      "text/html": [
       "'metadata_df'"
      ],
      "text/latex": [
       "'metadata\\_df'"
      ],
      "text/markdown": [
       "'metadata_df'"
      ],
      "text/plain": [
       "[1] \"metadata_df\""
      ]
     },
     "metadata": {},
     "output_type": "display_data"
    }
   ],
   "source": [
    "##### GOOD HOUSEKEEPING #####\n",
    "rm(list=setdiff(ls(), c(\"metadata_df\")))\n",
    "ls()"
   ]
  },
  {
   "cell_type": "markdown",
   "metadata": {},
   "source": [
    "## <font color=green>SUMMARY</font>\n",
    "* The dataset consists of 41 variables, separated in a training set of 199,522 observations and a test set of 99,761 observations.\n",
    "* The only difference between the training set and the test set, is that the test set lacks a factor level that does appear in the training set: \"Grandchild <18 ever marr not in subfamily\" in variable \"detailed household and family stat\".\n",
    "* A missing factor level in the test set is not problematic for the downstream processes planned in this project. The reverse could be problematic, i.e. a factor level that appears in the test set but not in the training set, but it is not the case here."
   ]
  },
  {
   "cell_type": "markdown",
   "metadata": {},
   "source": [
    "# <font color=blue>3. Data Preparation</font>\n",
    "Data preparation in this project consists on the following tasks:\n",
    "1. Building the data frames for data prepration.\n",
    "2. Produce global summary statistics.\n",
    "3. Exploratory data analysis.\n",
    "4. Manual imputation of NA/NIU.\n",
    "5. Recoding categorical variables.\n",
    "6. Treatment of remaining missing values."
   ]
  },
  {
   "cell_type": "markdown",
   "metadata": {},
   "source": [
    "### 1. Building the data frames"
   ]
  },
  {
   "cell_type": "code",
   "execution_count": 459,
   "metadata": {},
   "outputs": [],
   "source": [
    "##### READ IN TRAIN AND TEST SET #####\n",
    "train_data <- read.csv(file = \"data/census_income_learn.csv\", header = FALSE)\n",
    "test_data <- read.csv(file = \"data/census_income_test.csv\", header = FALSE)"
   ]
  },
  {
   "cell_type": "code",
   "execution_count": 460,
   "metadata": {},
   "outputs": [],
   "source": [
    "##### ASSIGN VARIABLE NAMES TO TRAIN AND TEST SET #####\n",
    "names(train_data) <- c(metadata_df$var_description, \"income\")\n",
    "names(test_data) <- c(metadata_df$var_description, \"income\")\n",
    "rm(metadata_df)"
   ]
  },
  {
   "cell_type": "code",
   "execution_count": 461,
   "metadata": {},
   "outputs": [],
   "source": [
    "##### REMOVE COLUMNS NOT RELEVANT FOR EDA #####\n",
    "# Instance Weight: \n",
    "# Criteria (from metadada file): \"The instance weight indicates the number of people in the population that each record represents  \n",
    "#                                 due to stratified sampling. To do real analysis and derive conclusions, this field must be used. \n",
    "#                                 This attribute should *not* be used in the classifiers, so it is set to \"ignore\" in this file.\"\n",
    "train_data$instance_weight <- NULL    \n",
    "test_data$instance_weight <- NULL\n",
    "\n",
    "# Year:\n",
    "# Criteria: Not enough years for making reliable time-series analysis.\n",
    "train_data$year <- NULL    \n",
    "test_data$year <- NULL"
   ]
  },
  {
   "cell_type": "code",
   "execution_count": 462,
   "metadata": {},
   "outputs": [],
   "source": [
    "##### TRANSFORM VARIABLE TYPES #####\n",
    "# detailed_industry_recode:\n",
    "# Criteria: Not a ordinal/cardinal variable.\n",
    "train_data$detailed_industry_recode <- as.factor(train_data$detailed_industry_recode)\n",
    "test_data$detailed_industry_recode <- as.factor(test_data$detailed_industry_recode)\n",
    "\n",
    "# detailed_occupation_recode:\n",
    "# Criteria: Not a ordinal/cardinal variable.# Criteria: Not a cardinal variable.\n",
    "train_data$detailed_occupation_recode <- as.factor(train_data$detailed_occupation_recode)\n",
    "test_data$detailed_occupation_recode <- as.factor(test_data$detailed_occupation_recode)\n",
    "\n",
    "# own_business_or_self_employed:\n",
    "# Criteria: Not a ordinal/cardinal variable.\n",
    "train_data$own_business_or_self_employed <- as.factor(train_data$own_business_or_self_employed)\n",
    "test_data$own_business_or_self_employed <- as.factor(test_data$own_business_or_self_employed)\n",
    "\n",
    "# veterans_benefits:\n",
    "# Criteria: Not a ordinal/cardinal variable.\n",
    "train_data$veterans_benefits <- as.factor(train_data$veterans_benefits)\n",
    "test_data$veterans_benefits <- as.factor(test_data$veterans_benefits)"
   ]
  },
  {
   "cell_type": "code",
   "execution_count": 463,
   "metadata": {},
   "outputs": [],
   "source": [
    "##### CONVERT OUTCOME VARIABLE TO FACTOR #####\n",
    "# Criteria: Required by some algorithms for binary classification. \n",
    "# Facor levels are recoded once again further downstream to enhance human readability. Ar this stage, we're coding the factor levels to 0 and 1. \n",
    "train_data$income <- trimws(as.character(train_data$income)) %>%\n",
    "  recode('- 50000.' = \"0\",  '50000+.' = \"1\") %>%\n",
    "  as.factor()\n",
    "test_data$income <- trimws(as.character(test_data$income)) %>%\n",
    "  recode('- 50000.' = \"0\",  '50000+.' = \"1\") %>%\n",
    "  as.factor()"
   ]
  },
  {
   "cell_type": "code",
   "execution_count": 464,
   "metadata": {},
   "outputs": [],
   "source": [
    "##### RECODE NA / NIU VALUES #####\n",
    "cat_vars_train <- unname(sapply(train_data, class)) == \"factor\"\n",
    "train_data[,cat_vars_train] <- sapply(train_data[,cat_vars_train], as.character) %>%\n",
    "  trimws() %>%\n",
    "  str_replace_all(pattern = \"Not in universe.*$\", replacement = \"NIU\") %>%\n",
    "  str_replace_all(pattern = \"\\\\?\", replacement = \"NA\") %>%\n",
    "  str_replace_all(pattern = \"Not identifiable\", replacement = \"NA\")\n",
    "train_data  <- train_data %>%\n",
    "  mutate_at(.vars = (names(train_data)[cat_vars_train]), funs(as.factor(.)))\n",
    "\n",
    "cat_vars_test <- unname(sapply(test_data, class)) == \"factor\"\n",
    "test_data[,cat_vars_test] <- sapply(test_data[,cat_vars_test], as.character) %>%\n",
    "  trimws() %>%\n",
    "  str_replace_all(pattern = \"Not in universe.*$\", replacement = \"NIU\") %>%\n",
    "  str_replace_all(pattern = \"\\\\?\", replacement = \"NA\") %>%\n",
    "  str_replace_all(pattern = \"Not identifiable\", replacement = \"NA\") \n",
    "test_data  <- test_data %>%\n",
    "  mutate_at(.vars = (names(test_data)[cat_vars_test]), funs(as.factor(.)))"
   ]
  },
  {
   "cell_type": "code",
   "execution_count": 465,
   "metadata": {},
   "outputs": [
    {
     "data": {
      "text/html": [
       "'Folder already exists.'"
      ],
      "text/latex": [
       "'Folder already exists.'"
      ],
      "text/markdown": [
       "'Folder already exists.'"
      ],
      "text/plain": [
       "[1] \"Folder already exists.\""
      ]
     },
     "metadata": {},
     "output_type": "display_data"
    }
   ],
   "source": [
    "##### SAVE DATASETS FOR DOWNSTREAM PROCESSES #####\n",
    "ifelse(!dir.exists(file.path(\"data\")), dir.create(\"data\"), \"Folder already exists.\")\n",
    "#saveRDS(train_data, file = \"data/train_data.RDS\")\n",
    "#saveRDS(test_data, file = \"data/test_data.RDS\")"
   ]
  },
  {
   "cell_type": "code",
   "execution_count": 466,
   "metadata": {},
   "outputs": [
    {
     "data": {
      "text/html": [
       "<ol class=list-inline>\n",
       "\t<li>'cat_vars_test'</li>\n",
       "\t<li>'cat_vars_train'</li>\n",
       "\t<li>'test_data'</li>\n",
       "\t<li>'train_data'</li>\n",
       "</ol>\n"
      ],
      "text/latex": [
       "\\begin{enumerate*}\n",
       "\\item 'cat\\_vars\\_test'\n",
       "\\item 'cat\\_vars\\_train'\n",
       "\\item 'test\\_data'\n",
       "\\item 'train\\_data'\n",
       "\\end{enumerate*}\n"
      ],
      "text/markdown": [
       "1. 'cat_vars_test'\n",
       "2. 'cat_vars_train'\n",
       "3. 'test_data'\n",
       "4. 'train_data'\n",
       "\n",
       "\n"
      ],
      "text/plain": [
       "[1] \"cat_vars_test\"  \"cat_vars_train\" \"test_data\"      \"train_data\"    "
      ]
     },
     "metadata": {},
     "output_type": "display_data"
    }
   ],
   "source": [
    "##### GOOD HOUSEKEEPING #####\n",
    "rm(list=setdiff(ls(), c(\"train_data\", \"test_data\", \"cat_vars_train\", \"cat_vars_test\")))\n",
    "ls()"
   ]
  },
  {
   "cell_type": "markdown",
   "metadata": {},
   "source": [
    "### 2. Produce global summary statistics."
   ]
  },
  {
   "cell_type": "code",
   "execution_count": 467,
   "metadata": {},
   "outputs": [],
   "source": [
    "# For the global summary statistics, assume NIU is also NA:\n",
    "train_data[,cat_vars_train] <- sapply(train_data[,cat_vars_train], as.character)\n",
    "train_data[train_data == \"NA\"] <- NA\n",
    "train_data[train_data == \"NIU\"] <- NA\n",
    "train_data  <- train_data %>%\n",
    "  mutate_at(.vars = (names(train_data)[cat_vars_train]), funs(as.factor(.)))\n",
    "\n",
    "test_data[,cat_vars_test] <- sapply(test_data[,cat_vars_test], as.character)\n",
    "test_data[test_data == \"NA\"] <- NA\n",
    "test_data[test_data == \"NIU\"] <- NA\n",
    "test_data  <- test_data %>%\n",
    "  mutate_at(.vars = (names(test_data)[cat_vars_test]), funs(as.factor(.)))"
   ]
  },
  {
   "cell_type": "code",
   "execution_count": 468,
   "metadata": {},
   "outputs": [
    {
     "data": {
      "text/plain": [
       "train_data \n",
       "\n",
       " 40  Variables      199523  Observations\n",
       "--------------------------------------------------------------------------------\n",
       "age \n",
       "       n  missing distinct     Info     Mean      Gmd      .05      .10 \n",
       "  199523        0       91        1    34.49    25.47        3        6 \n",
       "     .25      .50      .75      .90      .95 \n",
       "      15       33       50       67       75 \n",
       "\n",
       "lowest :  0  1  2  3  4, highest: 86 87 88 89 90\n",
       "--------------------------------------------------------------------------------\n",
       "class_of_worker \n",
       "       n  missing distinct \n",
       "   99278   100245        8 \n",
       "\n",
       "Federal government (2925, 0.029), Local government (7784, 0.078), Never worked\n",
       "(439, 0.004), Private (72028, 0.726), Self-employed-incorporated (3265, 0.033),\n",
       "Self-employed-not incorporated (8445, 0.085), State government (4227, 0.043),\n",
       "Without pay (165, 0.002)\n",
       "--------------------------------------------------------------------------------\n",
       "detailed_industry_recode \n",
       "       n  missing distinct \n",
       "  199523        0       52 \n",
       "\n",
       "lowest : 0  1  10 11 12, highest: 51 6  7  8  9 \n",
       "--------------------------------------------------------------------------------\n",
       "detailed_occupation_recode \n",
       "       n  missing distinct \n",
       "  199523        0       47 \n",
       "\n",
       "lowest : 0  1  10 11 12, highest: 5  6  7  8  9 \n",
       "--------------------------------------------------------------------------------\n",
       "education \n",
       "       n  missing distinct \n",
       "  199523        0       17 \n",
       "\n",
       "lowest : 10th grade                             11th grade                             12th grade no diploma                  1st 2nd 3rd or 4th grade               5th or 6th grade                      \n",
       "highest: High school graduate                   Less than 1st grade                    Masters degree(MA MS MEng MEd MSW MBA) Prof school degree (MD DDS DVM LLB JD) Some college but no degree            \n",
       "--------------------------------------------------------------------------------\n",
       "wage_per_hour \n",
       "       n  missing distinct     Info     Mean      Gmd      .05      .10 \n",
       "  199523        0     1240    0.161    55.43    106.4        0        0 \n",
       "     .25      .50      .75      .90      .95 \n",
       "       0        0        0        0      495 \n",
       "\n",
       "lowest :    0   20   70   75  100, highest: 9000 9400 9800 9916 9999\n",
       "--------------------------------------------------------------------------------\n",
       "enroll_in_edu_inst_last_wk \n",
       "       n  missing distinct \n",
       "   12580   186943        2 \n",
       "                                                      \n",
       "Value      College or university           High school\n",
       "Frequency                   5688                  6892\n",
       "Proportion                 0.452                 0.548\n",
       "--------------------------------------------------------------------------------\n",
       "marital_stat \n",
       "       n  missing distinct \n",
       "  199523        0        7 \n",
       "\n",
       "Divorced (12710, 0.064), Married-A F spouse present (665, 0.003),\n",
       "Married-civilian spouse present (84222, 0.422), Married-spouse absent (1518,\n",
       "0.008), Never married (86485, 0.433), Separated (3460, 0.017), Widowed (10463,\n",
       "0.052)\n",
       "--------------------------------------------------------------------------------\n",
       "major_industry_code \n",
       "       n  missing distinct \n",
       "   98839   100684       23 \n",
       "\n",
       "lowest : Agriculture                     Armed Forces                    Business and repair services    Communications                  Construction                   \n",
       "highest: Retail trade                    Social services                 Transportation                  Utilities and sanitary services Wholesale trade                \n",
       "--------------------------------------------------------------------------------\n",
       "major_occupation_code \n",
       "       n  missing distinct \n",
       "   98839   100684       14 \n",
       "\n",
       "lowest : Adm support including clerical     Armed Forces                       Executive admin and managerial     Farming forestry and fishing       Handlers equip cleaners etc       \n",
       "highest: Professional specialty             Protective services                Sales                              Technicians and related support    Transportation and material moving\n",
       "--------------------------------------------------------------------------------\n",
       "race \n",
       "       n  missing distinct \n",
       "  199523        0        5 \n",
       "\n",
       "Amer Indian Aleut or Eskimo (2251, 0.011), Asian or Pacific Islander (5835,\n",
       "0.029), Black (20415, 0.102), Other (3657, 0.018), White (167365, 0.839)\n",
       "--------------------------------------------------------------------------------\n",
       "hispanic_origin \n",
       "       n  missing distinct \n",
       "  198649      874        9 \n",
       "\n",
       "All other (171907, 0.865), Central or South American (3895, 0.020), Chicano\n",
       "(304, 0.002), Cuban (1126, 0.006), Do not know (306, 0.002), Mexican-American\n",
       "(8079, 0.041), Mexican (Mexicano) (7234, 0.036), Other Spanish (2485, 0.013),\n",
       "Puerto Rican (3313, 0.017)\n",
       "--------------------------------------------------------------------------------\n",
       "sex \n",
       "       n  missing distinct \n",
       "  199523        0        2 \n",
       "                        \n",
       "Value      Female   Male\n",
       "Frequency  103984  95539\n",
       "Proportion  0.521  0.479\n",
       "--------------------------------------------------------------------------------\n",
       "member_of_a_labor_union \n",
       "       n  missing distinct \n",
       "   19064   180459        2 \n",
       "                      \n",
       "Value         No   Yes\n",
       "Frequency  16034  3030\n",
       "Proportion 0.841 0.159\n",
       "--------------------------------------------------------------------------------\n",
       "reason_for_unemployment \n",
       "       n  missing distinct \n",
       "    6070   193453        5 \n",
       "                                                                            \n",
       "Value                 Job leaver Job loser - on layoff           New entrant\n",
       "Frequency                    598                   976                   439\n",
       "Proportion                 0.099                 0.161                 0.072\n",
       "                                                      \n",
       "Value            Other job loser            Re-entrant\n",
       "Frequency                   2038                  2019\n",
       "Proportion                 0.336                 0.333\n",
       "--------------------------------------------------------------------------------\n",
       "full_or_part_time_employment_stat \n",
       "       n  missing distinct \n",
       "  199523        0        8 \n",
       "\n",
       "Children or Armed Forces (123769, 0.620), Full-time schedules (40736, 0.204),\n",
       "Not in labor force (26808, 0.134), PT for econ reasons usually FT (525, 0.003),\n",
       "PT for econ reasons usually PT (1209, 0.006), PT for non-econ reasons usually\n",
       "FT (3322, 0.017), Unemployed full-time (2311, 0.012), Unemployed part- time\n",
       "(843, 0.004)\n",
       "--------------------------------------------------------------------------------\n",
       "capital_gains \n",
       "       n  missing distinct     Info     Mean      Gmd      .05      .10 \n",
       "  199523        0      132    0.107    434.7      857        0        0 \n",
       "     .25      .50      .75      .90      .95 \n",
       "       0        0        0        0        0 \n",
       "\n",
       "lowest :     0   114   401   594   914, highest: 25236 27828 34095 41310 99999\n",
       "--------------------------------------------------------------------------------\n",
       "capital_losses \n",
       "       n  missing distinct     Info     Mean      Gmd      .05      .10 \n",
       "  199523        0      113    0.058    37.31    73.34        0        0 \n",
       "     .25      .50      .75      .90      .95 \n",
       "       0        0        0        0        0 \n",
       "\n",
       "lowest :    0  155  213  323  419, highest: 3683 3770 3900 4356 4608\n",
       "--------------------------------------------------------------------------------\n",
       "dividends_from_stocks \n",
       "       n  missing distinct     Info     Mean      Gmd      .05      .10 \n",
       "  199523        0     1478    0.285    197.5    386.6        0        0 \n",
       "     .25      .50      .75      .90      .95 \n",
       "       0        0        0        7      400 \n",
       "\n",
       "lowest :     0     1     2     3     4, highest: 66621 70000 75000 95095 99999\n",
       "--------------------------------------------------------------------------------\n",
       "tax_filer_stat \n",
       "       n  missing distinct \n",
       "  199523        0        6 \n",
       "\n",
       "Head of household (7426, 0.037), Joint both 65+ (8332, 0.042), Joint both under\n",
       "65 (67383, 0.338), Joint one under 65 & one 65+ (3867, 0.019), Nonfiler (75094,\n",
       "0.376), Single (37421, 0.188)\n",
       "--------------------------------------------------------------------------------\n",
       "region_of_previous_residence \n",
       "       n  missing distinct \n",
       "   15773   183750        5 \n",
       "                                                            \n",
       "Value         Abroad   Midwest Northeast     South      West\n",
       "Frequency        530      3575      2705      4889      4074\n",
       "Proportion     0.034     0.227     0.171     0.310     0.258\n",
       "--------------------------------------------------------------------------------\n",
       "state_of_previous_residence \n",
       "       n  missing distinct \n",
       "   15065   184458       49 \n",
       "\n",
       "lowest : Abroad        Alabama       Alaska        Arizona       Arkansas     \n",
       "highest: Vermont       Virginia      West Virginia Wisconsin     Wyoming      \n",
       "--------------------------------------------------------------------------------\n",
       "detailed_household_and_family_stat \n",
       "       n  missing distinct \n",
       "  199523        0       38 \n",
       "\n",
       "lowest : Child <18 ever marr not in subfamily  Child <18 ever marr RP of subfamily   Child <18 never marr not in subfamily Child <18 never marr RP of subfamily  Child <18 spouse of subfamily RP     \n",
       "highest: Other Rel 18+ spouse of subfamily RP  RP of unrelated subfamily             Secondary individual                  Spouse of householder                 Spouse of RP of unrelated subfamily  \n",
       "--------------------------------------------------------------------------------\n",
       "detailed_household_summary_in_household \n",
       "       n  missing distinct \n",
       "  199523        0        8 \n",
       "\n",
       "Child 18 or older (14430, 0.072), Child under 18 ever married (47, 0.000),\n",
       "Child under 18 never married (50426, 0.253), Group Quarters- Secondary\n",
       "individual (132, 0.001), Householder (75475, 0.378), Nonrelative of householder\n",
       "(7601, 0.038), Other relative of householder (9703, 0.049), Spouse of\n",
       "householder (41709, 0.209)\n",
       "--------------------------------------------------------------------------------\n",
       "migration_code-change_in_msa \n",
       "       n  missing distinct \n",
       "   97881   101642        7 \n",
       "                                                                              \n",
       "Value         Abroad to MSA Abroad to nonMSA       MSA to MSA    MSA to nonMSA\n",
       "Frequency               453               73            10601              790\n",
       "Proportion            0.005            0.001            0.108            0.008\n",
       "                                                             \n",
       "Value              Nonmover    NonMSA to MSA NonMSA to nonMSA\n",
       "Frequency             82538              615             2811\n",
       "Proportion            0.843            0.006            0.029\n",
       "--------------------------------------------------------------------------------\n",
       "migration_code-change_in_reg \n",
       "       n  missing distinct \n",
       "   98311   101212        7 \n",
       "\n",
       "Abroad (530, 0.005), Different county same state (2797, 0.028), Different\n",
       "division same region (465, 0.005), Different region (1178, 0.012), Different\n",
       "state same division (991, 0.010), Nonmover (82538, 0.840), Same county (9812,\n",
       "0.100)\n",
       "--------------------------------------------------------------------------------\n",
       "migration_code-move_within_reg \n",
       "       n  missing distinct \n",
       "   98311   101212        8 \n",
       "\n",
       "Abroad (530, 0.005), Different county same state (2797, 0.028), Different state\n",
       "in Midwest (551, 0.006), Different state in Northeast (431, 0.004), Different\n",
       "state in South (973, 0.010), Different state in West (679, 0.007), Nonmover\n",
       "(82538, 0.840), Same county (9812, 0.100)\n",
       "--------------------------------------------------------------------------------\n",
       "live_in_this_house_1_year_ago \n",
       "       n  missing distinct \n",
       "   98311   101212        2 \n",
       "                      \n",
       "Value         No   Yes\n",
       "Frequency  15773 82538\n",
       "Proportion  0.16  0.84\n",
       "--------------------------------------------------------------------------------\n",
       "migration_prev_res_in_sunbelt \n",
       "       n  missing distinct \n",
       "   15773   183750        2 \n",
       "                      \n",
       "Value         No   Yes\n",
       "Frequency   9987  5786\n",
       "Proportion 0.633 0.367\n",
       "--------------------------------------------------------------------------------\n",
       "num_persons_worked_for_employer \n",
       "       n  missing distinct     Info     Mean      Gmd \n",
       "  199523        0        7     0.88    1.956    2.479 \n",
       "                                                    \n",
       "Value          0     1     2     3     4     5     6\n",
       "Frequency  95983 23109 10081 13425 14379  6035 36511\n",
       "Proportion 0.481 0.116 0.051 0.067 0.072 0.030 0.183\n",
       "--------------------------------------------------------------------------------\n",
       "family_members_under_18 \n",
       "       n  missing distinct \n",
       "   55291   144232        4 \n",
       "                                                                               \n",
       "Value        Both parents present    Father only present    Mother only present\n",
       "Frequency                   38983                   1883                  12772\n",
       "Proportion                  0.705                  0.034                  0.231\n",
       "                                 \n",
       "Value      Neither parent present\n",
       "Frequency                    1653\n",
       "Proportion                  0.030\n",
       "--------------------------------------------------------------------------------\n",
       "country_of_birth_father \n",
       "       n  missing distinct \n",
       "  192810     6713       42 \n",
       "\n",
       "lowest : Cambodia        Canada          China           Columbia        Cuba           \n",
       "highest: Thailand        Trinadad&Tobago United-States   Vietnam         Yugoslavia     \n",
       "--------------------------------------------------------------------------------\n",
       "country_of_birth_mother \n",
       "       n  missing distinct \n",
       "  193404     6119       42 \n",
       "\n",
       "lowest : Cambodia        Canada          China           Columbia        Cuba           \n",
       "highest: Thailand        Trinadad&Tobago United-States   Vietnam         Yugoslavia     \n",
       "--------------------------------------------------------------------------------\n",
       "country_of_birth_self \n",
       "       n  missing distinct \n",
       "  196130     3393       42 \n",
       "\n",
       "lowest : Cambodia        Canada          China           Columbia        Cuba           \n",
       "highest: Thailand        Trinadad&Tobago United-States   Vietnam         Yugoslavia     \n",
       "--------------------------------------------------------------------------------\n",
       "citizenship \n",
       "       n  missing distinct \n",
       "  199523        0        5 \n",
       "\n",
       "Foreign born- Not a citizen of U S (13401, 0.067), Foreign born- U S citizen by\n",
       "naturalization (5855, 0.029), Native- Born abroad of American Parent(s) (1756,\n",
       "0.009), Native- Born in Puerto Rico or U S Outlying (1519, 0.008), Native- Born\n",
       "in the United States (176992, 0.887)\n",
       "--------------------------------------------------------------------------------\n",
       "own_business_or_self_employed \n",
       "       n  missing distinct \n",
       "  199523        0        3 \n",
       "                               \n",
       "Value           0      1      2\n",
       "Frequency  180672   2698  16153\n",
       "Proportion  0.906  0.014  0.081\n",
       "--------------------------------------------------------------------------------\n",
       "fill_inc_questionnaire_for_veterans_admin \n",
       "       n  missing distinct \n",
       "    1984   197539        2 \n",
       "                      \n",
       "Value         No   Yes\n",
       "Frequency   1593   391\n",
       "Proportion 0.803 0.197\n",
       "--------------------------------------------------------------------------------\n",
       "veterans_benefits \n",
       "       n  missing distinct \n",
       "  199523        0        3 \n",
       "                               \n",
       "Value           0      1      2\n",
       "Frequency   47409   1984 150130\n",
       "Proportion  0.238  0.010  0.752\n",
       "--------------------------------------------------------------------------------\n",
       "weeks_worked_in_year \n",
       "       n  missing distinct     Info     Mean      Gmd      .05      .10 \n",
       "  199523        0       53    0.845    23.17    25.47        0        0 \n",
       "     .25      .50      .75      .90      .95 \n",
       "       0        8       52       52       52 \n",
       "\n",
       "lowest :  0  1  2  3  4, highest: 48 49 50 51 52\n",
       "--------------------------------------------------------------------------------\n",
       "income \n",
       "       n  missing distinct \n",
       "  199523        0        2 \n",
       "                        \n",
       "Value           0      1\n",
       "Frequency  187141  12382\n",
       "Proportion  0.938  0.062\n",
       "--------------------------------------------------------------------------------"
      ]
     },
     "metadata": {},
     "output_type": "display_data"
    }
   ],
   "source": [
    "##### ESTIMATE GLOBAL SUMMARY STATISTICS FOR TRAIN SET #####\n",
    "Hmisc::describe(train_data)"
   ]
  },
  {
   "cell_type": "code",
   "execution_count": 469,
   "metadata": {},
   "outputs": [
    {
     "data": {
      "text/plain": [
       "test_data \n",
       "\n",
       " 40  Variables      99762  Observations\n",
       "--------------------------------------------------------------------------------\n",
       "age \n",
       "       n  missing distinct     Info     Mean      Gmd      .05      .10 \n",
       "   99762        0       91        1    34.63     25.5        3        6 \n",
       "     .25      .50      .75      .90      .95 \n",
       "      16       33       50       68       75 \n",
       "\n",
       "lowest :  0  1  2  3  4, highest: 86 87 88 89 90\n",
       "--------------------------------------------------------------------------------\n",
       "class_of_worker \n",
       "       n  missing distinct \n",
       "   49683    50079        8 \n",
       "\n",
       "Federal government (1405, 0.028), Local government (3833, 0.077), Never worked\n",
       "(204, 0.004), Private (36071, 0.726), Self-employed-incorporated (1648, 0.033),\n",
       "Self-employed-not incorporated (4280, 0.086), State government (2167, 0.044),\n",
       "Without pay (75, 0.002)\n",
       "--------------------------------------------------------------------------------\n",
       "detailed_industry_recode \n",
       "       n  missing distinct \n",
       "   99762        0       52 \n",
       "\n",
       "lowest : 0  1  10 11 12, highest: 51 6  7  8  9 \n",
       "--------------------------------------------------------------------------------\n",
       "detailed_occupation_recode \n",
       "       n  missing distinct \n",
       "   99762        0       47 \n",
       "\n",
       "lowest : 0  1  10 11 12, highest: 5  6  7  8  9 \n",
       "--------------------------------------------------------------------------------\n",
       "education \n",
       "       n  missing distinct \n",
       "   99762        0       17 \n",
       "\n",
       "lowest : 10th grade                             11th grade                             12th grade no diploma                  1st 2nd 3rd or 4th grade               5th or 6th grade                      \n",
       "highest: High school graduate                   Less than 1st grade                    Masters degree(MA MS MEng MEd MSW MBA) Prof school degree (MD DDS DVM LLB JD) Some college but no degree            \n",
       "--------------------------------------------------------------------------------\n",
       "wage_per_hour \n",
       "       n  missing distinct     Info     Mean      Gmd      .05      .10 \n",
       "   99762        0      894    0.159    54.46    104.6        0        0 \n",
       "     .25      .50      .75      .90      .95 \n",
       "       0        0        0        0      475 \n",
       "\n",
       "lowest :    0  100  150  178  200, highest: 7700 8000 8800 8831 9900\n",
       "--------------------------------------------------------------------------------\n",
       "enroll_in_edu_inst_last_wk \n",
       "       n  missing distinct \n",
       "    6338    93424        2 \n",
       "                                                      \n",
       "Value      College or university           High school\n",
       "Frequency                   2832                  3506\n",
       "Proportion                 0.447                 0.553\n",
       "--------------------------------------------------------------------------------\n",
       "marital_stat \n",
       "       n  missing distinct \n",
       "   99762        0        7 \n",
       "\n",
       "Divorced (6450, 0.065), Married-A F spouse present (339, 0.003),\n",
       "Married-civilian spouse present (42093, 0.422), Married-spouse absent (716,\n",
       "0.007), Never married (43143, 0.432), Separated (1696, 0.017), Widowed (5325,\n",
       "0.053)\n",
       "--------------------------------------------------------------------------------\n",
       "major_industry_code \n",
       "       n  missing distinct \n",
       "   49479    50283       23 \n",
       "\n",
       "lowest : Agriculture                     Armed Forces                    Business and repair services    Communications                  Construction                   \n",
       "highest: Retail trade                    Social services                 Transportation                  Utilities and sanitary services Wholesale trade                \n",
       "--------------------------------------------------------------------------------\n",
       "major_occupation_code \n",
       "       n  missing distinct \n",
       "   49479    50283       14 \n",
       "\n",
       "lowest : Adm support including clerical     Armed Forces                       Executive admin and managerial     Farming forestry and fishing       Handlers equip cleaners etc       \n",
       "highest: Professional specialty             Protective services                Sales                              Technicians and related support    Transportation and material moving\n",
       "--------------------------------------------------------------------------------\n",
       "race \n",
       "       n  missing distinct \n",
       "   99762        0        5 \n",
       "\n",
       "Amer Indian Aleut or Eskimo (1209, 0.012), Asian or Pacific Islander (2913,\n",
       "0.029), Black (10124, 0.101), Other (1903, 0.019), White (83613, 0.838)\n",
       "--------------------------------------------------------------------------------\n",
       "hispanic_origin \n",
       "       n  missing distinct \n",
       "   99357      405        9 \n",
       "\n",
       "All other (85923, 0.865), Central or South American (1987, 0.020), Chicano\n",
       "(170, 0.002), Cuban (616, 0.006), Do not know (140, 0.001), Mexican-American\n",
       "(4001, 0.040), Mexican (Mexicano) (3695, 0.037), Other Spanish (1243, 0.013),\n",
       "Puerto Rican (1582, 0.016)\n",
       "--------------------------------------------------------------------------------\n",
       "sex \n",
       "       n  missing distinct \n",
       "   99762        0        2 \n",
       "                        \n",
       "Value      Female   Male\n",
       "Frequency   51791  47971\n",
       "Proportion  0.519  0.481\n",
       "--------------------------------------------------------------------------------\n",
       "member_of_a_labor_union \n",
       "       n  missing distinct \n",
       "    9479    90283        2 \n",
       "                      \n",
       "Value         No   Yes\n",
       "Frequency   8034  1445\n",
       "Proportion 0.848 0.152\n",
       "--------------------------------------------------------------------------------\n",
       "reason_for_unemployment \n",
       "       n  missing distinct \n",
       "    3130    96632        5 \n",
       "                                                                            \n",
       "Value                 Job leaver Job loser - on layoff           New entrant\n",
       "Frequency                    286                   508                   204\n",
       "Proportion                 0.091                 0.162                 0.065\n",
       "                                                      \n",
       "Value            Other job loser            Re-entrant\n",
       "Frequency                   1108                  1024\n",
       "Proportion                 0.354                 0.327\n",
       "--------------------------------------------------------------------------------\n",
       "full_or_part_time_employment_stat \n",
       "       n  missing distinct \n",
       "   99762        0        8 \n",
       "\n",
       "Children or Armed Forces (61690, 0.618), Full-time schedules (20467, 0.205),\n",
       "Not in labor force (13413, 0.134), PT for econ reasons usually FT (258, 0.003),\n",
       "PT for econ reasons usually PT (583, 0.006), PT for non-econ reasons usually FT\n",
       "(1735, 0.017), Unemployed full-time (1205, 0.012), Unemployed part- time (411,\n",
       "0.004)\n",
       "--------------------------------------------------------------------------------\n",
       "capital_gains \n",
       "       n  missing distinct     Info     Mean      Gmd      .05      .10 \n",
       "   99762        0      123    0.108    425.8    839.3        0        0 \n",
       "     .25      .50      .75      .90      .95 \n",
       "       0        0        0        0        0 \n",
       "\n",
       "lowest :     0   114   401   594   914, highest: 25236 27828 34095 41310 99999\n",
       "--------------------------------------------------------------------------------\n",
       "capital_losses \n",
       "       n  missing distinct     Info     Mean      Gmd      .05      .10 \n",
       "   99762        0      111    0.056    35.92    70.63        0        0 \n",
       "     .25      .50      .75      .90      .95 \n",
       "       0        0        0        0        0 \n",
       "\n",
       "lowest :    0  155  213  323  419, highest: 3683 3770 3900 4356 4608\n",
       "--------------------------------------------------------------------------------\n",
       "dividends_from_stocks \n",
       "       n  missing distinct     Info     Mean      Gmd      .05      .10 \n",
       "   99762        0     1140    0.284    192.5    376.7        0        0 \n",
       "     .25      .50      .75      .90      .95 \n",
       "       0        0        0        6      400 \n",
       "\n",
       "lowest :     0     1     2     3     4, highest: 60000 75000 81000 90000 99999\n",
       "--------------------------------------------------------------------------------\n",
       "tax_filer_stat \n",
       "       n  missing distinct \n",
       "   99762        0        6 \n",
       "\n",
       "Head of household (3757, 0.038), Joint both 65+ (4194, 0.042), Joint both under\n",
       "65 (33572, 0.337), Joint one under 65 & one 65+ (1977, 0.020), Nonfiler (37368,\n",
       "0.375), Single (18894, 0.189)\n",
       "--------------------------------------------------------------------------------\n",
       "region_of_previous_residence \n",
       "       n  missing distinct \n",
       "    7694    92068        5 \n",
       "                                                            \n",
       "Value         Abroad   Midwest Northeast     South      West\n",
       "Frequency        203      1698      1322      2425      2046\n",
       "Proportion     0.026     0.221     0.172     0.315     0.266\n",
       "--------------------------------------------------------------------------------\n",
       "state_of_previous_residence \n",
       "       n  missing distinct \n",
       "    7364    92398       49 \n",
       "\n",
       "lowest : Abroad        Alabama       Alaska        Arizona       Arkansas     \n",
       "highest: Vermont       Virginia      West Virginia Wisconsin     Wyoming      \n",
       "--------------------------------------------------------------------------------\n",
       "detailed_household_and_family_stat \n",
       "       n  missing distinct \n",
       "   99762        0       37 \n",
       "\n",
       "lowest : Child <18 ever marr not in subfamily  Child <18 ever marr RP of subfamily   Child <18 never marr not in subfamily Child <18 never marr RP of subfamily  Child <18 spouse of subfamily RP     \n",
       "highest: Other Rel 18+ spouse of subfamily RP  RP of unrelated subfamily             Secondary individual                  Spouse of householder                 Spouse of RP of unrelated subfamily  \n",
       "--------------------------------------------------------------------------------\n",
       "detailed_household_summary_in_household \n",
       "       n  missing distinct \n",
       "   99762        0        8 \n",
       "\n",
       "Child 18 or older (7339, 0.074), Child under 18 ever married (22, 0.000), Child\n",
       "under 18 never married (25039, 0.251), Group Quarters- Secondary individual\n",
       "(55, 0.001), Householder (37943, 0.380), Nonrelative of householder (3877,\n",
       "0.039), Other relative of householder (4830, 0.048), Spouse of householder\n",
       "(20657, 0.207)\n",
       "--------------------------------------------------------------------------------\n",
       "migration_code-change_in_msa \n",
       "       n  missing distinct \n",
       "   48893    50869        7 \n",
       "                                                                              \n",
       "Value         Abroad to MSA Abroad to nonMSA       MSA to MSA    MSA to nonMSA\n",
       "Frequency               166               36             5289              364\n",
       "Proportion            0.003            0.001            0.108            0.007\n",
       "                                                             \n",
       "Value              Nonmover    NonMSA to MSA NonMSA to nonMSA\n",
       "Frequency             41399              295             1344\n",
       "Proportion            0.847            0.006            0.027\n",
       "--------------------------------------------------------------------------------\n",
       "migration_code-change_in_reg \n",
       "       n  missing distinct \n",
       "   49093    50669        7 \n",
       "\n",
       "Abroad (203, 0.004), Different county same state (1329, 0.027), Different\n",
       "division same region (226, 0.005), Different region (583, 0.012), Different\n",
       "state same division (474, 0.010), Nonmover (41399, 0.843), Same county (4879,\n",
       "0.099)\n",
       "--------------------------------------------------------------------------------\n",
       "migration_code-move_within_reg \n",
       "       n  missing distinct \n",
       "   49093    50669        8 \n",
       "\n",
       "Abroad (203, 0.004), Different county same state (1329, 0.027), Different state\n",
       "in Midwest (242, 0.005), Different state in Northeast (208, 0.004), Different\n",
       "state in South (475, 0.010), Different state in West (358, 0.007), Nonmover\n",
       "(41399, 0.843), Same county (4879, 0.099)\n",
       "--------------------------------------------------------------------------------\n",
       "live_in_this_house_1_year_ago \n",
       "       n  missing distinct \n",
       "   49093    50669        2 \n",
       "                      \n",
       "Value         No   Yes\n",
       "Frequency   7694 41399\n",
       "Proportion 0.157 0.843\n",
       "--------------------------------------------------------------------------------\n",
       "migration_prev_res_in_sunbelt \n",
       "       n  missing distinct \n",
       "    7694    92068        2 \n",
       "                      \n",
       "Value         No   Yes\n",
       "Frequency   4811  2883\n",
       "Proportion 0.625 0.375\n",
       "--------------------------------------------------------------------------------\n",
       "num_persons_worked_for_employer \n",
       "       n  missing distinct     Info     Mean      Gmd \n",
       "   99762        0        7    0.881    1.956    2.479 \n",
       "                                                    \n",
       "Value          0     1     2     3     4     5     6\n",
       "Frequency  47889 11643  5080  6836  7059  2927 18328\n",
       "Proportion 0.480 0.117 0.051 0.069 0.071 0.029 0.184\n",
       "--------------------------------------------------------------------------------\n",
       "family_members_under_18 \n",
       "       n  missing distinct \n",
       "   27368    72394        4 \n",
       "                                                                               \n",
       "Value        Both parents present    Father only present    Mother only present\n",
       "Frequency                   19359                    944                   6257\n",
       "Proportion                  0.707                  0.034                  0.229\n",
       "                                 \n",
       "Value      Neither parent present\n",
       "Frequency                     808\n",
       "Proportion                  0.030\n",
       "--------------------------------------------------------------------------------\n",
       "country_of_birth_father \n",
       "       n  missing distinct \n",
       "   96333     3429       42 \n",
       "\n",
       "lowest : Cambodia        Canada          China           Columbia        Cuba           \n",
       "highest: Thailand        Trinadad&Tobago United-States   Vietnam         Yugoslavia     \n",
       "--------------------------------------------------------------------------------\n",
       "country_of_birth_mother \n",
       "       n  missing distinct \n",
       "   96690     3072       42 \n",
       "\n",
       "lowest : Cambodia        Canada          China           Columbia        Cuba           \n",
       "highest: Thailand        Trinadad&Tobago United-States   Vietnam         Yugoslavia     \n",
       "--------------------------------------------------------------------------------\n",
       "country_of_birth_self \n",
       "       n  missing distinct \n",
       "   97998     1764       42 \n",
       "\n",
       "lowest : Cambodia        Canada          China           Columbia        Cuba           \n",
       "highest: Thailand        Trinadad&Tobago United-States   Vietnam         Yugoslavia     \n",
       "--------------------------------------------------------------------------------\n",
       "citizenship \n",
       "       n  missing distinct \n",
       "   99762        0        5 \n",
       "\n",
       "Foreign born- Not a citizen of U S (6706, 0.067), Foreign born- U S citizen by\n",
       "naturalization (3012, 0.030), Native- Born abroad of American Parent(s) (951,\n",
       "0.010), Native- Born in Puerto Rico or U S Outlying (738, 0.007), Native- Born\n",
       "in the United States (88355, 0.886)\n",
       "--------------------------------------------------------------------------------\n",
       "own_business_or_self_employed \n",
       "       n  missing distinct \n",
       "   99762        0        3 \n",
       "                            \n",
       "Value          0     1     2\n",
       "Frequency  90188  1340  8234\n",
       "Proportion 0.904 0.013 0.083\n",
       "--------------------------------------------------------------------------------\n",
       "fill_inc_questionnaire_for_veterans_admin \n",
       "       n  missing distinct \n",
       "    1027    98735        2 \n",
       "                      \n",
       "Value         No   Yes\n",
       "Frequency    828   199\n",
       "Proportion 0.806 0.194\n",
       "--------------------------------------------------------------------------------\n",
       "veterans_benefits \n",
       "       n  missing distinct \n",
       "   99762        0        3 \n",
       "                            \n",
       "Value          0     1     2\n",
       "Frequency  23438  1027 75297\n",
       "Proportion 0.235 0.010 0.755\n",
       "--------------------------------------------------------------------------------\n",
       "weeks_worked_in_year \n",
       "       n  missing distinct     Info     Mean      Gmd      .05      .10 \n",
       "   99762        0       53    0.846    23.19    25.46        0        0 \n",
       "     .25      .50      .75      .90      .95 \n",
       "       0        8       52       52       52 \n",
       "\n",
       "lowest :  0  1  2  3  4, highest: 48 49 50 51 52\n",
       "--------------------------------------------------------------------------------\n",
       "income \n",
       "       n  missing distinct \n",
       "   99762        0        2 \n",
       "                      \n",
       "Value          0     1\n",
       "Frequency  93576  6186\n",
       "Proportion 0.938 0.062\n",
       "--------------------------------------------------------------------------------"
      ]
     },
     "metadata": {},
     "output_type": "display_data"
    }
   ],
   "source": [
    "##### ESTIMATE GLOBAL SUMMARY STATISTICS FOR TEST SET #####\n",
    "Hmisc::describe(test_data)"
   ]
  },
  {
   "cell_type": "markdown",
   "metadata": {},
   "source": [
    "## <font color=green>SUMMARY</font>\n",
    "* Several categorical variables have a significant amount of missing values, such as:\n",
    "    * ~50%: \"class_of_worker\", \"major_industry_code\", \"major_occupation_code\", \"migration_code-change_in_msa\", \"migration_code-change_in_reg\", \"migration_code-move_within_reg\", \"live_in_this_house_1_year_ago\";\n",
    "    * ~70%: \"family_members_under_18\"; \n",
    "    * ~90%: \"enroll_in_edu_inst_last_wk\", \"member_of_a_labor_union\", \"reason_for_unemployment\", \"region_of_previous_residence\", \"state_of_previous_residence\", \"migration_prev_res_in_sunbelt\". \n",
    "* By the number and patterns of shared missing values among variables, it would appear that the dataset was aggregated from different datasets or from different surveys. It is probable that the following groups came from different surveys:\n",
    "    * Labour survey: \"class_of_worker\", \"major_industry_code\", \"major_occupation_code\".\n",
    "    * Migration survey: \"migration_code-change_in_msa\", \"migration_code-change_in_reg\", \"migration_code-move_within_reg\", \"live_in_this_house_1_year_ago\"\n",
    "    * Employment survey: \"enroll_in_edu_inst_last_wk\", \"member_of_a_labor_union\", \"reason_for_unemployment\"\n",
    "* Some numerical variables appear to have been capped, such as:\n",
    "    * \"wage_per_hour\" at 9,999.\n",
    "    * \"capital_gains\" and \"dividends_from_stocks\" at 99,999.\n",
    "* This capping of the right tail creates noise for assumptions on which to do x-axis transformations (e.g. log) and outlier detection. I will thus assume outliers for these variables have all ready been removed."
   ]
  },
  {
   "cell_type": "markdown",
   "metadata": {},
   "source": [
    "###  3. Exploratory Data Analysis"
   ]
  },
  {
   "cell_type": "code",
   "execution_count": 470,
   "metadata": {},
   "outputs": [],
   "source": [
    "##### RELOAD ORIGINAL TRAIN AND TEST DATAFRAMES #####\n",
    "train_data <- readRDS(file = \"data/train_data.RDS\")\n",
    "test_data <- readRDS(file = \"data/test_data.RDS\")"
   ]
  },
  {
   "cell_type": "code",
   "execution_count": 471,
   "metadata": {},
   "outputs": [
    {
     "data": {
      "text/html": [
       "TRUE"
      ],
      "text/latex": [
       "TRUE"
      ],
      "text/markdown": [
       "TRUE"
      ],
      "text/plain": [
       "[1] TRUE"
      ]
     },
     "metadata": {},
     "output_type": "display_data"
    }
   ],
   "source": [
    "##### DISTINGUISH BETWEEN CATEGORICAL AND NUMERICAL VARIABLES #####\n",
    "# Check if categorical variables in train set (still) match the categorical variables in the test set:\n",
    "all(cat_vars_train == cat_vars_test)"
   ]
  },
  {
   "cell_type": "code",
   "execution_count": 472,
   "metadata": {},
   "outputs": [],
   "source": [
    "# Create sets of categorical and numerical variable names respectively:\n",
    "vars_cat <- names(train_data)[cat_vars_train]\n",
    "vars_cat <- vars_cat[vars_cat != \"income\"]\n",
    "vars_num <- names(train_data)[!cat_vars_train]"
   ]
  },
  {
   "cell_type": "code",
   "execution_count": 473,
   "metadata": {},
   "outputs": [],
   "source": [
    "##### REPLACE OUTCOME LABELS FOR FACET ANALYSIS #####\n",
    "# Dictionary of factor levels of outcome variable mapped to graphical-friendlier labels for human readability:\n",
    "outcome_names <- list(\"0\"=\"Income < USD 50k\", \"1\"=\"Income > USD 50k\", '(all)'=\"Total Respondent\")\n",
    "# Function for retrieving the human-readable labels of outcome variable from dictionary:\n",
    "outcome_labeller <- function(variable,value){\n",
    "  return(outcome_names[value])\n",
    "}"
   ]
  },
  {
   "cell_type": "code",
   "execution_count": 474,
   "metadata": {},
   "outputs": [],
   "source": [
    "##### PROPER CASING OF TITLES #####\n",
    "# Function for proper casing titles of graphs -> Capitalise first letter:\n",
    "proper_case <- function(x){\n",
    "  out <- str_replace_all(string = x, pattern = \"_\", \" \")\n",
    "  out <- paste0(toupper(str_sub(out, 1, 1)), tolower(str_sub(out, 2)))\n",
    "}"
   ]
  },
  {
   "cell_type": "markdown",
   "metadata": {},
   "source": [
    "##### EXPLORE CATEGORICAL VARIABLES\n",
    "_UNIVARIATE DISTRIBUTIONS AND CONDITIONAL DISTRIBUTIONS VS. INCOME_"
   ]
  },
  {
   "cell_type": "code",
   "execution_count": 475,
   "metadata": {},
   "outputs": [],
   "source": [
    "##### FUNCTION FOR PLOTTING BAR CHARTS WITH MARGINS FOR INCOME #####\n",
    "plot_categorical_variable <- function(variable, dataset, colour, n, set_type){\n",
    "  \n",
    "  var_of_interest <- dataset[,variable]\n",
    "  \n",
    "  # Create variable-specific dataframe:\n",
    "  var_interest_df <- data.frame(var_interest = var_of_interest, income = dataset$income)\n",
    "  \n",
    "  # Select top-n frequent factor levels:\n",
    "  temp <- names(summary(var_interest_df$var_interest))[1:min(length(levels(var_interest_df$var_interest)),n)]\n",
    "  \n",
    "  # Aggregate factor levels beneath top-n:\n",
    "  var_interest_df$var_interest <- as.character(var_interest_df$var_interest)\n",
    "  var_interest_df$top_n <- ifelse(var_interest_df$var_interest %in% temp, var_interest_df$var_interest, \"Other\")\n",
    "  var_interest_df$top_n <- as.factor(var_interest_df$top_n)\n",
    "  var_interest_df$top_n <- reorder(var_interest_df$top_n, var_interest_df$top_n, FUN = function(x) -length(x))\n",
    "  labels_var_interest <- levels(var_interest_df$top_n)\n",
    "  \n",
    "  # Plot distribution analysis for categorical variable:\n",
    "  p <- ggplot(var_interest_df, mapping = aes(x = top_n, y = ..prop.., group = 1)) + \n",
    "    geom_bar(fill = colour) + \n",
    "    facet_grid(~income, margins = TRUE, labeller = outcome_labeller) +\n",
    "    scale_y_continuous(labels = scales::percent_format()) +\n",
    "    scale_x_discrete(labels=labels_var_interest, position = \"bottom\") +\n",
    "    theme(axis.text.x = element_text(angle = 90, hjust=0.95,vjust=0.2), panel.grid.major = element_blank(), panel.grid.minor = element_blank(),\n",
    "          panel.background = element_blank(), axis.ticks.x = element_blank(), axis.title.x=element_blank()) +\n",
    "    labs(title = proper_case(variable), \n",
    "         subtitle = set_type, \n",
    "         caption = \"source: U.S. Census Bureau Data, Current Population Surveys 1994 and 1995\")\n",
    "  return(p)\n",
    "}"
   ]
  },
  {
   "cell_type": "code",
   "execution_count": 476,
   "metadata": {},
   "outputs": [],
   "source": [
    "##### RANKING THRESHOLD FOR MAX NUMBER OF MOST FREQUENT FACTOR LEVELS TO DISPLAY ON BARCHARTS####\n",
    "# Any factor level beneath the ranking threshold are assigned to level = \"Other\" and aggregated into a single factor level.\n",
    "# HEURISTIC: I choose 9, so as once the \"Other\" factor level is created, a total of 10 levels are plotted. \n",
    "n <- 9"
   ]
  },
  {
   "cell_type": "code",
   "execution_count": 477,
   "metadata": {},
   "outputs": [],
   "source": [
    "##### COSMETICS FOR PLOTS #####\n",
    "palette <- c(\"darkslategray1\", \"darkolivegreen1\", \"darkorchid1\", \"darkseagreen1\", \"deeppink1\", \"deepskyblue1\", \"dodgerblue1\", \"firebrick1\",\n",
    "             \"gold1\", \"hotpink1\", \"indianred1\", \"khaki1\", \"lavender\", \"lightcyan1\", \"lightcoral\", \"lightgoldenrod1\", \"lightpink1\",\n",
    "             \"lightsalmon1\", \"lightskyblue1\", \"mediumpurple1\", \"olivedrab1\", \"orangered1\", \"orchid1\", \"palegreen1\", \"paleturquoise1\", \n",
    "             \"palevioletred1\", \"plum1\", \"salmon1\", \"seagreen1\", \"slateblue1\", \"slategray1\", \"springgreen1\", \"steelblue1\", \"thistle1\", \n",
    "             \"tomato1\", \"turquoise1\", \"violetred1\", \"lightgreen\")"
   ]
  },
  {
   "cell_type": "code",
   "execution_count": 478,
   "metadata": {},
   "outputs": [],
   "source": [
    "# Define parameters:\n",
    "var_index <- 1 # Choose categorical variable from vector \"vars_cat\" -> options: [1...32]\n",
    "dataset_index <- 1 # options: [1, 2] where 1 = train_data, and 2 = test_data"
   ]
  },
  {
   "cell_type": "code",
   "execution_count": 479,
   "metadata": {},
   "outputs": [
    {
     "data": {
      "image/png": "[encoded data removed]",
      "text/plain": [
       "plot without title"
      ]
     },
     "metadata": {},
     "output_type": "display_data"
    }
   ],
   "source": [
    "# Print analysis of an individual categorical variable to screen. \n",
    "suppressWarnings(print(plot_categorical_variable(variable = vars_cat[var_index], dataset = if(dataset_index == 1){train_data} else{test_data}, \n",
    "                               colour = sample(palette, 1), n = n, set_type = c(\"Train set\", \"Test set\")[dataset_index])))"
   ]
  },
  {
   "cell_type": "code",
   "execution_count": 480,
   "metadata": {},
   "outputs": [],
   "source": [
    "#### TO LOOP THROUGH ALL CATEGORICAL VARIABLES AND SAVE PLOTS TO DISK #####\n",
    "# Save to disk distribution analysis of all categorical variables:\n",
    "# ifelse(!dir.exists(file.path(\"outputs/EDA/Plots_Categorical_Vars\")), dir.create(\"outputs/EDA/Plots_Categorical_Vars\"), FALSE)\n",
    "# for(v in vars_cat){\n",
    "#   for(t in c(\"Train set\", \"Test set\")){\n",
    "#     png(paste0(\"outputs/EDA/Plots_Categorical_Vars/\",v,\"_\",tolower(str_split(t, \" \")[[1]][1]),\"_set.png\"))\n",
    "#     dataset <- if(t == \"Train set\"){train_data} else {test_data}\n",
    "#     p <- plot_categorical_variable(variable = v, dataset = dataset, colour = sample(palette, 1), n = n, set_type = t)\n",
    "#     print(p)\n",
    "#     dev.off()\n",
    "#   }\n",
    "# }"
   ]
  },
  {
   "cell_type": "markdown",
   "metadata": {},
   "source": [
    "##### EXPLORE NUMERICAL VARIABLES\n",
    "_UNIVARIATE DISTRIBUTIONS AND CONDITIONAL DISTRIBUTIONS VS. INCOME_"
   ]
  },
  {
   "cell_type": "code",
   "execution_count": 481,
   "metadata": {},
   "outputs": [],
   "source": [
    "##### FUNCTION FOR PLOTTING NUMERIC VARIABLES #####\n",
    "plot_numerical_variable <- function(variable, dataset, colour, set_type){\n",
    "  \n",
    "  var_of_interest <- dataset[,variable]\n",
    "  \n",
    "  # Create variable-specific dataframe:\n",
    "  var_interest_df <- data.frame(var_interest = as.numeric(var_of_interest, na.rm=TRUE), income = dataset$income)\n",
    "  \n",
    "  var_mean_summary <- ddply(var_interest_df, \"income\", summarise, var_mean=mean(var_interest))\n",
    "  var_median_summary <- ddply(var_interest_df, \"income\", summarise, var_median=median(var_interest))\n",
    "  \n",
    "  p_1 <- ggplot(var_interest_df, aes(x=var_of_interest, fill=income)) +\n",
    "    geom_density(alpha = 0.3, show.legend = FALSE) + \n",
    "    scale_fill_manual(values=c(\"plum1\", \"turquoise1\")) +\n",
    "    xlab(proper_case(variable)) +\n",
    "    labs(title = proper_case(variable), \n",
    "         subtitle = set_type, \n",
    "         caption =\"\") + #\"U.S. Census Bureau Data, Current Population Surveys 1994 and 1995\") +\n",
    "    geom_vline(data=var_mean_summary, aes(xintercept=var_mean, color=income), show.legend = FALSE) +\n",
    "    geom_text(data=var_mean_summary,aes(x=var_mean, label=paste0(\"Mean: \",round(var_mean, 2)), y=0.00, colour=income), size = 3, angle=90, hjust = -0.01, vjust = 1.1, show.legend = FALSE)\n",
    "  \n",
    "  p_2 <- ggplot(var_interest_df, aes(x=income, y=var_of_interest, fill=income)) + \n",
    "    geom_boxplot(alpha = 0.3) +\n",
    "    scale_fill_manual(values=c(\"plum1\", \"turquoise1\")) +\n",
    "    ylab(proper_case(variable)) +\n",
    "    labs(title = \"\", #proper_case(variable), \n",
    "         subtitle = \"\", #set_type, \n",
    "         caption = \"source: U.S. Census Bureau Data, Current Population Surveys 1994 and 1995\") +\n",
    "    geom_text(data=var_median_summary, aes(x=income, y=var_median, label=paste0(\"Median: \",var_median), colour=income), size = 3, vjust = -0.5, show.legend = FALSE)\n",
    "  \n",
    "  p <- grid.arrange(p_1, p_2, ncol=2)\n",
    "  \n",
    "  return(p)\n",
    "}"
   ]
  },
  {
   "cell_type": "code",
   "execution_count": 482,
   "metadata": {},
   "outputs": [],
   "source": [
    "# Define parameters:\n",
    "var_index <- 1 # options: [1...7]\n",
    "dataset_index <- 1 # options: [1, 2] where 1 = train_data, and 2 = test_data"
   ]
  },
  {
   "cell_type": "code",
   "execution_count": 483,
   "metadata": {},
   "outputs": [
    {
     "name": "stdout",
     "output_type": "stream",
     "text": [
      "TableGrob (1 x 2) \"arrange\": 2 grobs\n",
      "  z     cells    name           grob\n",
      "1 1 (1-1,1-1) arrange gtable[layout]\n",
      "2 2 (1-1,2-2) arrange gtable[layout]\n"
     ]
    },
    {
     "data": {
      "image/png": "[encoded data removed]",
      "text/plain": [
       "plot without title"
      ]
     },
     "metadata": {},
     "output_type": "display_data"
    }
   ],
   "source": [
    "# Print analysis of an individual numerical variable to screen. \n",
    "print(plot_numerical_variable(variable = vars_num[var_index], dataset = if(dataset_index == 1){train_data} else{test_data}, \n",
    "                                                 colour = sample(palette, 1), set_type = c(\"Train set\", \"Test set\")[dataset_index]))"
   ]
  },
  {
   "cell_type": "markdown",
   "metadata": {},
   "source": [
    "## <font color=green>SUMMARY</font>\n",
    "* The numerical variable num_persons_worked_for_employer (in parameters assign: var_index <- 6) seems **capped at 6**. We can infer this by observing that for individuals with incomes > USD 50k, the third quartile equals the maximun value of values for that particular variable.\n",
    "* For most other numerical variables, except age, the median is zero for both individuals with < USD50k and > USD50k. Although there were no observed NAs in the summary statistics of numerical variables, this phenomenon could mean that information for this variable is actually missing, but was coded as \"0\" (zero)."
   ]
  },
  {
   "cell_type": "code",
   "execution_count": 484,
   "metadata": {},
   "outputs": [
    {
     "data": {
      "text/html": [
       "<ol class=list-inline>\n",
       "\t<li>'cat_vars_test'</li>\n",
       "\t<li>'cat_vars_train'</li>\n",
       "\t<li>'outcome_labeller'</li>\n",
       "\t<li>'outcome_names'</li>\n",
       "\t<li>'palette'</li>\n",
       "\t<li>'plot_categorical_variable'</li>\n",
       "\t<li>'plot_numerical_variable'</li>\n",
       "\t<li>'proper_case'</li>\n",
       "\t<li>'test_data'</li>\n",
       "\t<li>'train_data'</li>\n",
       "</ol>\n"
      ],
      "text/latex": [
       "\\begin{enumerate*}\n",
       "\\item 'cat\\_vars\\_test'\n",
       "\\item 'cat\\_vars\\_train'\n",
       "\\item 'outcome\\_labeller'\n",
       "\\item 'outcome\\_names'\n",
       "\\item 'palette'\n",
       "\\item 'plot\\_categorical\\_variable'\n",
       "\\item 'plot\\_numerical\\_variable'\n",
       "\\item 'proper\\_case'\n",
       "\\item 'test\\_data'\n",
       "\\item 'train\\_data'\n",
       "\\end{enumerate*}\n"
      ],
      "text/markdown": [
       "1. 'cat_vars_test'\n",
       "2. 'cat_vars_train'\n",
       "3. 'outcome_labeller'\n",
       "4. 'outcome_names'\n",
       "5. 'palette'\n",
       "6. 'plot_categorical_variable'\n",
       "7. 'plot_numerical_variable'\n",
       "8. 'proper_case'\n",
       "9. 'test_data'\n",
       "10. 'train_data'\n",
       "\n",
       "\n"
      ],
      "text/plain": [
       " [1] \"cat_vars_test\"             \"cat_vars_train\"           \n",
       " [3] \"outcome_labeller\"          \"outcome_names\"            \n",
       " [5] \"palette\"                   \"plot_categorical_variable\"\n",
       " [7] \"plot_numerical_variable\"   \"proper_case\"              \n",
       " [9] \"test_data\"                 \"train_data\"               "
      ]
     },
     "metadata": {},
     "output_type": "display_data"
    }
   ],
   "source": [
    "##### GOOD HOUSEKEEPING #####\n",
    "rm(list=setdiff(ls(), c(\"train_data\", \"test_data\", \"cat_vars_train\", \"cat_vars_test\", \n",
    "                        \"plot_numerical_variable\", \"plot_categorical_variable\", \"palette\",\n",
    "                        \"proper_case\", \"outcome_labeller\", \"outcome_names\")))\n",
    "ls()"
   ]
  },
  {
   "cell_type": "markdown",
   "metadata": {},
   "source": [
    "### 4. Manual imputation of NA/NIU"
   ]
  },
  {
   "cell_type": "code",
   "execution_count": 485,
   "metadata": {},
   "outputs": [],
   "source": [
    "##### CREATE COPY OF TRAIN AND TEST SET FOR POSTERIOR ANALYSIS #####\n",
    "copy_train_data <- train_data\n",
    "copy_test_data <- test_data"
   ]
  },
  {
   "cell_type": "code",
   "execution_count": 486,
   "metadata": {},
   "outputs": [],
   "source": [
    "# Convert categorical variables to character, in order to do manual recoding of factor levels:\n",
    "train_data[,cat_vars_train] <- sapply(train_data[,cat_vars_train], as.character)\n",
    "test_data[,cat_vars_test] <- sapply(test_data[,cat_vars_test], as.character)"
   ]
  },
  {
   "cell_type": "markdown",
   "metadata": {},
   "source": [
    "**MANUAL IMPUTATION OF NA/NIU ON THE TRAINING SET**"
   ]
  },
  {
   "cell_type": "markdown",
   "metadata": {},
   "source": [
    "**RECODING: class_of_worker**"
   ]
  },
  {
   "cell_type": "code",
   "execution_count": 487,
   "metadata": {},
   "outputs": [
    {
     "data": {
      "text/html": [
       "100245"
      ],
      "text/latex": [
       "100245"
      ],
      "text/markdown": [
       "100245"
      ],
      "text/plain": [
       "[1] 100245"
      ]
     },
     "metadata": {},
     "output_type": "display_data"
    },
    {
     "data": {
      "text/html": [
       "0.502423279521659"
      ],
      "text/latex": [
       "0.502423279521659"
      ],
      "text/markdown": [
       "0.502423279521659"
      ],
      "text/plain": [
       "[1] 0.5024233"
      ]
     },
     "metadata": {},
     "output_type": "display_data"
    },
    {
     "data": {
      "text/html": [
       "49916"
      ],
      "text/latex": [
       "49916"
      ],
      "text/markdown": [
       "49916"
      ],
      "text/plain": [
       "[1] 49916"
      ]
     },
     "metadata": {},
     "output_type": "display_data"
    },
    {
     "data": {
      "text/html": [
       "21191"
      ],
      "text/latex": [
       "21191"
      ],
      "text/markdown": [
       "21191"
      ],
      "text/plain": [
       "[1] 21191"
      ]
     },
     "metadata": {},
     "output_type": "display_data"
    },
    {
     "data": {
      "text/html": [
       "14226"
      ],
      "text/latex": [
       "14226"
      ],
      "text/markdown": [
       "14226"
      ],
      "text/plain": [
       "[1] 14226"
      ]
     },
     "metadata": {},
     "output_type": "display_data"
    },
    {
     "data": {
      "text/html": [
       "11051"
      ],
      "text/latex": [
       "11051"
      ],
      "text/markdown": [
       "11051"
      ],
      "text/plain": [
       "[1] 11051"
      ]
     },
     "metadata": {},
     "output_type": "display_data"
    },
    {
     "data": {
      "text/html": [
       "3861"
      ],
      "text/latex": [
       "3861"
      ],
      "text/markdown": [
       "3861"
      ],
      "text/plain": [
       "[1] 3861"
      ]
     },
     "metadata": {},
     "output_type": "display_data"
    },
    {
     "data": {
      "text/html": [
       "0.0193511524987094"
      ],
      "text/latex": [
       "0.0193511524987094"
      ],
      "text/markdown": [
       "0.0193511524987094"
      ],
      "text/plain": [
       "[1] 0.01935115"
      ]
     },
     "metadata": {},
     "output_type": "display_data"
    }
   ],
   "source": [
    "# Initial NIU in variable: \n",
    "length(copy_train_data$class_of_worker[copy_train_data$class_of_worker == \"NIU\"]) # [1] 100245  \n",
    "length(copy_train_data$class_of_worker[copy_train_data$class_of_worker == \"NIU\"]) / nrow(train_data) # Prop: 0.5024233\n",
    "\n",
    "# Assign NIU of people below legal working age (Unrestricted by federal law) to factor level \"Never worked\": https://en.wikipedia.org/wiki/Legal_working_age\n",
    "length(train_data$class_of_worker[train_data$class_of_worker == \"NIU\" & train_data$age < 16]) # [1] 49916\n",
    "train_data$class_of_worker[train_data$class_of_worker == \"NIU\" & train_data$age < 16] <- \"Never worked\"\n",
    "\n",
    "# Assign NIU of people above retirement age to NEW factor level \"Pass retirement\":\n",
    "length(train_data$class_of_worker[train_data$class_of_worker == \"NIU\" & train_data$age > 64]) # [1] 21191\n",
    "train_data$class_of_worker[train_data$class_of_worker == \"NIU\" & train_data$age > 64] <- \"Pass retirement\"\n",
    "\n",
    "# Assign NIU of people of working age which are not in the labour force to NEW factor level \"Not in labor force\":\n",
    "length(train_data$class_of_worker[train_data$class_of_worker == \"NIU\" & train_data$full_or_part_time_employment_stat == \"Not in labor force\"]) # [1] 14226\n",
    "train_data$class_of_worker[train_data$class_of_worker == \"NIU\" & train_data$full_or_part_time_employment_stat == \"Not in labor force\"] <- \"Not in labor force\"\n",
    "\n",
    "# Assign NIU of people of working age which did not work that year to NEW factor level \"Not in labor force\":\n",
    "length(train_data$class_of_worker[train_data$class_of_worker == \"NIU\" & train_data$weeks_worked_in_year == 0]) # [1] 11051\n",
    "train_data$class_of_worker[train_data$class_of_worker == \"NIU\" & train_data$weeks_worked_in_year == 0] <- \"Not in labor force\"\n",
    "\n",
    "# Remaining NIU in variable: \n",
    "length(train_data$class_of_worker[train_data$class_of_worker == \"NIU\"]) # [1] 3861  \n",
    "length(train_data$class_of_worker[train_data$class_of_worker == \"NIU\"]) / nrow(train_data) # Prop: 0.01935115"
   ]
  },
  {
   "cell_type": "markdown",
   "metadata": {},
   "source": [
    "**RECODING: detailed_industry_recode, detailed_occupation_recode, major_industry_code, major_occupation_code**"
   ]
  },
  {
   "cell_type": "code",
   "execution_count": 488,
   "metadata": {},
   "outputs": [
    {
     "data": {
      "text/html": [
       "100684"
      ],
      "text/latex": [
       "100684"
      ],
      "text/markdown": [
       "100684"
      ],
      "text/plain": [
       "[1] 100684"
      ]
     },
     "metadata": {},
     "output_type": "display_data"
    },
    {
     "data": {
      "text/html": [
       "100684"
      ],
      "text/latex": [
       "100684"
      ],
      "text/markdown": [
       "100684"
      ],
      "text/plain": [
       "[1] 100684"
      ]
     },
     "metadata": {},
     "output_type": "display_data"
    },
    {
     "data": {
      "text/html": [
       "100684"
      ],
      "text/latex": [
       "100684"
      ],
      "text/markdown": [
       "100684"
      ],
      "text/plain": [
       "[1] 100684"
      ]
     },
     "metadata": {},
     "output_type": "display_data"
    },
    {
     "data": {
      "text/html": [
       "100684"
      ],
      "text/latex": [
       "100684"
      ],
      "text/markdown": [
       "100684"
      ],
      "text/plain": [
       "[1] 100684"
      ]
     },
     "metadata": {},
     "output_type": "display_data"
    },
    {
     "data": {
      "text/html": [
       "0.504623527112163"
      ],
      "text/latex": [
       "0.504623527112163"
      ],
      "text/markdown": [
       "0.504623527112163"
      ],
      "text/plain": [
       "[1] 0.5046235"
      ]
     },
     "metadata": {},
     "output_type": "display_data"
    },
    {
     "data": {
      "text/html": [
       "49960"
      ],
      "text/latex": [
       "49960"
      ],
      "text/markdown": [
       "49960"
      ],
      "text/plain": [
       "[1] 49960"
      ]
     },
     "metadata": {},
     "output_type": "display_data"
    },
    {
     "data": {
      "text/html": [
       "49960"
      ],
      "text/latex": [
       "49960"
      ],
      "text/markdown": [
       "49960"
      ],
      "text/plain": [
       "[1] 49960"
      ]
     },
     "metadata": {},
     "output_type": "display_data"
    },
    {
     "data": {
      "text/html": [
       "49960"
      ],
      "text/latex": [
       "49960"
      ],
      "text/markdown": [
       "49960"
      ],
      "text/plain": [
       "[1] 49960"
      ]
     },
     "metadata": {},
     "output_type": "display_data"
    },
    {
     "data": {
      "text/html": [
       "49960"
      ],
      "text/latex": [
       "49960"
      ],
      "text/markdown": [
       "49960"
      ],
      "text/plain": [
       "[1] 49960"
      ]
     },
     "metadata": {},
     "output_type": "display_data"
    },
    {
     "data": {
      "text/html": [
       "21191"
      ],
      "text/latex": [
       "21191"
      ],
      "text/markdown": [
       "21191"
      ],
      "text/plain": [
       "[1] 21191"
      ]
     },
     "metadata": {},
     "output_type": "display_data"
    },
    {
     "data": {
      "text/html": [
       "21191"
      ],
      "text/latex": [
       "21191"
      ],
      "text/markdown": [
       "21191"
      ],
      "text/plain": [
       "[1] 21191"
      ]
     },
     "metadata": {},
     "output_type": "display_data"
    },
    {
     "data": {
      "text/html": [
       "21191"
      ],
      "text/latex": [
       "21191"
      ],
      "text/markdown": [
       "21191"
      ],
      "text/plain": [
       "[1] 21191"
      ]
     },
     "metadata": {},
     "output_type": "display_data"
    },
    {
     "data": {
      "text/html": [
       "21191"
      ],
      "text/latex": [
       "21191"
      ],
      "text/markdown": [
       "21191"
      ],
      "text/plain": [
       "[1] 21191"
      ]
     },
     "metadata": {},
     "output_type": "display_data"
    },
    {
     "data": {
      "text/html": [
       "14226"
      ],
      "text/latex": [
       "14226"
      ],
      "text/markdown": [
       "14226"
      ],
      "text/plain": [
       "[1] 14226"
      ]
     },
     "metadata": {},
     "output_type": "display_data"
    },
    {
     "data": {
      "text/html": [
       "14226"
      ],
      "text/latex": [
       "14226"
      ],
      "text/markdown": [
       "14226"
      ],
      "text/plain": [
       "[1] 14226"
      ]
     },
     "metadata": {},
     "output_type": "display_data"
    },
    {
     "data": {
      "text/html": [
       "14226"
      ],
      "text/latex": [
       "14226"
      ],
      "text/markdown": [
       "14226"
      ],
      "text/plain": [
       "[1] 14226"
      ]
     },
     "metadata": {},
     "output_type": "display_data"
    },
    {
     "data": {
      "text/html": [
       "14226"
      ],
      "text/latex": [
       "14226"
      ],
      "text/markdown": [
       "14226"
      ],
      "text/plain": [
       "[1] 14226"
      ]
     },
     "metadata": {},
     "output_type": "display_data"
    },
    {
     "data": {
      "text/html": [
       "11408"
      ],
      "text/latex": [
       "11408"
      ],
      "text/markdown": [
       "11408"
      ],
      "text/plain": [
       "[1] 11408"
      ]
     },
     "metadata": {},
     "output_type": "display_data"
    },
    {
     "data": {
      "text/html": [
       "11408"
      ],
      "text/latex": [
       "11408"
      ],
      "text/markdown": [
       "11408"
      ],
      "text/plain": [
       "[1] 11408"
      ]
     },
     "metadata": {},
     "output_type": "display_data"
    },
    {
     "data": {
      "text/html": [
       "11408"
      ],
      "text/latex": [
       "11408"
      ],
      "text/markdown": [
       "11408"
      ],
      "text/plain": [
       "[1] 11408"
      ]
     },
     "metadata": {},
     "output_type": "display_data"
    },
    {
     "data": {
      "text/html": [
       "11408"
      ],
      "text/latex": [
       "11408"
      ],
      "text/markdown": [
       "11408"
      ],
      "text/plain": [
       "[1] 11408"
      ]
     },
     "metadata": {},
     "output_type": "display_data"
    },
    {
     "data": {
      "text/html": [
       "3899"
      ],
      "text/latex": [
       "3899"
      ],
      "text/markdown": [
       "3899"
      ],
      "text/plain": [
       "[1] 3899"
      ]
     },
     "metadata": {},
     "output_type": "display_data"
    },
    {
     "data": {
      "text/html": [
       "0.019541606732056"
      ],
      "text/latex": [
       "0.019541606732056"
      ],
      "text/markdown": [
       "0.019541606732056"
      ],
      "text/plain": [
       "[1] 0.01954161"
      ]
     },
     "metadata": {},
     "output_type": "display_data"
    }
   ],
   "source": [
    "# Initial NIU in variables:\n",
    "length(copy_train_data$detailed_industry_recode[copy_train_data$detailed_industry_recode == 0]) # [1] 100684\n",
    "length(copy_train_data$detailed_occupation_recode[copy_train_data$detailed_occupation_recode == 0]) # [1] 100684\n",
    "length(copy_train_data$major_industry_code[copy_train_data$major_industry_code == \"NIU\"]) # [1] 100684\n",
    "length(copy_train_data$major_occupation_code[copy_train_data$major_occupation_code == \"NIU\"]) # [1] 100684\n",
    "length(copy_train_data$major_occupation_code[copy_train_data$major_occupation_code == \"NIU\"])/nrow(train_data) # Prop: 0.5046235\n",
    "\n",
    "# Assign NIU of people below legal working age to factor level \"Never worked\":\n",
    "length(train_data$detailed_industry_recode[train_data$detailed_industry_recode == 0 & train_data$age < 16]) # [1] 49960\n",
    "train_data$detailed_industry_recode[train_data$detailed_industry_recode == 0 & train_data$age < 16] <- \"Never worked\"\n",
    "\n",
    "length(train_data$detailed_occupation_recode[train_data$detailed_occupation_recode == 0 & train_data$age < 16]) # [1] 49960\n",
    "train_data$detailed_occupation_recode[train_data$detailed_occupation_recode == 0 & train_data$age < 16] <-  \"Never worked\"\n",
    "\n",
    "length(train_data$major_industry_code[train_data$major_industry_code == \"NIU\" & train_data$age < 16]) # [1] 49960\n",
    "train_data$major_industry_code[train_data$major_industry_code == \"NIU\" & train_data$age < 16] <-  \"Never worked\"\n",
    "\n",
    "length(train_data$major_occupation_code[train_data$major_occupation_code == \"NIU\" & train_data$age < 16]) # [1] 49960\n",
    "train_data$major_occupation_code[train_data$major_occupation_code == \"NIU\" & train_data$age < 16] <-  \"Never worked\"\n",
    "\n",
    "# Assign NIU of people above retirement age to NEW factor level \"Pass retirement\":\n",
    "length(train_data$detailed_industry_recode[train_data$detailed_industry_recode == 0 & train_data$age > 64]) # [1] 21191\n",
    "train_data$detailed_industry_recode[train_data$detailed_industry_recode == 0 & train_data$age > 64] <- \"Pass retirement\"\n",
    "\n",
    "length(train_data$detailed_occupation_recode[train_data$detailed_occupation_recode == 0 & train_data$age > 64]) # [1] 21191\n",
    "train_data$detailed_occupation_recode[train_data$detailed_occupation_recode == 0 & train_data$age > 64] <-  \"Pass retirement\"\n",
    "\n",
    "length(train_data$major_industry_code[train_data$major_industry_code == \"NIU\" & train_data$age > 64]) # [1] 21191\n",
    "train_data$major_industry_code[train_data$major_industry_code == \"NIU\" & train_data$age > 64] <-  \"Pass retirement\"\n",
    "\n",
    "length(train_data$major_occupation_code[train_data$major_occupation_code == \"NIU\" & train_data$age > 64]) # [1] 21191\n",
    "train_data$major_occupation_code[train_data$major_occupation_code == \"NIU\" & train_data$age > 64] <-  \"Pass retirement\"\n",
    "\n",
    "# Assign NIU of people of working age which are not in the labour force to NEW factor level \"Not in labor force\":\n",
    "length(train_data$detailed_industry_recode[train_data$detailed_industry_recode == 0 & train_data$full_or_part_time_employment_stat == \"Not in labor force\"]) # [1] 14226\n",
    "train_data$detailed_industry_recode[train_data$detailed_industry_recode == 0 & train_data$full_or_part_time_employment_stat == \"Not in labor force\"] <- \"Not in labor force\"\n",
    "\n",
    "length(train_data$detailed_occupation_recode[train_data$detailed_occupation_recode == 0 & train_data$full_or_part_time_employment_stat == \"Not in labor force\"]) # [1] 14226\n",
    "train_data$detailed_occupation_recode[train_data$detailed_occupation_recode == 0 & train_data$full_or_part_time_employment_stat == \"Not in labor force\"] <- \"Not in labor force\"\n",
    "\n",
    "length(train_data$major_industry_code[train_data$major_industry_code == \"NIU\" & train_data$full_or_part_time_employment_stat == \"Not in labor force\"]) # [1] 14226\n",
    "train_data$major_industry_code[train_data$major_industry_code == \"NIU\" & train_data$full_or_part_time_employment_stat == \"Not in labor force\"] <- \"Not in labor force\"\n",
    "\n",
    "length(train_data$major_occupation_code[train_data$major_occupation_code == \"NIU\" & train_data$full_or_part_time_employment_stat == \"Not in labor force\"]) # [1] 14226\n",
    "train_data$major_occupation_code[train_data$major_occupation_code == \"NIU\" & train_data$full_or_part_time_employment_stat == \"Not in labor force\"] <- \"Not in labor force\"\n",
    "\n",
    "# Assign NIU of people of working age which did not work that year to NEW factor level \"Not in labor force\":\n",
    "length(train_data$detailed_industry_recode[train_data$detailed_industry_recode == 0 & train_data$weeks_worked_in_year == 0]) # [1] 11408\n",
    "train_data$detailed_industry_recode[train_data$detailed_industry_recode == 0 & train_data$weeks_worked_in_year == 0] <- \"Not in labor force\"\n",
    "\n",
    "length(train_data$detailed_occupation_recode[train_data$detailed_occupation_recode == 0 & train_data$weeks_worked_in_year == 0]) # [1] 11408\n",
    "train_data$detailed_occupation_recode[train_data$detailed_occupation_recode == 0 & train_data$weeks_worked_in_year == 0] <- \"Not in labor force\"\n",
    "\n",
    "length(train_data$major_industry_code[train_data$major_industry_code == \"NIU\" & train_data$weeks_worked_in_year == 0]) # [1] 11408\n",
    "train_data$major_industry_code[train_data$major_industry_code == \"NIU\" & train_data$weeks_worked_in_year == 0] <- \"Not in labor force\"\n",
    "\n",
    "length(train_data$major_occupation_code[train_data$major_occupation_code == \"NIU\" & train_data$weeks_worked_in_year == 0]) # [1] 11408\n",
    "train_data$major_occupation_code[train_data$major_occupation_code == \"NIU\" & train_data$weeks_worked_in_year == 0] <- \"Not in labor force\"\n",
    "\n",
    "# Remaining NIU in variables: \n",
    "length(train_data$major_occupation_code[train_data$major_occupation_code == \"NIU\"]) # [1] 3899\n",
    "length(train_data$major_occupation_code[train_data$major_occupation_code == \"NIU\"])/nrow(train_data) # Prop: 0.01954161"
   ]
  },
  {
   "cell_type": "markdown",
   "metadata": {},
   "source": [
    "**RECODING: country_of_birth_self, country_of_birth_father, country_of_birth_mother**"
   ]
  },
  {
   "cell_type": "code",
   "execution_count": 489,
   "metadata": {},
   "outputs": [
    {
     "data": {
      "text/html": [
       "0.929652220546002"
      ],
      "text/latex": [
       "0.929652220546002"
      ],
      "text/markdown": [
       "0.929652220546002"
      ],
      "text/plain": [
       "[1] 0.9296522"
      ]
     },
     "metadata": {},
     "output_type": "display_data"
    },
    {
     "data": {
      "text/html": [
       "1834"
      ],
      "text/latex": [
       "1834"
      ],
      "text/markdown": [
       "1834"
      ],
      "text/plain": [
       "[1] 1834"
      ]
     },
     "metadata": {},
     "output_type": "display_data"
    },
    {
     "data": {
      "text/html": [
       "1240"
      ],
      "text/latex": [
       "1240"
      ],
      "text/markdown": [
       "1240"
      ],
      "text/plain": [
       "[1] 1240"
      ]
     },
     "metadata": {},
     "output_type": "display_data"
    }
   ],
   "source": [
    "# Assign NIU of father's country of origin to mother's, and viceversa.\n",
    "# Assumption: 93% of parents are born in the same country:\n",
    "sum(train_data$country_of_birth_father == train_data$country_of_birth_mother)/nrow(train_data) # [1] 0.9296522\n",
    "# For country of father:\n",
    "length(train_data$country_of_birth_father[train_data$country_of_birth_father == \"NA\" & train_data$country_of_birth_mother != \"NA\"]) # [1] 1834\n",
    "train_data$country_of_birth_father[train_data$country_of_birth_father == \"NA\" & train_data$country_of_birth_mother != \"NA\"] <- \n",
    "  train_data$country_of_birth_mother[train_data$country_of_birth_father == \"NA\" & train_data$country_of_birth_mother != \"NA\"]\n",
    "# For country of mother:\n",
    "length(train_data$country_of_birth_mother[train_data$country_of_birth_mother == \"NA\" & train_data$country_of_birth_father != \"NA\"]) # [1] 1240\n",
    "train_data$country_of_birth_mother[train_data$country_of_birth_mother == \"NA\" & train_data$country_of_birth_father != \"NA\"] <- \n",
    "  train_data$country_of_birth_father[train_data$country_of_birth_mother == \"NA\" & train_data$country_of_birth_father != \"NA\"]"
   ]
  },
  {
   "cell_type": "markdown",
   "metadata": {},
   "source": [
    "**MANUAL IMPUTATION OF NA/NIU ON THE TEST SET**"
   ]
  },
  {
   "cell_type": "markdown",
   "metadata": {},
   "source": [
    "**RECODING: class_of_worker**"
   ]
  },
  {
   "cell_type": "code",
   "execution_count": 490,
   "metadata": {},
   "outputs": [
    {
     "data": {
      "text/html": [
       "50079"
      ],
      "text/latex": [
       "50079"
      ],
      "text/markdown": [
       "50079"
      ],
      "text/plain": [
       "[1] 50079"
      ]
     },
     "metadata": {},
     "output_type": "display_data"
    },
    {
     "data": {
      "text/html": [
       "0.501984723642269"
      ],
      "text/latex": [
       "0.501984723642269"
      ],
      "text/markdown": [
       "0.501984723642269"
      ],
      "text/plain": [
       "[1] 0.5019847"
      ]
     },
     "metadata": {},
     "output_type": "display_data"
    },
    {
     "data": {
      "text/html": [
       "24698"
      ],
      "text/latex": [
       "24698"
      ],
      "text/markdown": [
       "24698"
      ],
      "text/plain": [
       "[1] 24698"
      ]
     },
     "metadata": {},
     "output_type": "display_data"
    },
    {
     "data": {
      "text/html": [
       "10829"
      ],
      "text/latex": [
       "10829"
      ],
      "text/markdown": [
       "10829"
      ],
      "text/plain": [
       "[1] 10829"
      ]
     },
     "metadata": {},
     "output_type": "display_data"
    },
    {
     "data": {
      "text/html": [
       "7046"
      ],
      "text/latex": [
       "7046"
      ],
      "text/markdown": [
       "7046"
      ],
      "text/plain": [
       "[1] 7046"
      ]
     },
     "metadata": {},
     "output_type": "display_data"
    },
    {
     "data": {
      "text/html": [
       "5534"
      ],
      "text/latex": [
       "5534"
      ],
      "text/markdown": [
       "5534"
      ],
      "text/plain": [
       "[1] 5534"
      ]
     },
     "metadata": {},
     "output_type": "display_data"
    },
    {
     "data": {
      "text/html": [
       "1972"
      ],
      "text/latex": [
       "1972"
      ],
      "text/markdown": [
       "1972"
      ],
      "text/plain": [
       "[1] 1972"
      ]
     },
     "metadata": {},
     "output_type": "display_data"
    },
    {
     "data": {
      "text/html": [
       "0.0197670455684529"
      ],
      "text/latex": [
       "0.0197670455684529"
      ],
      "text/markdown": [
       "0.0197670455684529"
      ],
      "text/plain": [
       "[1] 0.01976705"
      ]
     },
     "metadata": {},
     "output_type": "display_data"
    }
   ],
   "source": [
    "# Initial NIU in variable: \n",
    "length(copy_test_data$class_of_worker[copy_test_data$class_of_worker == \"NIU\"]) # [1] 50079\n",
    "length(copy_test_data$class_of_worker[copy_test_data$class_of_worker == \"NIU\"]) / nrow(test_data) # Prop: 0.5019847\n",
    "\n",
    "# Assign NIU of people below legal working age (Unrestricted by federal law) to factor level \"Never worked\": https://en.wikipedia.org/wiki/Legal_working_age\n",
    "length(test_data$class_of_worker[test_data$class_of_worker == \"NIU\" & test_data$age < 16]) # [1] 24698\n",
    "test_data$class_of_worker[test_data$class_of_worker == \"NIU\" & test_data$age < 16] <- \"Never worked\"\n",
    "\n",
    "# Assign NIU of people above retirement age to NEW factor level \"Pass retirement\":\n",
    "length(test_data$class_of_worker[test_data$class_of_worker == \"NIU\" & test_data$age > 64]) # [1] 10829\n",
    "test_data$class_of_worker[test_data$class_of_worker == \"NIU\" & test_data$age > 64] <- \"Pass retirement\"\n",
    "\n",
    "# Assign NIU of people of working age which are not in the labour force to NEW factor level \"Not in labor force\":\n",
    "length(test_data$class_of_worker[test_data$class_of_worker == \"NIU\" & test_data$full_or_part_time_employment_stat == \"Not in labor force\"]) # [1] 7046\n",
    "test_data$class_of_worker[test_data$class_of_worker == \"NIU\" & test_data$full_or_part_time_employment_stat == \"Not in labor force\"] <- \"Not in labor force\"\n",
    "\n",
    "# Assign NIU of people of working age which did not work that year to NEW factor level \"Not in labor force\":\n",
    "length(test_data$class_of_worker[test_data$class_of_worker == \"NIU\" & test_data$weeks_worked_in_year == 0]) # [1] 5534\n",
    "test_data$class_of_worker[test_data$class_of_worker == \"NIU\" & test_data$weeks_worked_in_year == 0] <- \"Not in labor force\"\n",
    "\n",
    "# Remaining NIU in variable: \n",
    "length(test_data$class_of_worker[test_data$class_of_worker == \"NIU\"]) # [1] 1972\n",
    "length(test_data$class_of_worker[test_data$class_of_worker == \"NIU\"]) / nrow(test_data) # Prop: 0.01976705"
   ]
  },
  {
   "cell_type": "markdown",
   "metadata": {},
   "source": [
    "**RECODING: detailed_industry_recode, detailed_occupation_recode, major_industry_code, major_occupation_code**"
   ]
  },
  {
   "cell_type": "code",
   "execution_count": 491,
   "metadata": {},
   "outputs": [
    {
     "data": {
      "text/html": [
       "50283"
      ],
      "text/latex": [
       "50283"
      ],
      "text/markdown": [
       "50283"
      ],
      "text/plain": [
       "[1] 50283"
      ]
     },
     "metadata": {},
     "output_type": "display_data"
    },
    {
     "data": {
      "text/html": [
       "50283"
      ],
      "text/latex": [
       "50283"
      ],
      "text/markdown": [
       "50283"
      ],
      "text/plain": [
       "[1] 50283"
      ]
     },
     "metadata": {},
     "output_type": "display_data"
    },
    {
     "data": {
      "text/html": [
       "50283"
      ],
      "text/latex": [
       "50283"
      ],
      "text/markdown": [
       "50283"
      ],
      "text/plain": [
       "[1] 50283"
      ]
     },
     "metadata": {},
     "output_type": "display_data"
    },
    {
     "data": {
      "text/html": [
       "50283"
      ],
      "text/latex": [
       "50283"
      ],
      "text/markdown": [
       "50283"
      ],
      "text/plain": [
       "[1] 50283"
      ]
     },
     "metadata": {},
     "output_type": "display_data"
    },
    {
     "data": {
      "text/html": [
       "0.504029590425212"
      ],
      "text/latex": [
       "0.504029590425212"
      ],
      "text/markdown": [
       "0.504029590425212"
      ],
      "text/plain": [
       "[1] 0.5040296"
      ]
     },
     "metadata": {},
     "output_type": "display_data"
    },
    {
     "data": {
      "text/html": [
       "24725"
      ],
      "text/latex": [
       "24725"
      ],
      "text/markdown": [
       "24725"
      ],
      "text/plain": [
       "[1] 24725"
      ]
     },
     "metadata": {},
     "output_type": "display_data"
    },
    {
     "data": {
      "text/html": [
       "24725"
      ],
      "text/latex": [
       "24725"
      ],
      "text/markdown": [
       "24725"
      ],
      "text/plain": [
       "[1] 24725"
      ]
     },
     "metadata": {},
     "output_type": "display_data"
    },
    {
     "data": {
      "text/html": [
       "24725"
      ],
      "text/latex": [
       "24725"
      ],
      "text/markdown": [
       "24725"
      ],
      "text/plain": [
       "[1] 24725"
      ]
     },
     "metadata": {},
     "output_type": "display_data"
    },
    {
     "data": {
      "text/html": [
       "24725"
      ],
      "text/latex": [
       "24725"
      ],
      "text/markdown": [
       "24725"
      ],
      "text/plain": [
       "[1] 24725"
      ]
     },
     "metadata": {},
     "output_type": "display_data"
    },
    {
     "data": {
      "text/html": [
       "10829"
      ],
      "text/latex": [
       "10829"
      ],
      "text/markdown": [
       "10829"
      ],
      "text/plain": [
       "[1] 10829"
      ]
     },
     "metadata": {},
     "output_type": "display_data"
    },
    {
     "data": {
      "text/html": [
       "10829"
      ],
      "text/latex": [
       "10829"
      ],
      "text/markdown": [
       "10829"
      ],
      "text/plain": [
       "[1] 10829"
      ]
     },
     "metadata": {},
     "output_type": "display_data"
    },
    {
     "data": {
      "text/html": [
       "10829"
      ],
      "text/latex": [
       "10829"
      ],
      "text/markdown": [
       "10829"
      ],
      "text/plain": [
       "[1] 10829"
      ]
     },
     "metadata": {},
     "output_type": "display_data"
    },
    {
     "data": {
      "text/html": [
       "10829"
      ],
      "text/latex": [
       "10829"
      ],
      "text/markdown": [
       "10829"
      ],
      "text/plain": [
       "[1] 10829"
      ]
     },
     "metadata": {},
     "output_type": "display_data"
    },
    {
     "data": {
      "text/html": [
       "7046"
      ],
      "text/latex": [
       "7046"
      ],
      "text/markdown": [
       "7046"
      ],
      "text/plain": [
       "[1] 7046"
      ]
     },
     "metadata": {},
     "output_type": "display_data"
    },
    {
     "data": {
      "text/html": [
       "7046"
      ],
      "text/latex": [
       "7046"
      ],
      "text/markdown": [
       "7046"
      ],
      "text/plain": [
       "[1] 7046"
      ]
     },
     "metadata": {},
     "output_type": "display_data"
    },
    {
     "data": {
      "text/html": [
       "7046"
      ],
      "text/latex": [
       "7046"
      ],
      "text/markdown": [
       "7046"
      ],
      "text/plain": [
       "[1] 7046"
      ]
     },
     "metadata": {},
     "output_type": "display_data"
    },
    {
     "data": {
      "text/html": [
       "7046"
      ],
      "text/latex": [
       "7046"
      ],
      "text/markdown": [
       "7046"
      ],
      "text/plain": [
       "[1] 7046"
      ]
     },
     "metadata": {},
     "output_type": "display_data"
    },
    {
     "data": {
      "text/html": [
       "5695"
      ],
      "text/latex": [
       "5695"
      ],
      "text/markdown": [
       "5695"
      ],
      "text/plain": [
       "[1] 5695"
      ]
     },
     "metadata": {},
     "output_type": "display_data"
    },
    {
     "data": {
      "text/html": [
       "5695"
      ],
      "text/latex": [
       "5695"
      ],
      "text/markdown": [
       "5695"
      ],
      "text/plain": [
       "[1] 5695"
      ]
     },
     "metadata": {},
     "output_type": "display_data"
    },
    {
     "data": {
      "text/html": [
       "5695"
      ],
      "text/latex": [
       "5695"
      ],
      "text/markdown": [
       "5695"
      ],
      "text/plain": [
       "[1] 5695"
      ]
     },
     "metadata": {},
     "output_type": "display_data"
    },
    {
     "data": {
      "text/html": [
       "5695"
      ],
      "text/latex": [
       "5695"
      ],
      "text/markdown": [
       "5695"
      ],
      "text/plain": [
       "[1] 5695"
      ]
     },
     "metadata": {},
     "output_type": "display_data"
    },
    {
     "data": {
      "text/html": [
       "1988"
      ],
      "text/latex": [
       "1988"
      ],
      "text/markdown": [
       "1988"
      ],
      "text/plain": [
       "[1] 1988"
      ]
     },
     "metadata": {},
     "output_type": "display_data"
    },
    {
     "data": {
      "text/html": [
       "0.0199274272769191"
      ],
      "text/latex": [
       "0.0199274272769191"
      ],
      "text/markdown": [
       "0.0199274272769191"
      ],
      "text/plain": [
       "[1] 0.01992743"
      ]
     },
     "metadata": {},
     "output_type": "display_data"
    }
   ],
   "source": [
    "# Initial NIU in variables:\n",
    "length(copy_test_data$detailed_industry_recode[copy_test_data$detailed_industry_recode == 0]) # [1] 50283\n",
    "length(copy_test_data$detailed_occupation_recode[copy_test_data$detailed_occupation_recode == 0]) # [1] 50283\n",
    "length(copy_test_data$major_industry_code[copy_test_data$major_industry_code == \"NIU\"]) # [1] 50283\n",
    "length(copy_test_data$major_occupation_code[copy_test_data$major_occupation_code == \"NIU\"]) # [1] 50283\n",
    "length(copy_test_data$major_occupation_code[copy_test_data$major_occupation_code == \"NIU\"])/nrow(test_data) # Prop: 0.5040296\n",
    "\n",
    "# Assign NIU of people below legal working age to factor level \"Never worked\":\n",
    "length(test_data$detailed_industry_recode[test_data$detailed_industry_recode == 0 & test_data$age < 16]) # [1] 24725\n",
    "test_data$detailed_industry_recode[test_data$detailed_industry_recode == 0 & test_data$age < 16] <- \"Never worked\"\n",
    "\n",
    "length(test_data$detailed_occupation_recode[test_data$detailed_occupation_recode == 0 & test_data$age < 16]) # [1] 24725\n",
    "test_data$detailed_occupation_recode[test_data$detailed_occupation_recode == 0 & test_data$age < 16] <-  \"Never worked\"\n",
    "\n",
    "length(test_data$major_industry_code[test_data$major_industry_code == \"NIU\" & test_data$age < 16]) # [1] 24725\n",
    "test_data$major_industry_code[test_data$major_industry_code == \"NIU\" & test_data$age < 16] <-  \"Never worked\"\n",
    "\n",
    "length(test_data$major_occupation_code[test_data$major_occupation_code == \"NIU\" & test_data$age < 16]) # [1] 24725\n",
    "test_data$major_occupation_code[test_data$major_occupation_code == \"NIU\" & test_data$age < 16] <-  \"Never worked\"\n",
    "\n",
    "# Assign NIU of people above retirement age to NEW factor level \"Pass retirement\":\n",
    "length(test_data$detailed_industry_recode[test_data$detailed_industry_recode == 0 & test_data$age > 64]) # [1] 10829\n",
    "test_data$detailed_industry_recode[test_data$detailed_industry_recode == 0 & test_data$age > 64] <- \"Pass retirement\"\n",
    "\n",
    "length(test_data$detailed_occupation_recode[test_data$detailed_occupation_recode == 0 & test_data$age > 64]) # [1] 10829\n",
    "test_data$detailed_occupation_recode[test_data$detailed_occupation_recode == 0 & test_data$age > 64] <-  \"Pass retirement\"\n",
    "\n",
    "length(test_data$major_industry_code[test_data$major_industry_code == \"NIU\" & test_data$age > 64]) # [1] 10829\n",
    "test_data$major_industry_code[test_data$major_industry_code == \"NIU\" & test_data$age > 64] <-  \"Pass retirement\"\n",
    "\n",
    "length(test_data$major_occupation_code[test_data$major_occupation_code == \"NIU\" & test_data$age > 64]) # [1] 10829\n",
    "test_data$major_occupation_code[test_data$major_occupation_code == \"NIU\" & test_data$age > 64] <-  \"Pass retirement\"\n",
    "\n",
    "# Assign NIU of people of working age which are not in the labour force to NEW factor level \"Not in labor force\":\n",
    "length(test_data$detailed_industry_recode[test_data$detailed_industry_recode == 0 & test_data$full_or_part_time_employment_stat == \"Not in labor force\"]) # [1] 7046\n",
    "test_data$detailed_industry_recode[test_data$detailed_industry_recode == 0 & test_data$full_or_part_time_employment_stat == \"Not in labor force\"] <- \"Not in labor force\"\n",
    "\n",
    "length(test_data$detailed_occupation_recode[test_data$detailed_occupation_recode == 0 & test_data$full_or_part_time_employment_stat == \"Not in labor force\"]) # [1] 7046\n",
    "test_data$detailed_occupation_recode[test_data$detailed_occupation_recode == 0 & test_data$full_or_part_time_employment_stat == \"Not in labor force\"] <- \"Not in labor force\"\n",
    "\n",
    "length(test_data$major_industry_code[test_data$major_industry_code == \"NIU\" & test_data$full_or_part_time_employment_stat == \"Not in labor force\"]) # [1] 7046\n",
    "test_data$major_industry_code[test_data$major_industry_code == \"NIU\" & test_data$full_or_part_time_employment_stat == \"Not in labor force\"] <- \"Not in labor force\"\n",
    "\n",
    "length(test_data$major_occupation_code[test_data$major_occupation_code == \"NIU\" & test_data$full_or_part_time_employment_stat == \"Not in labor force\"]) # [1] 7046\n",
    "test_data$major_occupation_code[test_data$major_occupation_code == \"NIU\" & test_data$full_or_part_time_employment_stat == \"Not in labor force\"] <- \"Not in labor force\"\n",
    "\n",
    "# Assign NIU of people of working age which did not work that year to NEW factor level \"Not in labor force\":\n",
    "length(test_data$detailed_industry_recode[test_data$detailed_industry_recode == 0 & test_data$weeks_worked_in_year == 0]) # [1] 5695\n",
    "test_data$detailed_industry_recode[test_data$detailed_industry_recode == 0 & test_data$weeks_worked_in_year == 0] <- \"Not in labor force\"\n",
    "\n",
    "length(test_data$detailed_occupation_recode[test_data$detailed_occupation_recode == 0 & test_data$weeks_worked_in_year == 0]) # [1] 5695\n",
    "test_data$detailed_occupation_recode[test_data$detailed_occupation_recode == 0 & test_data$weeks_worked_in_year == 0] <- \"Not in labor force\"\n",
    "\n",
    "length(test_data$major_industry_code[test_data$major_industry_code == \"NIU\" & test_data$weeks_worked_in_year == 0]) # [1] 5695\n",
    "test_data$major_industry_code[test_data$major_industry_code == \"NIU\" & test_data$weeks_worked_in_year == 0] <- \"Not in labor force\"\n",
    "\n",
    "length(test_data$major_occupation_code[test_data$major_occupation_code == \"NIU\" & test_data$weeks_worked_in_year == 0]) # [1] 5695\n",
    "test_data$major_occupation_code[test_data$major_occupation_code == \"NIU\" & test_data$weeks_worked_in_year == 0] <- \"Not in labor force\"\n",
    "\n",
    "# Remaining NIU in variables: \n",
    "length(test_data$major_occupation_code[test_data$major_occupation_code == \"NIU\"]) # [1] 1988\n",
    "length(test_data$major_occupation_code[test_data$major_occupation_code == \"NIU\"])/nrow(test_data) # Prop: 0.01992743"
   ]
  },
  {
   "cell_type": "markdown",
   "metadata": {},
   "source": [
    "**RECODING: country_of_birth_father, country_of_birth_mother**"
   ]
  },
  {
   "cell_type": "code",
   "execution_count": 492,
   "metadata": {},
   "outputs": [
    {
     "data": {
      "text/html": [
       "0.928920831579158"
      ],
      "text/latex": [
       "0.928920831579158"
      ],
      "text/markdown": [
       "0.928920831579158"
      ],
      "text/plain": [
       "[1] 0.9289208"
      ]
     },
     "metadata": {},
     "output_type": "display_data"
    },
    {
     "data": {
      "text/html": [
       "981"
      ],
      "text/latex": [
       "981"
      ],
      "text/markdown": [
       "981"
      ],
      "text/plain": [
       "[1] 981"
      ]
     },
     "metadata": {},
     "output_type": "display_data"
    },
    {
     "data": {
      "text/html": [
       "624"
      ],
      "text/latex": [
       "624"
      ],
      "text/markdown": [
       "624"
      ],
      "text/plain": [
       "[1] 624"
      ]
     },
     "metadata": {},
     "output_type": "display_data"
    }
   ],
   "source": [
    "# Assign NIU of father's country of origin to mother's, and viceversa.\n",
    "# Assumption: 93% of parents are born in the same country:\n",
    "sum(test_data$country_of_birth_father == test_data$country_of_birth_mother)/nrow(test_data) # [1] 0.9289208\n",
    "# For country of father:\n",
    "length(test_data$country_of_birth_father[test_data$country_of_birth_father == \"NA\" & test_data$country_of_birth_mother != \"NA\"]) # [1] 981\n",
    "test_data$country_of_birth_father[test_data$country_of_birth_father == \"NA\" & test_data$country_of_birth_mother != \"NA\"] <- \n",
    "  test_data$country_of_birth_mother[test_data$country_of_birth_father == \"NA\" & test_data$country_of_birth_mother != \"NA\"]\n",
    "# For country of mother:\n",
    "length(test_data$country_of_birth_mother[test_data$country_of_birth_mother == \"NA\" & test_data$country_of_birth_father != \"NA\"]) # [1] 624\n",
    "test_data$country_of_birth_mother[test_data$country_of_birth_mother == \"NA\" & test_data$country_of_birth_father != \"NA\"] <- \n",
    "  test_data$country_of_birth_father[test_data$country_of_birth_mother == \"NA\" & test_data$country_of_birth_father != \"NA\"]"
   ]
  },
  {
   "cell_type": "markdown",
   "metadata": {},
   "source": [
    "### SANITY CHECK OF FACTOR LEVELS"
   ]
  },
  {
   "cell_type": "code",
   "execution_count": 493,
   "metadata": {},
   "outputs": [],
   "source": [
    "# Convert categorical variables back to factors:\n",
    "train_data  <- train_data %>%\n",
    "  mutate_at(.vars = (names(train_data)[cat_vars_train]), funs(as.factor(.)))\n",
    "\n",
    "test_data  <- test_data %>%\n",
    "  mutate_at(.vars = (names(test_data)[cat_vars_test]), funs(as.factor(.)))"
   ]
  },
  {
   "cell_type": "code",
   "execution_count": 494,
   "metadata": {},
   "outputs": [
    {
     "name": "stdout",
     "output_type": "stream",
     "text": [
      "                                       var.x pos.x class.x\n",
      "2                                        age     1 integer\n",
      "6                            class_of_worker     2  factor\n",
      "12                  detailed_industry_recode     3  factor\n",
      "13                detailed_occupation_recode     4  factor\n",
      "15                                 education     5  factor\n",
      "40                             wage_per_hour     6 integer\n",
      "16                enroll_in_edu_inst_last_wk     7  factor\n",
      "25                              marital_stat     8  factor\n",
      "23                       major_industry_code     9  factor\n",
      "24                     major_occupation_code    10  factor\n",
      "33                                      race    11  factor\n",
      "20                           hispanic_origin    12  factor\n",
      "36                                       sex    13  factor\n",
      "26                   member_of_a_labor_union    14  factor\n",
      "34                   reason_for_unemployment    15  factor\n",
      "19         full_or_part_time_employment_stat    16  factor\n",
      "3                              capital_gains    17 integer\n",
      "4                             capital_losses    18 integer\n",
      "14                     dividends_from_stocks    19 integer\n",
      "38                            tax_filer_stat    20  factor\n",
      "35              region_of_previous_residence    21  factor\n",
      "37               state_of_previous_residence    22  factor\n",
      "10        detailed_household_and_family_stat    23  factor\n",
      "11   detailed_household_summary_in_household    24  factor\n",
      "27              migration_code-change_in_msa    25  factor\n",
      "28              migration_code-change_in_reg    26  factor\n",
      "29            migration_code-move_within_reg    27  factor\n",
      "22             live_in_this_house_1_year_ago    28  factor\n",
      "30             migration_prev_res_in_sunbelt    29  factor\n",
      "31           num_persons_worked_for_employer    30 integer\n",
      "17                   family_members_under_18    31  factor\n",
      "7                    country_of_birth_father    32  factor\n",
      "8                    country_of_birth_mother    33  factor\n",
      "9                      country_of_birth_self    34  factor\n",
      "5                                citizenship    35  factor\n",
      "32             own_business_or_self_employed    36  factor\n",
      "18 fill_inc_questionnaire_for_veterans_admin    37  factor\n",
      "39                         veterans_benefits    38  factor\n",
      "41                      weeks_worked_in_year    39 integer\n",
      "21                                    income    40  factor\n",
      "1                              ..row.names..    41 integer\n",
      "                                       var.y pos.y class.y            values\n",
      "2                                        age     1 integer 98405 differences\n",
      "6                            class_of_worker     2  factor 77103 differences\n",
      "12                  detailed_industry_recode     3  factor 89199 differences\n",
      "13                detailed_occupation_recode     4  factor 89675 differences\n",
      "15                                 education     5  factor 84358 differences\n",
      "40                             wage_per_hour     6 integer 10951 differences\n",
      "16                enroll_in_edu_inst_last_wk     7  factor 12074 differences\n",
      "25                              marital_stat     8  factor 62519 differences\n",
      "23                       major_industry_code     9  factor 88805 differences\n",
      "24                     major_occupation_code    10  factor 87919 differences\n",
      "33                                      race    11  factor 28378 differences\n",
      "20                           hispanic_origin    12  factor 25271 differences\n",
      "36                                       sex    13  factor 50018 differences\n",
      "26                   member_of_a_labor_union    14  factor 17604 differences\n",
      "34                   reason_for_unemployment    15  factor  6015 differences\n",
      "19         full_or_part_time_employment_stat    16  factor 55520 differences\n",
      "3                              capital_gains    17 integer  7353 differences\n",
      "4                             capital_losses    18 integer  3841 differences\n",
      "14                     dividends_from_stocks    19 integer 19986 differences\n",
      "38                            tax_filer_stat    20  factor 70164 differences\n",
      "35              region_of_previous_residence    21  factor 14798 differences\n",
      "37               state_of_previous_residence    22  factor 14921 differences\n",
      "10        detailed_household_and_family_stat    23  factor 92884 differences\n",
      "11   detailed_household_summary_in_household    24  factor 73536 differences\n",
      "27              migration_code-change_in_msa    25  factor 57309 differences\n",
      "28              migration_code-change_in_reg    26  factor 57560 differences\n",
      "29            migration_code-move_within_reg    27  factor 57564 differences\n",
      "22             live_in_this_house_1_year_ago    28  factor 56527 differences\n",
      "30             migration_prev_res_in_sunbelt    29  factor 56861 differences\n",
      "31           num_persons_worked_for_employer    30 integer 70597 differences\n",
      "17                   family_members_under_18    31  factor 42748 differences\n",
      "7                    country_of_birth_father    32  factor 34867 differences\n",
      "8                    country_of_birth_mother    33  factor 34204 differences\n",
      "9                      country_of_birth_self    34  factor 21202 differences\n",
      "5                                citizenship    35  factor 20784 differences\n",
      "32             own_business_or_self_employed    36  factor 17379 differences\n",
      "18 fill_inc_questionnaire_for_veterans_admin    37  factor  1991 differences\n",
      "39                         veterans_benefits    38  factor 37117 differences\n",
      "41                      weeks_worked_in_year    39 integer 64033 differences\n",
      "21                                    income    40  factor 11564 differences\n",
      "1                              ..row.names..    41 integer       by-variable\n",
      "          attrs\n",
      "2  0 attributes\n",
      "6  0 attributes\n",
      "12 0 attributes\n",
      "13 0 attributes\n",
      "15 0 attributes\n",
      "40 0 attributes\n",
      "16 0 attributes\n",
      "25 0 attributes\n",
      "23 0 attributes\n",
      "24 0 attributes\n",
      "33 0 attributes\n",
      "20 0 attributes\n",
      "36 0 attributes\n",
      "26 0 attributes\n",
      "34 0 attributes\n",
      "19 0 attributes\n",
      "3  0 attributes\n",
      "4  0 attributes\n",
      "14 0 attributes\n",
      "38 0 attributes\n",
      "35 0 attributes\n",
      "37 0 attributes\n",
      "10 1 attributes\n",
      "11 0 attributes\n",
      "27 0 attributes\n",
      "28 0 attributes\n",
      "29 0 attributes\n",
      "22 0 attributes\n",
      "30 0 attributes\n",
      "31 0 attributes\n",
      "17 0 attributes\n",
      "7  0 attributes\n",
      "8  0 attributes\n",
      "9  0 attributes\n",
      "5  0 attributes\n",
      "32 0 attributes\n",
      "18 0 attributes\n",
      "39 0 attributes\n",
      "41 0 attributes\n",
      "21 0 attributes\n",
      "1  0 attributes\n"
     ]
    }
   ],
   "source": [
    "compare_factors <- compare(train_data, test_data)\n",
    "print(compare_factors$vars.summary)\n",
    "# RESULTS: Only one factor level difference between train set and test set in variable \"detailed_household_and_family_stat\". \n",
    "# This variable misses one factor level in the test set which does appear in the training set. This will not affect the algorithms downstream:\n",
    "#\n",
    "#                                       var.x pos.x class.x                                     var.y pos.y class.y            values        attrs\n",
    "# 10        detailed_household_and_family_stat    23  factor        detailed_household_and_family_stat    23  factor 92884 differences 1 attributes"
   ]
  },
  {
   "cell_type": "code",
   "execution_count": 495,
   "metadata": {},
   "outputs": [
    {
     "data": {
      "text/html": [
       "<ol class=list-inline>\n",
       "\t<li>'cat_vars_test'</li>\n",
       "\t<li>'cat_vars_train'</li>\n",
       "\t<li>'outcome_labeller'</li>\n",
       "\t<li>'outcome_names'</li>\n",
       "\t<li>'palette'</li>\n",
       "\t<li>'plot_categorical_variable'</li>\n",
       "\t<li>'plot_numerical_variable'</li>\n",
       "\t<li>'proper_case'</li>\n",
       "\t<li>'test_data'</li>\n",
       "\t<li>'train_data'</li>\n",
       "</ol>\n"
      ],
      "text/latex": [
       "\\begin{enumerate*}\n",
       "\\item 'cat\\_vars\\_test'\n",
       "\\item 'cat\\_vars\\_train'\n",
       "\\item 'outcome\\_labeller'\n",
       "\\item 'outcome\\_names'\n",
       "\\item 'palette'\n",
       "\\item 'plot\\_categorical\\_variable'\n",
       "\\item 'plot\\_numerical\\_variable'\n",
       "\\item 'proper\\_case'\n",
       "\\item 'test\\_data'\n",
       "\\item 'train\\_data'\n",
       "\\end{enumerate*}\n"
      ],
      "text/markdown": [
       "1. 'cat_vars_test'\n",
       "2. 'cat_vars_train'\n",
       "3. 'outcome_labeller'\n",
       "4. 'outcome_names'\n",
       "5. 'palette'\n",
       "6. 'plot_categorical_variable'\n",
       "7. 'plot_numerical_variable'\n",
       "8. 'proper_case'\n",
       "9. 'test_data'\n",
       "10. 'train_data'\n",
       "\n",
       "\n"
      ],
      "text/plain": [
       " [1] \"cat_vars_test\"             \"cat_vars_train\"           \n",
       " [3] \"outcome_labeller\"          \"outcome_names\"            \n",
       " [5] \"palette\"                   \"plot_categorical_variable\"\n",
       " [7] \"plot_numerical_variable\"   \"proper_case\"              \n",
       " [9] \"test_data\"                 \"train_data\"               "
      ]
     },
     "metadata": {},
     "output_type": "display_data"
    }
   ],
   "source": [
    "##### GOOD HOUSEKEEPING #####\n",
    "rm(list=setdiff(ls(), c(\"train_data\", \"test_data\", \"cat_vars_train\", \"cat_vars_test\",\n",
    "                       \"plot_numerical_variable\", \"plot_categorical_variable\", \"palette\",\n",
    "                        \"proper_case\", \"outcome_labeller\", \"outcome_names\")))\n",
    "ls()"
   ]
  },
  {
   "cell_type": "markdown",
   "metadata": {},
   "source": [
    "### 5. Recoding Categorical Variables"
   ]
  },
  {
   "cell_type": "markdown",
   "metadata": {},
   "source": [
    "**RECODING OF CATEGORICAL VARIABLES IN THE TRAINING SET**"
   ]
  },
  {
   "cell_type": "code",
   "execution_count": 496,
   "metadata": {},
   "outputs": [],
   "source": [
    "# Convert categorical variables to character:\n",
    "train_data[,cat_vars_train] <- sapply(train_data[,cat_vars_train], as.character)\n",
    "test_data[,cat_vars_test] <- sapply(test_data[,cat_vars_test], as.character)"
   ]
  },
  {
   "cell_type": "markdown",
   "metadata": {},
   "source": [
    "**RECODING: education**"
   ]
  },
  {
   "cell_type": "code",
   "execution_count": 497,
   "metadata": {},
   "outputs": [
    {
     "data": {
      "text/plain": [
       "                                        \n",
       "                                                   0           1\n",
       "  10th grade                             0.991795686 0.008204314\n",
       "  11th grade                             0.989819663 0.010180337\n",
       "  12th grade no diploma                  0.984007526 0.015992474\n",
       "  1st 2nd 3rd or 4th grade               0.992773763 0.007226237\n",
       "  5th or 6th grade                       0.993286543 0.006713457\n",
       "  7th and 8th grade                      0.991007868 0.008992132\n",
       "  9th grade                              0.993900482 0.006099518\n",
       "  Associates degree-academic program     0.905569562 0.094430438\n",
       "  Associates degree-occup /vocational    0.922919000 0.077081000\n",
       "  Bachelors degree(BA AB BS)             0.802919708 0.197080292\n",
       "  Children                               1.000000000 0.000000000\n",
       "  Doctorate degree(PhD EdD)              0.479809976 0.520190024\n",
       "  High school graduate                   0.961183300 0.038816700\n",
       "  Less than 1st grade                    0.998778999 0.001221001\n",
       "  Masters degree(MA MS MEng MEd MSW MBA) 0.688426846 0.311573154\n",
       "  Prof school degree (MD DDS DVM LLB JD) 0.459564975 0.540435025\n",
       "  Some college but no degree             0.935765636 0.064234364"
      ]
     },
     "metadata": {},
     "output_type": "display_data"
    },
    {
     "data": {
      "text/html": [
       "17"
      ],
      "text/latex": [
       "17"
      ],
      "text/markdown": [
       "17"
      ],
      "text/plain": [
       "[1] 17"
      ]
     },
     "metadata": {},
     "output_type": "display_data"
    },
    {
     "data": {
      "text/html": [
       "8"
      ],
      "text/latex": [
       "8"
      ],
      "text/markdown": [
       "8"
      ],
      "text/plain": [
       "[1] 8"
      ]
     },
     "metadata": {},
     "output_type": "display_data"
    }
   ],
   "source": [
    "# Reduce number of factors:\n",
    "prop.table(table(train_data$education, train_data$income), 1)\n",
    "edu_curr_levels <- c(\"High school graduate\", \"Some college but no degree\", \"10th grade\", \"Children\", \"Bachelors degree(BA AB BS)\", \n",
    "                     \"Masters degree(MA MS MEng MEd MSW MBA)\", \"Less than 1st grade\", \"Associates degree-academic program\", \"7th and 8th grade\",\n",
    "                     \"12th grade no diploma\", \"Associates degree-occup /vocational\", \"Prof school degree (MD DDS DVM LLB JD)\", \"5th or 6th grade\",\n",
    "                     \"11th grade\", \"Doctorate degree(PhD EdD)\", \"9th grade\", \"1st 2nd 3rd or 4th grade\")\n",
    "length(unique(edu_curr_levels)) # [1] 17\n",
    "\n",
    "edu_new_levels <- c(\"School finished\", \"Undergraduate unfinished\", \"School unfinished\", \"Children\", \"Undergraduate finished\", \"Graduate\", \"No school\",\n",
    "                    \"Undergraduate unfinished\", \"School unfinished\", \"School unfinished\", \"Undergraduate unfinished\", \"Post Graduate\", \"School unfinished\",\n",
    "                    \"School unfinished\", \"Post Graduate\", \"School unfinished\", \"School unfinished\")\n",
    "length(unique(edu_new_levels)) # [1] 8\n",
    "\n",
    "# Create a named vector for applying the replacements to the datasets:\n",
    "names(edu_new_levels) <- edu_curr_levels\n",
    "\n",
    "# Replace current factor levels with new ones:\n",
    "train_data$education[] <- edu_new_levels[train_data$education]\n",
    "test_data$education[] <- edu_new_levels[test_data$education]"
   ]
  },
  {
   "cell_type": "markdown",
   "metadata": {},
   "source": [
    "**RECODING: hispanic_origin**"
   ]
  },
  {
   "cell_type": "code",
   "execution_count": 498,
   "metadata": {},
   "outputs": [
    {
     "data": {
      "text/html": [
       "15617"
      ],
      "text/latex": [
       "15617"
      ],
      "text/markdown": [
       "15617"
      ],
      "text/plain": [
       "[1] 15617"
      ]
     },
     "metadata": {},
     "output_type": "display_data"
    },
    {
     "data": {
      "text/html": [
       "7866"
      ],
      "text/latex": [
       "7866"
      ],
      "text/markdown": [
       "7866"
      ],
      "text/plain": [
       "[1] 7866"
      ]
     },
     "metadata": {},
     "output_type": "display_data"
    }
   ],
   "source": [
    "# Reduce number of factors: Join \"Mexican (Mexicano)\", \"Mexican-American\", and \"Chicano\", as they represent the same mexican origin.\n",
    "mex_curr_levels <- c(\"Mexican (Mexicano)\", \"Mexican-American\", \"Chicano\")\n",
    "mex_new_level <- \"Mexican\"\n",
    "\n",
    "sum(train_data$hispanic_origin %in% mex_curr_levels) # [1] 15617\n",
    "sum(test_data$hispanic_origin %in% mex_curr_levels) # [1] 7866\n",
    "\n",
    "train_data$hispanic_origin[train_data$hispanic_origin %in% mex_curr_levels] <- mex_new_level\n",
    "test_data$hispanic_origin[test_data$hispanic_origin %in% mex_curr_levels] <- mex_new_level"
   ]
  },
  {
   "cell_type": "markdown",
   "metadata": {},
   "source": [
    "**RECODING: capital_gains, capital_losses, dividends_from_stocks**"
   ]
  },
  {
   "cell_type": "code",
   "execution_count": 499,
   "metadata": {},
   "outputs": [
    {
     "data": {
      "text/plain": [
       "                \n",
       "cap_gains_bins        0      1\n",
       "  [0,10000)      186868  10809\n",
       "  [10000,20000)     200   1015\n",
       "  [20000,30000)      14    214\n",
       "  [30000,40000)      11      0\n",
       "  [40000,50000)       2      0\n",
       "  [50000,60000)       0      0\n",
       "  [60000,70000)       0      0\n",
       "  [70000,80000)       0      0\n",
       "  [80000,90000)       0      0\n",
       "  [90000,100000)     46    344"
      ]
     },
     "metadata": {},
     "output_type": "display_data"
    },
    {
     "data": {
      "text/plain": [
       "                \n",
       "cap_gains_bins            0          1\n",
       "  [0,10000)      0.94531989 0.05468011\n",
       "  [10000,20000)  0.16460905 0.83539095\n",
       "  [20000,30000)  0.06140351 0.93859649\n",
       "  [30000,40000)  1.00000000 0.00000000\n",
       "  [40000,50000)  1.00000000 0.00000000\n",
       "  [50000,60000)                       \n",
       "  [60000,70000)                       \n",
       "  [70000,80000)                       \n",
       "  [80000,90000)                       \n",
       "  [90000,100000) 0.11794872 0.88205128"
      ]
     },
     "metadata": {},
     "output_type": "display_data"
    },
    {
     "data": {
      "text/plain": [
       "             \n",
       "cap_loss_bins      0      1\n",
       "  [0,1900)    186106  11477\n",
       "  [1900,5000)   1035    905"
      ]
     },
     "metadata": {},
     "output_type": "display_data"
    },
    {
     "data": {
      "text/plain": [
       "             \n",
       "cap_loss_bins          0          1\n",
       "  [0,1900)    0.94191302 0.05808698\n",
       "  [1900,5000) 0.53350515 0.46649485"
      ]
     },
     "metadata": {},
     "output_type": "display_data"
    },
    {
     "data": {
      "text/plain": [
       "                \n",
       "divs_stocks_bins      0      1\n",
       "  [0,15000)      186991  12071\n",
       "  [15000,100000)    150    311"
      ]
     },
     "metadata": {},
     "output_type": "display_data"
    },
    {
     "data": {
      "text/plain": [
       "                \n",
       "divs_stocks_bins         0         1\n",
       "  [0,15000)      0.9393606 0.0606394\n",
       "  [15000,100000) 0.3253796 0.6746204"
      ]
     },
     "metadata": {},
     "output_type": "display_data"
    }
   ],
   "source": [
    "# capital_gains:\n",
    "cap_gains_bins <- cut(train_data$capital_gains, breaks = seq(0, max(train_data$capital_gains) + 1, round(max(train_data$capital_gains)/10)), right = FALSE, dig.lab = 10)\n",
    "table(cap_gains_bins, train_data$income)\n",
    "prop.table(table(cap_gains_bins, train_data$income),1) # Probabilities of income > 50,000 reverse when capital_gains > 10,000:\n",
    "threshold_cap_gains <- 10000\n",
    "train_data$capital_gains <- ifelse(train_data$capital_gains < threshold_cap_gains, \"0\", \"1\")\n",
    "test_data$capital_gains <- ifelse(test_data$capital_gains < threshold_cap_gains, \"0\", \"1\")\n",
    "\n",
    "# capital_losses:\n",
    "cap_loss_bins <- cut(train_data$capital_losses, breaks = c(0,1900,5000), right = FALSE, dig.lab = 10)\n",
    "table(cap_loss_bins, train_data$income)\n",
    "prop.table(table(cap_loss_bins, train_data$income),1) # Probabilities of income > 50,000 around 50% when capital_losses > 1,900:\n",
    "threshold_cap_loss <- 1900\n",
    "train_data$capital_losses <- ifelse(train_data$capital_losses < threshold_cap_loss, \"0\", \"1\")\n",
    "test_data$capital_losses <- ifelse(test_data$capital_losses < threshold_cap_loss, \"0\", \"1\")\n",
    "\n",
    "# dividends_from_stocks:\n",
    "divs_stocks_bins <- cut(train_data$dividends_from_stocks, breaks = c(0, 15000, 100000), right = FALSE, dig.lab = 10) #breaks = seq(0, max(train_data$dividends_from_stocks) + 1, round(max(train_data$dividends_from_stocks)/100))\n",
    "table(divs_stocks_bins, train_data$income)\n",
    "prop.table(table(divs_stocks_bins, train_data$income),1) # Probabilities of income > 50,000 around 50% when dividends_from_stocks > 1,900:\n",
    "threshold_divs_stocks <- 15000\n",
    "train_data$dividends_from_stocks <- ifelse(train_data$dividends_from_stocks < threshold_divs_stocks, \"0\", \"1\")\n",
    "test_data$dividends_from_stocks <- ifelse(test_data$dividends_from_stocks < threshold_divs_stocks, \"0\", \"1\")"
   ]
  },
  {
   "cell_type": "markdown",
   "metadata": {},
   "source": [
    "### SANITY CHECK OF FACTOR LEVELS"
   ]
  },
  {
   "cell_type": "code",
   "execution_count": 500,
   "metadata": {},
   "outputs": [],
   "source": [
    "# Convert categorical variables back to factors:\n",
    "train_data  <- train_data %>%  \n",
    "  mutate_at(.vars = (names(train_data)[unname(sapply(train_data, class)) == \"character\"]), funs(as.factor(.)))\n",
    "\n",
    "test_data  <- test_data %>%\n",
    "  mutate_at(.vars = (names(test_data)[unname(sapply(test_data, class)) == \"character\"]), funs(as.factor(.)))"
   ]
  },
  {
   "cell_type": "code",
   "execution_count": 501,
   "metadata": {},
   "outputs": [
    {
     "name": "stdout",
     "output_type": "stream",
     "text": [
      "                                       var.x pos.x class.x\n",
      "2                                        age     1 integer\n",
      "6                            class_of_worker     2  factor\n",
      "12                  detailed_industry_recode     3  factor\n",
      "13                detailed_occupation_recode     4  factor\n",
      "15                                 education     5  factor\n",
      "40                             wage_per_hour     6 integer\n",
      "16                enroll_in_edu_inst_last_wk     7  factor\n",
      "25                              marital_stat     8  factor\n",
      "23                       major_industry_code     9  factor\n",
      "24                     major_occupation_code    10  factor\n",
      "33                                      race    11  factor\n",
      "20                           hispanic_origin    12  factor\n",
      "36                                       sex    13  factor\n",
      "26                   member_of_a_labor_union    14  factor\n",
      "34                   reason_for_unemployment    15  factor\n",
      "19         full_or_part_time_employment_stat    16  factor\n",
      "3                              capital_gains    17  factor\n",
      "4                             capital_losses    18  factor\n",
      "14                     dividends_from_stocks    19  factor\n",
      "38                            tax_filer_stat    20  factor\n",
      "35              region_of_previous_residence    21  factor\n",
      "37               state_of_previous_residence    22  factor\n",
      "10        detailed_household_and_family_stat    23  factor\n",
      "11   detailed_household_summary_in_household    24  factor\n",
      "27              migration_code-change_in_msa    25  factor\n",
      "28              migration_code-change_in_reg    26  factor\n",
      "29            migration_code-move_within_reg    27  factor\n",
      "22             live_in_this_house_1_year_ago    28  factor\n",
      "30             migration_prev_res_in_sunbelt    29  factor\n",
      "31           num_persons_worked_for_employer    30 integer\n",
      "17                   family_members_under_18    31  factor\n",
      "7                    country_of_birth_father    32  factor\n",
      "8                    country_of_birth_mother    33  factor\n",
      "9                      country_of_birth_self    34  factor\n",
      "5                                citizenship    35  factor\n",
      "32             own_business_or_self_employed    36  factor\n",
      "18 fill_inc_questionnaire_for_veterans_admin    37  factor\n",
      "39                         veterans_benefits    38  factor\n",
      "41                      weeks_worked_in_year    39 integer\n",
      "21                                    income    40  factor\n",
      "1                              ..row.names..    41 integer\n",
      "                                       var.y pos.y class.y            values\n",
      "2                                        age     1 integer 98405 differences\n",
      "6                            class_of_worker     2  factor 77103 differences\n",
      "12                  detailed_industry_recode     3  factor 89199 differences\n",
      "13                detailed_occupation_recode     4  factor 89675 differences\n",
      "15                                 education     5  factor 80190 differences\n",
      "40                             wage_per_hour     6 integer 10951 differences\n",
      "16                enroll_in_edu_inst_last_wk     7  factor 12074 differences\n",
      "25                              marital_stat     8  factor 62519 differences\n",
      "23                       major_industry_code     9  factor 88805 differences\n",
      "24                     major_occupation_code    10  factor 87919 differences\n",
      "33                                      race    11  factor 28378 differences\n",
      "20                           hispanic_origin    12  factor 24946 differences\n",
      "36                                       sex    13  factor 50018 differences\n",
      "26                   member_of_a_labor_union    14  factor 17604 differences\n",
      "34                   reason_for_unemployment    15  factor  6015 differences\n",
      "19         full_or_part_time_employment_stat    16  factor 55520 differences\n",
      "3                              capital_gains    17  factor  1807 differences\n",
      "4                             capital_losses    18  factor  1863 differences\n",
      "14                     dividends_from_stocks    19  factor   477 differences\n",
      "38                            tax_filer_stat    20  factor 70164 differences\n",
      "35              region_of_previous_residence    21  factor 14798 differences\n",
      "37               state_of_previous_residence    22  factor 14921 differences\n",
      "10        detailed_household_and_family_stat    23  factor 92884 differences\n",
      "11   detailed_household_summary_in_household    24  factor 73536 differences\n",
      "27              migration_code-change_in_msa    25  factor 57309 differences\n",
      "28              migration_code-change_in_reg    26  factor 57560 differences\n",
      "29            migration_code-move_within_reg    27  factor 57564 differences\n",
      "22             live_in_this_house_1_year_ago    28  factor 56527 differences\n",
      "30             migration_prev_res_in_sunbelt    29  factor 56861 differences\n",
      "31           num_persons_worked_for_employer    30 integer 70597 differences\n",
      "17                   family_members_under_18    31  factor 42748 differences\n",
      "7                    country_of_birth_father    32  factor 34867 differences\n",
      "8                    country_of_birth_mother    33  factor 34204 differences\n",
      "9                      country_of_birth_self    34  factor 21202 differences\n",
      "5                                citizenship    35  factor 20784 differences\n",
      "32             own_business_or_self_employed    36  factor 17379 differences\n",
      "18 fill_inc_questionnaire_for_veterans_admin    37  factor  1991 differences\n",
      "39                         veterans_benefits    38  factor 37117 differences\n",
      "41                      weeks_worked_in_year    39 integer 64033 differences\n",
      "21                                    income    40  factor 11564 differences\n",
      "1                              ..row.names..    41 integer       by-variable\n",
      "          attrs\n",
      "2  0 attributes\n",
      "6  0 attributes\n",
      "12 0 attributes\n",
      "13 0 attributes\n",
      "15 0 attributes\n",
      "40 0 attributes\n",
      "16 0 attributes\n",
      "25 0 attributes\n",
      "23 0 attributes\n",
      "24 0 attributes\n",
      "33 0 attributes\n",
      "20 0 attributes\n",
      "36 0 attributes\n",
      "26 0 attributes\n",
      "34 0 attributes\n",
      "19 0 attributes\n",
      "3  0 attributes\n",
      "4  0 attributes\n",
      "14 0 attributes\n",
      "38 0 attributes\n",
      "35 0 attributes\n",
      "37 0 attributes\n",
      "10 1 attributes\n",
      "11 0 attributes\n",
      "27 0 attributes\n",
      "28 0 attributes\n",
      "29 0 attributes\n",
      "22 0 attributes\n",
      "30 0 attributes\n",
      "31 0 attributes\n",
      "17 0 attributes\n",
      "7  0 attributes\n",
      "8  0 attributes\n",
      "9  0 attributes\n",
      "5  0 attributes\n",
      "32 0 attributes\n",
      "18 0 attributes\n",
      "39 0 attributes\n",
      "41 0 attributes\n",
      "21 0 attributes\n",
      "1  0 attributes\n"
     ]
    }
   ],
   "source": [
    "compare_factors <- compare(train_data, test_data)\n",
    "print(compare_factors$vars.summary)\n",
    "# RESULTS: Facor levels remain the same between train and test set (only one factor level missing for variable detailed_household_and_family_stat in test set) after recoding.\n",
    "# \n",
    "#                                       var.x pos.x class.x                                     var.y pos.y class.y            values        attrs\n",
    "# 10        detailed_household_and_family_stat    23  factor        detailed_household_and_family_stat    23  factor 92884 differences 1 attributes"
   ]
  },
  {
   "cell_type": "code",
   "execution_count": 502,
   "metadata": {},
   "outputs": [
    {
     "data": {
      "text/html": [
       "<ol class=list-inline>\n",
       "\t<li>'cat_vars_test'</li>\n",
       "\t<li>'cat_vars_train'</li>\n",
       "\t<li>'outcome_labeller'</li>\n",
       "\t<li>'outcome_names'</li>\n",
       "\t<li>'palette'</li>\n",
       "\t<li>'plot_categorical_variable'</li>\n",
       "\t<li>'plot_numerical_variable'</li>\n",
       "\t<li>'proper_case'</li>\n",
       "\t<li>'test_data'</li>\n",
       "\t<li>'train_data'</li>\n",
       "</ol>\n"
      ],
      "text/latex": [
       "\\begin{enumerate*}\n",
       "\\item 'cat\\_vars\\_test'\n",
       "\\item 'cat\\_vars\\_train'\n",
       "\\item 'outcome\\_labeller'\n",
       "\\item 'outcome\\_names'\n",
       "\\item 'palette'\n",
       "\\item 'plot\\_categorical\\_variable'\n",
       "\\item 'plot\\_numerical\\_variable'\n",
       "\\item 'proper\\_case'\n",
       "\\item 'test\\_data'\n",
       "\\item 'train\\_data'\n",
       "\\end{enumerate*}\n"
      ],
      "text/markdown": [
       "1. 'cat_vars_test'\n",
       "2. 'cat_vars_train'\n",
       "3. 'outcome_labeller'\n",
       "4. 'outcome_names'\n",
       "5. 'palette'\n",
       "6. 'plot_categorical_variable'\n",
       "7. 'plot_numerical_variable'\n",
       "8. 'proper_case'\n",
       "9. 'test_data'\n",
       "10. 'train_data'\n",
       "\n",
       "\n"
      ],
      "text/plain": [
       " [1] \"cat_vars_test\"             \"cat_vars_train\"           \n",
       " [3] \"outcome_labeller\"          \"outcome_names\"            \n",
       " [5] \"palette\"                   \"plot_categorical_variable\"\n",
       " [7] \"plot_numerical_variable\"   \"proper_case\"              \n",
       " [9] \"test_data\"                 \"train_data\"               "
      ]
     },
     "metadata": {},
     "output_type": "display_data"
    }
   ],
   "source": [
    "##### GOOD HOUSEKEEPING #####\n",
    "rm(list=setdiff(ls(), c(\"train_data\", \"test_data\", \"cat_vars_train\", \"cat_vars_test\",\n",
    "                       \"plot_numerical_variable\", \"plot_categorical_variable\", \"palette\",\n",
    "                        \"proper_case\", \"outcome_labeller\", \"outcome_names\")))\n",
    "ls()"
   ]
  },
  {
   "cell_type": "markdown",
   "metadata": {},
   "source": [
    "### 6. Treatment of remaining missing values"
   ]
  },
  {
   "cell_type": "code",
   "execution_count": 503,
   "metadata": {},
   "outputs": [],
   "source": [
    "# Convert remaining \"NA\" and \"NIU\" to NA:\n",
    "train_data[,cat_vars_train] <- sapply(train_data[,cat_vars_train], as.character)\n",
    "train_data[train_data == \"NA\"] <- NA\n",
    "train_data[train_data == \"NIU\"] <- NA\n",
    "train_data  <- train_data %>%\n",
    "  mutate_at(.vars = (names(train_data)[cat_vars_train]), funs(as.factor(.)))\n",
    "\n",
    "test_data[,cat_vars_test] <- sapply(test_data[,cat_vars_test], as.character)\n",
    "test_data[test_data == \"NA\"] <- NA\n",
    "test_data[test_data == \"NIU\"] <- NA\n",
    "test_data  <- test_data %>%\n",
    "  mutate_at(.vars = (names(test_data)[cat_vars_test]), funs(as.factor(.)))\n",
    "\n",
    "##### JOIN TRAIN AND TEST SET #####\n",
    "full_data <- rbind(train_data, test_data)\n",
    "\n",
    "# Subset data with variables containing NA:\n",
    "full_data_with_na <- full_data[colnames(full_data)[colSums(is.na(full_data)) > 0]]\n",
    "# Unburden memory usage:\n",
    "rm(full_data)"
   ]
  },
  {
   "cell_type": "code",
   "execution_count": 504,
   "metadata": {},
   "outputs": [
    {
     "data": {
      "image/png": "[encoded data removed]",
      "text/plain": [
       "plot without title"
      ]
     },
     "metadata": {},
     "output_type": "display_data"
    },
    {
     "name": "stdout",
     "output_type": "stream",
     "text": [
      "\n",
      " Variables sorted by number of missings: \n",
      "   Variable       Count\n",
      " fill_inc_q 0.989939355\n",
      " reason_for 0.969260070\n",
      " enroll_in_ 0.936789348\n",
      " state_of_p 0.925058055\n",
      " region_of_ 0.921589789\n",
      " migration_ 0.921589789\n",
      " member_of_ 0.904629367\n",
      " family_mem 0.723811751\n",
      " migration_ 0.509584510\n",
      " migration_ 0.507479493\n",
      " migration_ 0.507479493\n",
      " live_in_th 0.507479493\n",
      " country_of 0.024481681\n",
      " country_of 0.024481681\n",
      " major_indu 0.019670214\n",
      " major_occu 0.019670214\n",
      " class_of_w 0.019489784\n",
      " country_of 0.017231067\n",
      " hispanic_o 0.004273519\n"
     ]
    },
    {
     "data": {
      "image/png": "[encoded data removed]",
      "text/plain": [
       "plot without title"
      ]
     },
     "metadata": {},
     "output_type": "display_data"
    }
   ],
   "source": [
    "##### MAP MISSING VALUES IN FULL DATASET #####\n",
    "aggr_plot <- aggr(full_data_with_na)\n",
    "plot(aggr_plot, col=c('palegreen1','indianred1'), combined = FALSE, sortVars=TRUE, only.miss = FALSE, bars = FALSE, border = NA,\n",
    "     labels=str_sub(names(full_data_with_na), start = 1, end = 10), cex.numbers= 0.5, cex.axis=0.7, gap=1, \n",
    "     ylab=c(\"Proportions of Missing Values in Training + Test Set \",\"Mosaic\"))"
   ]
  },
  {
   "cell_type": "code",
   "execution_count": 505,
   "metadata": {},
   "outputs": [],
   "source": [
    "# Unburden memory usage:\n",
    "rm(full_data_with_na)"
   ]
  },
  {
   "cell_type": "code",
   "execution_count": 506,
   "metadata": {},
   "outputs": [],
   "source": [
    "# Choose variables to remove from dataset based on threshold of proportion of missing values:\n",
    "threshold <- 0.05\n",
    "missing_vars <- aggr_plot$missings\n",
    "vars_to_remove <- missing_vars %>%\n",
    "  mutate(props = Count / (nrow(train_data) + nrow(test_data))) %>%\n",
    "  filter(props > threshold) %>%\n",
    "  select(Variable) %>%\n",
    "  pull()"
   ]
  },
  {
   "cell_type": "code",
   "execution_count": 507,
   "metadata": {},
   "outputs": [],
   "source": [
    "##### REMOVE SELECTED VARIABLES FROM DATASET #####\n",
    "train_data <- train_data[,!names(train_data) %in% vars_to_remove]\n",
    "test_data <- test_data[,!names(test_data) %in% vars_to_remove]"
   ]
  },
  {
   "cell_type": "code",
   "execution_count": 508,
   "metadata": {},
   "outputs": [
    {
     "data": {
      "text/html": [
       "<ol class=list-inline>\n",
       "\t<li>'outcome_labeller'</li>\n",
       "\t<li>'outcome_names'</li>\n",
       "\t<li>'palette'</li>\n",
       "\t<li>'plot_categorical_variable'</li>\n",
       "\t<li>'plot_numerical_variable'</li>\n",
       "\t<li>'proper_case'</li>\n",
       "\t<li>'test_data'</li>\n",
       "\t<li>'train_data'</li>\n",
       "</ol>\n"
      ],
      "text/latex": [
       "\\begin{enumerate*}\n",
       "\\item 'outcome\\_labeller'\n",
       "\\item 'outcome\\_names'\n",
       "\\item 'palette'\n",
       "\\item 'plot\\_categorical\\_variable'\n",
       "\\item 'plot\\_numerical\\_variable'\n",
       "\\item 'proper\\_case'\n",
       "\\item 'test\\_data'\n",
       "\\item 'train\\_data'\n",
       "\\end{enumerate*}\n"
      ],
      "text/markdown": [
       "1. 'outcome_labeller'\n",
       "2. 'outcome_names'\n",
       "3. 'palette'\n",
       "4. 'plot_categorical_variable'\n",
       "5. 'plot_numerical_variable'\n",
       "6. 'proper_case'\n",
       "7. 'test_data'\n",
       "8. 'train_data'\n",
       "\n",
       "\n"
      ],
      "text/plain": [
       "[1] \"outcome_labeller\"          \"outcome_names\"            \n",
       "[3] \"palette\"                   \"plot_categorical_variable\"\n",
       "[5] \"plot_numerical_variable\"   \"proper_case\"              \n",
       "[7] \"test_data\"                 \"train_data\"               "
      ]
     },
     "metadata": {},
     "output_type": "display_data"
    }
   ],
   "source": [
    "##### GOOD HOUSEKEEPING #####\n",
    "rm(list=setdiff(ls(), c(\"train_data\", \"test_data\", \"plot_numerical_variable\", \"plot_categorical_variable\", \"palette\",\n",
    "                        \"proper_case\", \"outcome_labeller\", \"outcome_names\")))\n",
    "ls()"
   ]
  },
  {
   "cell_type": "markdown",
   "metadata": {},
   "source": [
    "# <font color=blue>4. Model Construction</font>\n",
    "Modelling in this project consists of the following tasks:\n",
    "1. Transform categorical variables to numeric with Weight Of Evidence.\n",
    "2. Estimate variable importance.\n",
    "3. Estimate correlation between variables.\n",
    "4. Build base models: GBM, RPART, BAGGED CART."
   ]
  },
  {
   "cell_type": "markdown",
   "metadata": {},
   "source": [
    "### 1. WOE transformation of categorical variables"
   ]
  },
  {
   "cell_type": "code",
   "execution_count": 509,
   "metadata": {},
   "outputs": [
    {
     "data": {
      "text/html": [
       "TRUE"
      ],
      "text/latex": [
       "TRUE"
      ],
      "text/markdown": [
       "TRUE"
      ],
      "text/plain": [
       "[1] TRUE"
      ]
     },
     "metadata": {},
     "output_type": "display_data"
    }
   ],
   "source": [
    "##### UPDATE VECTOR IDENTIFYING VARIABLE TYPES AND EXCLUDE OUTCOME VARIABLE #####\n",
    "# Identify new set of categorical values, as some variables were removed:\n",
    "cat_vars_train <- unname(sapply(train_data[1:ncol(train_data)-1], class)) == \"factor\"\n",
    "cat_vars_test <- unname(sapply(test_data[1:ncol(test_data)-1], class)) == \"factor\"\n",
    "all(cat_vars_train == cat_vars_test)"
   ]
  },
  {
   "cell_type": "code",
   "execution_count": 510,
   "metadata": {},
   "outputs": [],
   "source": [
    "##### MANAGEMENT OF REMAINING NAs #####\n",
    "# Assign factor level \"Other\" to remaining NA values (in variables which had < 5% of NA values):\n",
    "train_data[,cat_vars_train] <- sapply(train_data[,cat_vars_train], as.character)\n",
    "train_data[is.na(train_data)] <- \"Other\"\n",
    "train_data  <- train_data %>%\n",
    "  mutate_at(.vars = (names(train_data)[cat_vars_train]), funs(as.factor(.)))\n",
    "\n",
    "test_data[,cat_vars_test] <- sapply(test_data[,cat_vars_test], as.character)\n",
    "test_data[is.na(test_data)] <- \"Other\"\n",
    "test_data  <- test_data %>%\n",
    "  mutate_at(.vars = (names(test_data)[cat_vars_test]), funs(as.factor(.)))"
   ]
  },
  {
   "cell_type": "code",
   "execution_count": 511,
   "metadata": {},
   "outputs": [],
   "source": [
    "# Calculate WOE for all categorical variables:\n",
    "train_data[,cat_vars_train] <- sapply(train_data[,cat_vars_train], function(x) WOE(x, train_data$income, valueOfGood = 1))\n",
    "test_data[,cat_vars_test] <- sapply(test_data[,cat_vars_test], function(x) WOE(x, test_data$income, valueOfGood = 1))"
   ]
  },
  {
   "cell_type": "markdown",
   "metadata": {},
   "source": [
    "### 2. Estimate variable importance"
   ]
  },
  {
   "cell_type": "code",
   "execution_count": 512,
   "metadata": {},
   "outputs": [],
   "source": [
    "# Change outcome variable factor levels for binary classification algorithm:\n",
    "levels(train_data$income) <- c(\"less\", \"more\")\n",
    "levels(test_data$income) <- c(\"less\", \"more\")"
   ]
  },
  {
   "cell_type": "code",
   "execution_count": 513,
   "metadata": {},
   "outputs": [],
   "source": [
    "# Set control parameters for model training:\n",
    "# Use smote for sampling to compensate for the significant class imbalance in the \"income\" outcome variable:\n",
    "control <- trainControl(sampling = \"smote\", method=\"cv\", number=10)"
   ]
  },
  {
   "cell_type": "code",
   "execution_count": 514,
   "metadata": {},
   "outputs": [],
   "source": [
    "# Train gbm model for calculating variable importance:\n",
    "#t1 <- Sys.time()\n",
    "#model_gbm_var_imp <- train(income~., data=train_data, method=\"gbm\", trControl=control)\n",
    "#t2 <- Sys.time() \n",
    "#t2 - t1 # Time difference of 1.108251 hours"
   ]
  },
  {
   "cell_type": "code",
   "execution_count": 515,
   "metadata": {},
   "outputs": [],
   "source": [
    "#ifelse(!dir.exists(file.path(\"outputs/feature_engineering\")), dir.create(\"outputs/feature_engineering\"), \"Folder already exists.\")\n",
    "#saveRDS(model_gbm_var_imp, file = \"outputs/feature_engineering/model_gbm_var_imp.RDS\")\n",
    "model_gbm_var_imp <- readRDS(file = \"outputs/feature_engineering/model_gbm_var_imp.RDS\")"
   ]
  },
  {
   "cell_type": "code",
   "execution_count": 516,
   "metadata": {},
   "outputs": [],
   "source": [
    "# Estimate variable importance:\n",
    "var_importance_woe <- varImp(model_gbm_var_imp, scale=FALSE)"
   ]
  },
  {
   "cell_type": "code",
   "execution_count": 517,
   "metadata": {},
   "outputs": [
    {
     "name": "stdout",
     "output_type": "stream",
     "text": [
      "gbm variable importance\n",
      "\n",
      "  only 20 most important variables shown (out of 27)\n",
      "\n",
      "                                         Overall\n",
      "weeks_worked_in_year                    12206.39\n",
      "education                                7106.40\n",
      "age                                      5612.18\n",
      "detailed_occupation_recode               5608.90\n",
      "detailed_household_summary_in_household  2926.11\n",
      "sex                                      1469.58\n",
      "capital_gains                            1014.78\n",
      "tax_filer_stat                            984.56\n",
      "num_persons_worked_for_employer           632.09\n",
      "class_of_worker                           499.55\n",
      "dividends_from_stocks                     344.23\n",
      "detailed_industry_recode                  311.61\n",
      "capital_losses                            216.82\n",
      "marital_stat                              183.18\n",
      "own_business_or_self_employed             139.69\n",
      "detailed_household_and_family_stat        113.74\n",
      "country_of_birth_mother                   106.12\n",
      "wage_per_hour                              87.18\n",
      "major_occupation_code                      86.99\n",
      "race                                       66.63\n"
     ]
    }
   ],
   "source": [
    "# Summarize importance:\n",
    "print(var_importance_woe)"
   ]
  },
  {
   "cell_type": "code",
   "execution_count": 518,
   "metadata": {},
   "outputs": [
    {
     "data": {},
     "metadata": {},
     "output_type": "display_data"
    },
    {
     "data": {
      "image/png": "[encoded data removed]",
      "text/plain": [
       "plot without title"
      ]
     },
     "metadata": {},
     "output_type": "display_data"
    }
   ],
   "source": [
    "# Plot and save variable importance:\n",
    "plot(var_importance_woe, main = \"Variable Importance Estimated with GBM\")"
   ]
  },
  {
   "cell_type": "markdown",
   "metadata": {},
   "source": [
    "### 3. Estimate correlation between variables\n",
    "Estimation of correlation between variables is carried out in order to reduce predictor multicolinearity and its confounding effect on the outcome variable. Highly correlated variables are analysed, and selection of variables to remove are human-curated in spite of algorithmic recommendations. The heuristic used is that if one of the variables flagged for removal due to multicolinearity is among the top-n variables in term of importance, the other (or chained) correlated variable is selected for removal instead."
   ]
  },
  {
   "cell_type": "code",
   "execution_count": 519,
   "metadata": {},
   "outputs": [
    {
     "name": "stdout",
     "output_type": "stream",
     "text": [
      "Compare row 2  and column  26 with corr  0.925 \n",
      "  Means:  0.39 vs 0.197 so flagging column 2 \n",
      "Compare row 26  and column  19 with corr  0.831 \n",
      "  Means:  0.368 vs 0.182 so flagging column 26 \n",
      "Compare row 19  and column  18 with corr  0.973 \n",
      "  Means:  0.333 vs 0.168 so flagging column 19 \n",
      "Compare row 4  and column  8 with corr  0.849 \n",
      "  Means:  0.272 vs 0.155 so flagging column 4 \n",
      "Compare row 8  and column  3 with corr  0.992 \n",
      "  Means:  0.242 vs 0.146 so flagging column 8 \n",
      "Compare row 3  and column  9 with corr  0.856 \n",
      "  Means:  0.207 vs 0.138 so flagging column 3 \n",
      "Compare row 21  and column  22 with corr  0.87 \n",
      "  Means:  0.166 vs 0.133 so flagging column 21 \n",
      "All correlations <= 0.75 \n"
     ]
    }
   ],
   "source": [
    "# Calculate correlations between variables:\n",
    "corr_matrix <- cor(train_data[,1:ncol(train_data) - 1])\n",
    "highly_correlated <- findCorrelation(corr_matrix, cutoff=0.75, names = TRUE, verbose = TRUE)"
   ]
  },
  {
   "cell_type": "code",
   "execution_count": 520,
   "metadata": {},
   "outputs": [
    {
     "name": "stdout",
     "output_type": "stream",
     "text": [
      "[1] \"class_of_worker\"                        \n",
      "[2] \"veterans_benefits\"                      \n",
      "[3] \"detailed_household_summary_in_household\"\n",
      "[4] \"detailed_occupation_recode\"             \n",
      "[5] \"major_industry_code\"                    \n",
      "[6] \"detailed_industry_recode\"               \n",
      "[7] \"country_of_birth_father\"                \n"
     ]
    }
   ],
   "source": [
    "print(highly_correlated)"
   ]
  },
  {
   "cell_type": "markdown",
   "metadata": {},
   "source": [
    "## <font color=green>SUMMARY</font>\n",
    "### HUMAN CURATION:\n",
    "**Compare row 2  and column  26 with corr  0.925**\n",
    "Means:  0.39 vs 0.197 so flagging column 2        <font color=green>Francis: ACCEPT</font>\n",
    "<br> \n",
    "**Compare row 26  and column  19 with corr  0.831**\n",
    "Means:  0.368 vs 0.182 so flagging column 26      <font color=green>Francis: ACCEPT</font>\n",
    "<br>\n",
    "**Compare row 19  and column  18 with corr  0.973**\n",
    "Means:  0.333 vs 0.168 so flagging column 19      <font color=red>Francis: REVERSE -> var 19 **detailed_household_summary_in_household** among top-5 vars from variable importance analysis. Remove var 18: detailed_household_and_family_stat</font>\n",
    "<br>\n",
    "**Compare row 4  and column  8 with corr  0.849**\n",
    "Means:  0.272 vs 0.155 so flagging column 4       <font color=red>Francis: REVERSE -> var 4 **detailed_occupation_recode** among top-5 vars from variable importance analysis. Var 8 gets flagged on the next line. Remove var 9: major_occupation_code</font>\n",
    "<br>\n",
    "**Compare row 8  and column  3 with corr  0.992**\n",
    "Means:  0.242 vs 0.146 so flagging column 8       <font color=green>Francis: ACCEPT</font>\n",
    "<br>\n",
    "**Compare row 3  and column  9 with corr  0.856**\n",
    "Means:  0.207 vs 0.138 so flagging column 3       <font color=green>Francis: ACCEPT</font>\n",
    "<br>\n",
    "**Compare row 21  and column  22 with corr  0.87**\n",
    "Means:  0.166 vs 0.133 so flagging column 21      <font color=green>Francis: ACCEPT</font>"
   ]
  },
  {
   "cell_type": "code",
   "execution_count": 521,
   "metadata": {},
   "outputs": [
    {
     "name": "stdout",
     "output_type": "stream",
     "text": [
      "[1] \"veterans_benefits\"                      \n",
      "[2] \"detailed_household_summary_in_household\"\n",
      "[3] \"major_industry_code\"                    \n",
      "[4] \"country_of_birth_father\"                \n",
      "[5] \"detailed_household_and_family_stat\"     \n",
      "[6] \"major_occupation_code\"                  \n"
     ]
    }
   ],
   "source": [
    "# Choose n of most important variables which will not be removed, independently of variable correlation analysis:\n",
    "n <- 5\n",
    "top_n_important_vars <- rownames(var_importance_woe$importance)[1:n]\n",
    "\n",
    "# Curate variables to remove:\n",
    "vars_to_remove <- highly_correlated\n",
    "vars_to_remove <- vars_to_remove[!vars_to_remove %in% top_n_important_vars] \n",
    "vars_to_remove <- c(vars_to_remove, \"detailed_household_and_family_stat\", \"major_occupation_code\")\n",
    "print(vars_to_remove)"
   ]
  },
  {
   "cell_type": "code",
   "execution_count": 522,
   "metadata": {},
   "outputs": [],
   "source": [
    "##### REMOVE CORRELATED VARIABLES NOT AMONG TOP-N MOST IMPORTANT VARIABLES \n",
    "train_data <- train_data[,! names(train_data) %in% vars_to_remove]\n",
    "test_data <- test_data[,! names(test_data) %in% vars_to_remove]"
   ]
  },
  {
   "cell_type": "code",
   "execution_count": 523,
   "metadata": {},
   "outputs": [
    {
     "data": {
      "text/html": [
       "<ol class=list-inline>\n",
       "\t<li>'outcome_labeller'</li>\n",
       "\t<li>'outcome_names'</li>\n",
       "\t<li>'palette'</li>\n",
       "\t<li>'plot_categorical_variable'</li>\n",
       "\t<li>'plot_numerical_variable'</li>\n",
       "\t<li>'proper_case'</li>\n",
       "\t<li>'test_data'</li>\n",
       "\t<li>'train_data'</li>\n",
       "</ol>\n"
      ],
      "text/latex": [
       "\\begin{enumerate*}\n",
       "\\item 'outcome\\_labeller'\n",
       "\\item 'outcome\\_names'\n",
       "\\item 'palette'\n",
       "\\item 'plot\\_categorical\\_variable'\n",
       "\\item 'plot\\_numerical\\_variable'\n",
       "\\item 'proper\\_case'\n",
       "\\item 'test\\_data'\n",
       "\\item 'train\\_data'\n",
       "\\end{enumerate*}\n"
      ],
      "text/markdown": [
       "1. 'outcome_labeller'\n",
       "2. 'outcome_names'\n",
       "3. 'palette'\n",
       "4. 'plot_categorical_variable'\n",
       "5. 'plot_numerical_variable'\n",
       "6. 'proper_case'\n",
       "7. 'test_data'\n",
       "8. 'train_data'\n",
       "\n",
       "\n"
      ],
      "text/plain": [
       "[1] \"outcome_labeller\"          \"outcome_names\"            \n",
       "[3] \"palette\"                   \"plot_categorical_variable\"\n",
       "[5] \"plot_numerical_variable\"   \"proper_case\"              \n",
       "[7] \"test_data\"                 \"train_data\"               "
      ]
     },
     "metadata": {},
     "output_type": "display_data"
    }
   ],
   "source": [
    "##### GOOD HOUSEKEEPING #####\n",
    "rm(list=setdiff(ls(), c(\"train_data\", \"test_data\", \"plot_numerical_variable\", \"plot_categorical_variable\", \"palette\",\n",
    "                        \"proper_case\", \"outcome_labeller\", \"outcome_names\")))\n",
    "ls()"
   ]
  },
  {
   "cell_type": "markdown",
   "metadata": {},
   "source": [
    "### 4. Build base models: GBM, RPART, Bagged CART\n",
    "For model building, the dataset is split into three parts: i) training, ii) validation, and iii) test:\n",
    "* The training set is used for training the base models.\n",
    "* The validation set is used to predict results from the base models, and to train the top layer of the ensemble model.\n",
    "* The test set is used to predict results from the ensemble model."
   ]
  },
  {
   "cell_type": "markdown",
   "metadata": {},
   "source": [
    "### HELPER FUNCTIONS"
   ]
  },
  {
   "cell_type": "code",
   "execution_count": 524,
   "metadata": {},
   "outputs": [],
   "source": [
    "# Function for calculating the prior probabilitiy of income == \"more\":\n",
    "estimte_prior_probs <- function(labels, positive_label = \"more\"){\n",
    "  prior_probs <- length(labels[labels == positive_label])/length(labels)\n",
    "  return(prior_probs)\n",
    "}\n",
    "\n",
    "# Function for classifying prediction probabilities depending on a threshold parameter:\n",
    "classify_predictions <- function(probs_possitive_class, threshold, positive_label, negative_lable){\n",
    "  class_preds <- as.factor(ifelse(probs_possitive_class < threshold, negative_lable, positive_label))\n",
    "  return(class_preds)\n",
    "}\n",
    "\n",
    "#Function for optimisation of classification probability threshold:\n",
    "optimize_threshold <- function(labels, probs_possitive_class, step_size = 0.0001, positive_label = \"more\", negative_lable = \"less\"){\n",
    "  steps <- seq(from = 0 + step_size, to = 1 - step_size, by = step_size)\n",
    "  kappas <- data.frame(Threshold = steps, Kappa = rep(0, length(steps)))\n",
    "  kappas$Kappa <- sapply(kappas$Threshold, function(x) unname(postResample(classify_predictions(probs_possitive_class, x , positive_label, negative_lable), labels)[2]))\n",
    "  return(kappas)\n",
    "}"
   ]
  },
  {
   "cell_type": "markdown",
   "metadata": {},
   "source": [
    "### _<font color=red>SHORT CUT TO MODEL BUILDING</font>_\n",
    "**_Uncomment the lines for loading the processed training and test sets._**"
   ]
  },
  {
   "cell_type": "code",
   "execution_count": 525,
   "metadata": {},
   "outputs": [],
   "source": [
    "##### READ IN TRAIN AND TEST SET WITH MISSING VALUES IMPUTATION #####\n",
    "#train_data <- readRDS(file = \"data/train_data_for_model_building.RDS\")   \n",
    "#test_data <- readRDS(file = \"data/test_data_for_model_building.RDS\")  "
   ]
  },
  {
   "cell_type": "code",
   "execution_count": 526,
   "metadata": {},
   "outputs": [],
   "source": [
    "##### SPLIT TEST DATA INTO VALIDATION AND TEST DATA #####\n",
    "val_test_index <- createDataPartition(y = test_data$income, p = .66, list = FALSE, times = 1)\n",
    "validation_data <- test_data[val_test_index, ]\n",
    "test_data <- test_data[-val_test_index, ]"
   ]
  },
  {
   "cell_type": "code",
   "execution_count": 527,
   "metadata": {},
   "outputs": [],
   "source": [
    "##### DEFINE TRAINING PARAMETERS ##### \n",
    "control_train <- trainControl(sampling = \"smote\", \"repeatedcv\", number=10, repeats=3, classProbs = TRUE, \n",
    "                              savePredictions = \"final\", returnData = FALSE, trim = TRUE)"
   ]
  },
  {
   "cell_type": "markdown",
   "metadata": {},
   "source": [
    "No need to include pre-processing in trainControl as most features were transformed with WOE, carrying an implicit scaling and normalisation."
   ]
  },
  {
   "cell_type": "code",
   "execution_count": 528,
   "metadata": {},
   "outputs": [
    {
     "data": {
      "text/html": [
       "'Number of cores assigned for parallelisation: 3'"
      ],
      "text/latex": [
       "'Number of cores assigned for parallelisation: 3'"
      ],
      "text/markdown": [
       "'Number of cores assigned for parallelisation: 3'"
      ],
      "text/plain": [
       "[1] \"Number of cores assigned for parallelisation: 3\""
      ]
     },
     "metadata": {},
     "output_type": "display_data"
    }
   ],
   "source": [
    "##### PARALLELISE IF AVAILABLE #####\n",
    "if(require(\"doParallel\")){\n",
    "  registerDoParallel(cores = parallel::detectCores() - 1)\n",
    "  paste0(\"Number of cores assigned for parallelisation: \",getDoParWorkers())\n",
    "}"
   ]
  },
  {
   "cell_type": "markdown",
   "metadata": {},
   "source": [
    "### <font color=purple>MODEL 1: GRADIENT BOOSTING MACHINE</font>"
   ]
  },
  {
   "cell_type": "code",
   "execution_count": 529,
   "metadata": {},
   "outputs": [],
   "source": [
    "model_name <- \"Gradient Boosting Machine - Base Layer\""
   ]
  },
  {
   "cell_type": "code",
   "execution_count": 530,
   "metadata": {},
   "outputs": [],
   "source": [
    "##### SET HYPERPARAMETER TUNING GRID #####\n",
    "gbm_grid <- expand.grid(interaction.depth = c(5, 10, 15),\n",
    "                        n.trees = c(100, 150, 200),\n",
    "                        shrinkage = c(0.15, 0.1, 0.05),\n",
    "                        n.minobsinnode = 10)"
   ]
  },
  {
   "cell_type": "code",
   "execution_count": 531,
   "metadata": {},
   "outputs": [],
   "source": [
    "##### TRAIN MODEL #####\n",
    "#t1 <- Sys.time()\n",
    "#model_gbm <- train(income~., data=train_data, method=\"gbm\", trControl=control_train, tuneGrid = gbm_grid, metric = \"Kappa\", keep.data = FALSE)\n",
    "#t2 <- Sys.time() # Time difference of 3.454841 hours\n",
    "#t2 - t1\n",
    "#saveRDS(model_gbm, file = \"outputs/model_building/model_gbm.RDS\")\n",
    "model_gbm <- readRDS(file = \"outputs/model_building/model_gbm.RDS\")"
   ]
  },
  {
   "attachments": {},
   "cell_type": "markdown",
   "metadata": {},
   "source": [
    "## <font color=green>Important</font>\n",
    "**Because the outcome variable suffers from severe class imbalance (94% - 6%), Cohen's Kappa is selected as optimisation metric for training the model instead of ROC or Accuracy. Kappa is better suited for this task, as it normalises accuracy by taking into account the imbalance of the classes in the dataset.**"
   ]
  },
  {
   "cell_type": "code",
   "execution_count": 532,
   "metadata": {},
   "outputs": [
    {
     "data": {
      "text/plain": [
       "Confusion Matrix and Statistics\n",
       "\n",
       "          Reference\n",
       "Prediction  less  more\n",
       "      less 25444    15\n",
       "      more 36317  4068\n",
       "                                         \n",
       "               Accuracy : 0.4482         \n",
       "                 95% CI : (0.4444, 0.452)\n",
       "    No Information Rate : 0.938          \n",
       "    P-Value [Acc > NIR] : 1              \n",
       "                                         \n",
       "                  Kappa : 0.0793         \n",
       " Mcnemar's Test P-Value : <2e-16         \n",
       "                                         \n",
       "            Sensitivity : 0.99633        \n",
       "            Specificity : 0.41198        \n",
       "         Pos Pred Value : 0.10073        \n",
       "         Neg Pred Value : 0.99941        \n",
       "             Prevalence : 0.06201        \n",
       "         Detection Rate : 0.06178        \n",
       "   Detection Prevalence : 0.61334        \n",
       "      Balanced Accuracy : 0.70415        \n",
       "                                         \n",
       "       'Positive' Class : more           \n",
       "                                         "
      ]
     },
     "metadata": {},
     "output_type": "display_data"
    },
    {
     "name": "stdout",
     "output_type": "stream",
     "text": [
      "  Accuracy      Kappa \n",
      "0.44821092 0.07925698 \n"
     ]
    }
   ],
   "source": [
    "##### PREDICT ON VALIDATION SET #####\n",
    "# Analyse default classification results (probability threshold = 0.5):\n",
    "validation_data$pred_gbm_class_raw <- predict(object = model_gbm, newdata = validation_data, type = \"raw\")\n",
    "confusionMatrix(validation_data$pred_gbm_class_raw, validation_data$income, positive = \"more\")\n",
    "print(postResample(pred = validation_data$pred_gbm_class_raw, obs = validation_data$income))"
   ]
  },
  {
   "cell_type": "markdown",
   "metadata": {},
   "source": [
    "**Very poor performance. Only 8% higher than random prediction-reference classification agreement.**<br>\n",
    "**<font color=green>To improve the classification performance, a linear optimisation approach is implemented for identifying the probability cut-off value which maximizes Kappa.</font>**"
   ]
  },
  {
   "cell_type": "code",
   "execution_count": 533,
   "metadata": {},
   "outputs": [
    {
     "data": {
      "text/plain": [
       "Time difference of 5.558066 mins"
      ]
     },
     "metadata": {},
     "output_type": "display_data"
    }
   ],
   "source": [
    "##### PROBABILITY THRESHOLD OPTIMISATION #####\n",
    "# Get prediction probabilities for income == \"more\":\n",
    "validation_data$pred_gbm_prob_more <- predict(object = model_gbm, newdata = validation_data, type = \"prob\")$more\n",
    "\n",
    "# Optimize classification probability threshold:\n",
    "t1 <- Sys.time()\n",
    "threshold_gbm <- optimize_threshold(labels = validation_data$income, probs = validation_data$pred_gbm_prob_more)\n",
    "t2 <- Sys.time(); t2 - t1 # Time difference of 4.119202 mins\n",
    "\n",
    "# Select as threshold p where Kappa is max:\n",
    "class_threshold_gbm <- threshold_gbm$Threshold[threshold_gbm$Kappa == max(threshold_gbm$Kappa)][1]"
   ]
  },
  {
   "cell_type": "code",
   "execution_count": 534,
   "metadata": {},
   "outputs": [
    {
     "data": {},
     "metadata": {},
     "output_type": "display_data"
    },
    {
     "data": {
      "image/png": "[encoded data removed]",
      "text/plain": [
       "plot without title"
      ]
     },
     "metadata": {},
     "output_type": "display_data"
    }
   ],
   "source": [
    "# Visualise relationship between Kappa vs. probability threshold:\n",
    "ggplot(data=threshold_gbm, aes(x=Threshold, y=Kappa)) +\n",
    "  geom_line(color=\"tomato1\") + \n",
    "  geom_hline(aes(yintercept=max(Kappa)), color=\"seagreen2\")+\n",
    "  geom_text(aes(x=Threshold[Kappa == max(Kappa)][1], \n",
    "                label=paste(\"Kappa: \",round(max(Kappa), 2),\"\\np: \",Threshold[Kappa == max(Kappa)][1]), y=max(Kappa)), \n",
    "            size = 3, hjust = 1.5, vjust = 1.5, show.legend = FALSE,\n",
    "            color=\"firebrick4\")+\n",
    "  labs(title = \"Kappa vs. Probability Classification Threshold\",\n",
    "       subtitle = model_name) "
   ]
  },
  {
   "cell_type": "code",
   "execution_count": 535,
   "metadata": {},
   "outputs": [
    {
     "name": "stdout",
     "output_type": "stream",
     "text": [
      "Prior probs: 0.062\n",
      "Prediction probs: 0.0885"
     ]
    }
   ],
   "source": [
    "##### PREDICT ON VALIDATION SET USING OPTIMISED PROBABILITY THRESHOLD #####\n",
    "validation_data$pred_gbm_class_opt <- ifelse(validation_data$pred_gbm_prob_more >= class_threshold_gbm, \"more\", \"less\")\n",
    "\n",
    "# Compare prior probabilities to prediction probabilities:\n",
    "priors_validation_data <- estimte_prior_probs(labels = validation_data$income) \n",
    "post_validation_data <- sum(validation_data$pred_gbm_class_opt == \"more\")/nrow(validation_data) \n",
    "cat(paste0(\"Prior probs: \",round(priors_validation_data, 4), \"\\nPrediction probs: \", round(post_validation_data, 4)))"
   ]
  },
  {
   "cell_type": "code",
   "execution_count": 536,
   "metadata": {},
   "outputs": [
    {
     "name": "stdout",
     "output_type": "stream",
     "text": [
      "Prior probs: 0.062\n",
      "Prediction probs: 0.0861"
     ]
    }
   ],
   "source": [
    "##### PREDICT ON TEST SET USING OPTIMISED PROBABILITY THRESHOLD #####\n",
    "test_data$pred_gbm_prob_more <- predict(object = model_gbm, newdata = test_data, type = \"prob\")$more\n",
    "test_data$pred_gbm_class_opt <- ifelse(test_data$pred_gbm_prob_more >= class_threshold_gbm, \"more\", \"less\")\n",
    "\n",
    "# Compare prior probabilities to prediction probabilities:\n",
    "priors_test_data <- estimte_prior_probs(labels = test_data$income) \n",
    "post_test_data <- sum(test_data$pred_gbm_class_opt == \"more\")/nrow(test_data) \n",
    "cat(paste0(\"Prior probs: \",round(priors_validation_data, 4), \"\\nPrediction probs: \", round(post_test_data, 4)))"
   ]
  },
  {
   "cell_type": "code",
   "execution_count": 537,
   "metadata": {},
   "outputs": [],
   "source": [
    "##### GOOD HOUSEKEEPING #####\n",
    "# rm(list=setdiff(ls(), c(\"train_data\", \"test_data\", \"validation_data\", \"control_train\", \n",
    "#                         \"estimte_prior_probs\", \"classify_predictions\", \"optimize_threshold\",\n",
    "#                         \"plot_numerical_variable\", \"plot_categorical_variable\", \"palette\",\n",
    "#                         \"proper_case\", \"outcome_labeller\", \"outcome_names\")))\n",
    "# ls()"
   ]
  },
  {
   "cell_type": "markdown",
   "metadata": {},
   "source": [
    "### <font color=purple>MODEL 2: RECURSIVE PARTINIONING AND REGRESSION TREES</font>"
   ]
  },
  {
   "cell_type": "code",
   "execution_count": 538,
   "metadata": {},
   "outputs": [],
   "source": [
    "model_name <- \"Recursive Partioning and Regression Trees - Base Layer\""
   ]
  },
  {
   "cell_type": "code",
   "execution_count": 539,
   "metadata": {},
   "outputs": [],
   "source": [
    "##### TRAIN MODEL #####\n",
    "# t1 <- Sys.time()\n",
    "# model_rpart <- train(income~., data=train_data, method=\"rpart\", trControl=control_train, tuneLength = 10)\n",
    "# t2 <- Sys.time() \n",
    "# t2 - t1 # Time difference of 16.9226 mins\n",
    "#saveRDS(model_rpart, file = \"outputs/model_building/model_rpart.RDS\")\n",
    "model_rpart <- readRDS(file = \"outputs/model_building/model_rpart.RDS\")"
   ]
  },
  {
   "cell_type": "code",
   "execution_count": 540,
   "metadata": {},
   "outputs": [
    {
     "data": {
      "text/plain": [
       "Confusion Matrix and Statistics\n",
       "\n",
       "          Reference\n",
       "Prediction  less  more\n",
       "      less 48520   661\n",
       "      more 13241  3422\n",
       "                                         \n",
       "               Accuracy : 0.7889         \n",
       "                 95% CI : (0.7857, 0.792)\n",
       "    No Information Rate : 0.938          \n",
       "    P-Value [Acc > NIR] : 1              \n",
       "                                         \n",
       "                  Kappa : 0.2558         \n",
       " Mcnemar's Test P-Value : <2e-16         \n",
       "                                         \n",
       "            Sensitivity : 0.83811        \n",
       "            Specificity : 0.78561        \n",
       "         Pos Pred Value : 0.20537        \n",
       "         Neg Pred Value : 0.98656        \n",
       "             Prevalence : 0.06201        \n",
       "         Detection Rate : 0.05197        \n",
       "   Detection Prevalence : 0.25307        \n",
       "      Balanced Accuracy : 0.81186        \n",
       "                                         \n",
       "       'Positive' Class : more           \n",
       "                                         "
      ]
     },
     "metadata": {},
     "output_type": "display_data"
    },
    {
     "name": "stdout",
     "output_type": "stream",
     "text": [
      " Accuracy     Kappa \n",
      "0.7888646 0.2557596 \n"
     ]
    }
   ],
   "source": [
    "##### PREDICT ON VALIDATION SET #####\n",
    "# Analyse default classification results (probability threshold = 0.5):\n",
    "validation_data$pred_rpart_class_raw <- predict(object = model_rpart, newdata = validation_data, type = \"raw\")\n",
    "caret::confusionMatrix(validation_data$pred_rpart_class_raw, validation_data$income, positive = \"more\")\n",
    "print(postResample(pred = validation_data$pred_rpart_class_raw, obs = validation_data$income)) # 0.7884090 0.2548524"
   ]
  },
  {
   "cell_type": "markdown",
   "metadata": {},
   "source": [
    "**Significantly better performance than GBM. A 26% higher than random prediction-reference classification agreement.**"
   ]
  },
  {
   "cell_type": "code",
   "execution_count": 541,
   "metadata": {},
   "outputs": [
    {
     "data": {
      "text/plain": [
       "Time difference of 3.976279 mins"
      ]
     },
     "metadata": {},
     "output_type": "display_data"
    }
   ],
   "source": [
    "##### PROBABILITY THRESHOLD OPTIMISATION #####\n",
    "# Get prediction probabilities for income == \"more\":\n",
    "validation_data$pred_rpart_prob_more <- predict(object = model_rpart, newdata = validation_data, type = \"prob\")$more\n",
    "\n",
    "# Optimize classification probability threshold:\n",
    "t1 <- Sys.time()\n",
    "threshold_rpart <- optimize_threshold(labels = validation_data$income, probs = validation_data$pred_rpart_prob_more)\n",
    "t2 <- Sys.time(); t2 - t1 # Time difference of 4.119202 mins\n",
    "\n",
    "# Select as threshold p where Kappa is max:\n",
    "class_threshold_rpart <- threshold_rpart$Threshold[threshold_rpart$Kappa == max(threshold_rpart$Kappa)][1]"
   ]
  },
  {
   "cell_type": "code",
   "execution_count": 542,
   "metadata": {},
   "outputs": [
    {
     "data": {},
     "metadata": {},
     "output_type": "display_data"
    },
    {
     "data": {
      "image/png": "[encoded data removed]",
      "text/plain": [
       "plot without title"
      ]
     },
     "metadata": {},
     "output_type": "display_data"
    }
   ],
   "source": [
    "# Visualise relationship between Kappa vs. probability threshold:\n",
    "ggplot(data=threshold_rpart, aes(x=Threshold, y=Kappa)) +\n",
    "  geom_line(color=\"tomato1\") + \n",
    "  geom_hline(aes(yintercept=max(Kappa)), color=\"seagreen2\")+\n",
    "  geom_text(aes(x=Threshold[Kappa == max(Kappa)][1], \n",
    "                label=paste(\"Kappa: \",round(max(Kappa), 2),\"\\np: \",Threshold[Kappa == max(Kappa)][1]), y=max(Kappa)), \n",
    "            size = 3, hjust = 1.5, vjust = 1.5, show.legend = FALSE,\n",
    "            color=\"firebrick4\")+\n",
    "  labs(title = \"Kappa vs. Probability Classification Threshold\",\n",
    "       subtitle = model_name) "
   ]
  },
  {
   "cell_type": "code",
   "execution_count": 543,
   "metadata": {},
   "outputs": [
    {
     "name": "stdout",
     "output_type": "stream",
     "text": [
      "Prior probs: 0.062\n",
      "Prediction probs: 0.1508"
     ]
    }
   ],
   "source": [
    "##### PREDICT ON VALIDATION SET USING OPTIMISED PROBABILITY THRESHOLD #####\n",
    "validation_data$pred_rpart_class_opt <- ifelse(validation_data$pred_rpart_prob_more >= class_threshold_rpart, \"more\", \"less\")\n",
    "\n",
    "# Compare prior probabilities to prediction probabilities:\n",
    "priors_validation_data <- estimte_prior_probs(labels = validation_data$income) \n",
    "post_validation_data <- sum(validation_data$pred_rpart_class_opt == \"more\")/nrow(validation_data) \n",
    "cat(paste0(\"Prior probs: \",round(priors_validation_data, 4), \"\\nPrediction probs: \", round(post_validation_data, 4)))"
   ]
  },
  {
   "cell_type": "code",
   "execution_count": 544,
   "metadata": {},
   "outputs": [
    {
     "name": "stdout",
     "output_type": "stream",
     "text": [
      "Prior probs: 0.062\n",
      "Prediction probs: 0.15"
     ]
    }
   ],
   "source": [
    "##### PREDICT ON TEST SET USING OPTIMISED PROBABILITY THRESHOLD #####\n",
    "test_data$pred_rpart_prob_more <- predict(object = model_rpart, newdata = test_data, type = \"prob\")$more\n",
    "test_data$pred_rpart_class_opt <- ifelse(test_data$pred_rpart_prob_more >= class_threshold_rpart, \"more\", \"less\")\n",
    "\n",
    "# Compare prior probabilities to prediction probabilities:\n",
    "priors_test_data <- estimte_prior_probs(labels = test_data$income) # [1] 0.06200248\n",
    "post_test_data <- sum(test_data$pred_rpart_class_opt == \"more\")/nrow(test_data) # [1] 0.1514535\n",
    "cat(paste0(\"Prior probs: \",round(priors_validation_data, 4), \"\\nPrediction probs: \", round(post_test_data, 4)))"
   ]
  },
  {
   "cell_type": "code",
   "execution_count": 545,
   "metadata": {},
   "outputs": [],
   "source": [
    "##### GOOD HOUSEKEEPING #####\n",
    "#rm(list=setdiff(ls(), c(\"train_data\", \"test_data\", \"validation_data\", \"control_train\", \n",
    "#                        \"estimte_prior_probs\", \"classify_predictions\", \"optimize_threshold\",\n",
    "#                        \"plot_numerical_variable\", \"plot_categorical_variable\", \"palette\",\n",
    "#                        \"proper_case\", \"outcome_labeller\", \"outcome_names\")))\n",
    "#ls()"
   ]
  },
  {
   "cell_type": "markdown",
   "metadata": {},
   "source": [
    "### <font color=purple>MODEL 3: BAGGED CART</font>"
   ]
  },
  {
   "cell_type": "code",
   "execution_count": 546,
   "metadata": {},
   "outputs": [],
   "source": [
    "model_name <- \"Bagged Classification and Regression Trees - Base Layer\""
   ]
  },
  {
   "cell_type": "code",
   "execution_count": 547,
   "metadata": {},
   "outputs": [],
   "source": [
    "##### TRAIN MODEL #####\n",
    "# t1 <- Sys.time()\n",
    "# model_cart <- train(income~., data=train_data, method=\"treebag\", trControl=control_train, metric = \"Kappa\", keep.data = FALSE)\n",
    "# t2 <- Sys.time() \n",
    "# t2 - t1 # Time difference of 29.44355 mins\n",
    "#saveRDS(model_cart, file = \"outputs/model_building/model_cart.RDS\")\n",
    "model_cart <- readRDS(file = \"outputs/model_building/model_cart.RDS\")"
   ]
  },
  {
   "cell_type": "code",
   "execution_count": 548,
   "metadata": {},
   "outputs": [
    {
     "data": {
      "text/plain": [
       "Confusion Matrix and Statistics\n",
       "\n",
       "          Reference\n",
       "Prediction  less  more\n",
       "      less 30635   185\n",
       "      more 31126  3898\n",
       "                                          \n",
       "               Accuracy : 0.5245          \n",
       "                 95% CI : (0.5206, 0.5283)\n",
       "    No Information Rate : 0.938           \n",
       "    P-Value [Acc > NIR] : 1               \n",
       "                                          \n",
       "                  Kappa : 0.0993          \n",
       " Mcnemar's Test P-Value : <2e-16          \n",
       "                                          \n",
       "            Sensitivity : 0.95469         \n",
       "            Specificity : 0.49602         \n",
       "         Pos Pred Value : 0.11130         \n",
       "         Neg Pred Value : 0.99400         \n",
       "             Prevalence : 0.06201         \n",
       "         Detection Rate : 0.05920         \n",
       "   Detection Prevalence : 0.53192         \n",
       "      Balanced Accuracy : 0.72536         \n",
       "                                          \n",
       "       'Positive' Class : more            \n",
       "                                          "
      ]
     },
     "metadata": {},
     "output_type": "display_data"
    },
    {
     "name": "stdout",
     "output_type": "stream",
     "text": [
      "  Accuracy      Kappa \n",
      "0.52446692 0.09930899 \n"
     ]
    }
   ],
   "source": [
    "##### PREDICT ON VALIDATION SET #####\n",
    "# Analyse default classification results (probability threshold = 0.5):\n",
    "validation_data$pred_cart_class_raw <- predict(object = model_cart, newdata = validation_data, type = \"raw\")\n",
    "caret::confusionMatrix(validation_data$pred_cart_class_raw, validation_data$income, positive = \"more\")\n",
    "print(postResample(pred = validation_data$pred_cart_class_raw, obs = validation_data$income)) # 0.52572748 0.09963197 "
   ]
  },
  {
   "cell_type": "markdown",
   "metadata": {},
   "source": [
    "**Almost the same performance as GBM. Only 10% higher than random prediction-reference classification agreement.**"
   ]
  },
  {
   "cell_type": "code",
   "execution_count": 549,
   "metadata": {},
   "outputs": [
    {
     "data": {
      "text/plain": [
       "Time difference of 4.26711 mins"
      ]
     },
     "metadata": {},
     "output_type": "display_data"
    }
   ],
   "source": [
    "##### PROBABILITY THRESHOLD OPTIMISATION #####\n",
    "# Get prediction probabilities for income == \"more\":\n",
    "validation_data$pred_cart_prob_more <- predict(object = model_cart, newdata = validation_data, type = \"prob\")$more\n",
    "\n",
    "# Optimize classification probability threshold:\n",
    "t1 <- Sys.time()\n",
    "threshold_cart <- optimize_threshold(labels = validation_data$income, probs = validation_data$pred_cart_prob_more)\n",
    "t2 <- Sys.time(); t2 - t1 # Time difference of 6.164637 mins\n",
    "\n",
    "# Select as threshold p where Kappa is max:\n",
    "class_threshold_cart <- threshold_cart$Threshold[threshold_cart$Kappa == max(threshold_cart$Kappa)][1]"
   ]
  },
  {
   "cell_type": "code",
   "execution_count": 550,
   "metadata": {},
   "outputs": [
    {
     "data": {},
     "metadata": {},
     "output_type": "display_data"
    },
    {
     "data": {
      "image/png": "[encoded data removed]",
      "text/plain": [
       "plot without title"
      ]
     },
     "metadata": {},
     "output_type": "display_data"
    }
   ],
   "source": [
    "# Visualise relationship between Kappa vs. probability threshold:\n",
    "ggplot(data=threshold_cart, aes(x=Threshold, y=Kappa)) +\n",
    "  geom_line(color=\"tomato1\") + \n",
    "  geom_hline(aes(yintercept=max(Kappa)), color=\"seagreen2\")+\n",
    "  geom_text(aes(x=Threshold[Kappa == max(Kappa)][1], \n",
    "                label=paste(\"Kappa: \",round(max(Kappa), 2),\"\\np: \",Threshold[Kappa == max(Kappa)][1]), y=max(Kappa)), \n",
    "            size = 3, hjust = 1.5, vjust = 1.5, show.legend = FALSE,\n",
    "            color=\"firebrick4\")+\n",
    "  labs(title = \"Kappa vs. Probability Classification Threshold\",\n",
    "       subtitle = model_name) "
   ]
  },
  {
   "cell_type": "code",
   "execution_count": 551,
   "metadata": {},
   "outputs": [
    {
     "name": "stdout",
     "output_type": "stream",
     "text": [
      "Prior probs: 0.062\n",
      "Prediction probs: 0.151"
     ]
    }
   ],
   "source": [
    "##### PREDICT ON VALIDATION SET USING OPTIMISED PROBABILITY THRESHOLD #####\n",
    "validation_data$pred_cart_class_opt <- ifelse(validation_data$pred_cart_prob_more >= class_threshold_cart, \"more\", \"less\")\n",
    "\n",
    "# Compare prior probabilities to prediction probabilities:\n",
    "priors_validation_data <- estimte_prior_probs(labels = validation_data$income) # [1] 0.06201021\n",
    "post_validation_data <- sum(validation_data$pred_cart_class_opt == \"more\")/nrow(validation_data) # [1] 0.1499301\n",
    "cat(paste0(\"Prior probs: \",round(priors_validation_data, 4), \"\\nPrediction probs: \", round(post_validation_data, 4)))"
   ]
  },
  {
   "cell_type": "code",
   "execution_count": 552,
   "metadata": {},
   "outputs": [
    {
     "name": "stdout",
     "output_type": "stream",
     "text": [
      "Prior probs: 0.062\n",
      "Prediction probs: 0.1506"
     ]
    }
   ],
   "source": [
    "##### PREDICT ON TEST SET USING OPTIMISED PROBABILITY THRESHOLD #####\n",
    "test_data$pred_cart_prob_more <- predict(object = model_cart, newdata = test_data, type = \"prob\")$more\n",
    "test_data$pred_cart_class_opt <- ifelse(test_data$pred_cart_prob_more >= class_threshold_cart, \"more\", \"less\")\n",
    "\n",
    "# Compare prior probabilities to prediction probabilities:\n",
    "priors_test_data <- estimte_prior_probs(labels = test_data$income)  \n",
    "post_test_data <- sum(test_data$pred_cart_class_opt == \"more\")/nrow(test_data)  \n",
    "cat(paste0(\"Prior probs: \",round(priors_validation_data, 4), \"\\nPrediction probs: \", round(post_test_data, 4)))"
   ]
  },
  {
   "cell_type": "code",
   "execution_count": 553,
   "metadata": {},
   "outputs": [],
   "source": [
    "##### GOOD HOUSEKEEPING #####\n",
    "#rm(list=setdiff(ls(), c(\"train_data\", \"test_data\", \"validation_data\", \"control_train\", \n",
    "#                        \"estimte_prior_probs\", \"classify_predictions\", \"optimize_threshold\",\n",
    "#                        \"plot_numerical_variable\", \"plot_categorical_variable\", \"palette\",\n",
    "#                        \"proper_case\", \"outcome_labeller\", \"outcome_names\")))\n",
    "#ls()"
   ]
  },
  {
   "cell_type": "markdown",
   "metadata": {},
   "source": [
    "# <font color=blue>5. Model Evaluation</font>\n",
    "Model evaluation in this project consists of the following tasks:\n",
    "1. Estimate correlation of base models.\n",
    "2. Ensamble base models.\n",
    "3. Train of top layer.\n",
    "4. Evaluate of final predictions."
   ]
  },
  {
   "cell_type": "markdown",
   "metadata": {},
   "source": [
    "### 1. Estimate correlation of base models."
   ]
  },
  {
   "cell_type": "code",
   "execution_count": 554,
   "metadata": {},
   "outputs": [
    {
     "data": {
      "image/png": "[encoded data removed]",
      "text/plain": [
       "Plot with title \"\""
      ]
     },
     "metadata": {},
     "output_type": "display_data"
    }
   ],
   "source": [
    "##### SELECT PREDICTED PROBABILITIES FROM BASE MODELS #####\n",
    "# Get column names from predicted featurs:\n",
    "prediction_probs_labels <- c(\"pred_gbm_prob_more\", \"pred_rpart_prob_more\", \"pred_cart_prob_more\")\n",
    "# Create dataset with only the predicted probabilities by the base models:\n",
    "prediction_probs_validation_data <- validation_data[,names(validation_data) %in% prediction_probs_labels]\n",
    "# Rename columns for better visualisation of correlation plot:\n",
    "colnames(prediction_probs_validation_data) <- c(\"GBM\", \"RPART\", \"CART\")\n",
    "# Calculate correlations between base models:\n",
    "correlation_preds_probls_val <- cor(prediction_probs_validation_data)\n",
    "# Plot correlations:\n",
    "corrplot.mixed(correlation_preds_probls_val, upper = \"color\")"
   ]
  },
  {
   "cell_type": "markdown",
   "metadata": {},
   "source": [
    "## <font color=green>SUMMARY</font>\n",
    "* A 0.55 correlation between GBM and RPART means models are congruent yet not strongly correlated, making it convenient for stacking them together in an ensemble model.\n",
    "* Similarly, a 0.54 correlation between RPART and CART bodes well for stacking together.\n",
    "* However, there is a strong correlation between GBM and CART. Stacking them together in the same ensemble model risks magnifying potential bias shared by both models.\n",
    "* A task for a future iteration of this project can be to explore some different algorithms (e.g. random forest) for replacing either GBM or CART as part of the base layer, depending on their correlations with the already trained models."
   ]
  },
  {
   "cell_type": "markdown",
   "metadata": {},
   "source": [
    "### 2. Ensamble base models.\n",
    "**Stack predictions from base models to train new classifier composed by only these features.**\n",
    "## <font color=green>IMPORTANT</font>\n",
    "**Stacking can be done using either the prediction probabilities from the base models, the prediction classes, both, or even engineered features from them. For this project, only the prediction classes are used to train a top layer using a GBM, which beneath the hood applies one-hot encoding to these factor variables.**"
   ]
  },
  {
   "cell_type": "code",
   "execution_count": 555,
   "metadata": {},
   "outputs": [],
   "source": [
    "model_name <- \"GBM Ensamble Model of GBM, RPART, & Bagged CART\""
   ]
  },
  {
   "cell_type": "code",
   "execution_count": 556,
   "metadata": {},
   "outputs": [],
   "source": [
    "# Get column names from predicted class features:\n",
    "prediction_class_labels <- c(\"pred_gbm_class_opt\", \"pred_rpart_class_opt\", \"pred_cart_class_opt\")"
   ]
  },
  {
   "cell_type": "code",
   "execution_count": 557,
   "metadata": {},
   "outputs": [],
   "source": [
    "##### SET HYPERPARAMETER TUNING GRID #####\n",
    "gbm_grid <- expand.grid(interaction.depth = c(5, 10, 15),\n",
    "                        n.trees = c(100, 150, 200),\n",
    "                        shrinkage = c(0.15, 0.1, 0.05),\n",
    "                        n.minobsinnode = 10)"
   ]
  },
  {
   "cell_type": "code",
   "execution_count": 558,
   "metadata": {},
   "outputs": [],
   "source": [
    "##### TRAIN TOP LAYER OF ENSEMBLE MODEL #####\n",
    "# t1 <- Sys.time()\n",
    "# model_ensemble <- train(income~., data=validation_data[,c(prediction_class_labels, \"income\")], method=\"gbm\", trControl=control_train, tuneGrid = gbm_grid, metric = \"Kappa\", keep.data = FALSE)\n",
    "# t2 <- Sys.time()\n",
    "# t2- t1 # Time difference of 10.98253 mins\n",
    "# saveRDS(model_ensemble, file = \"outputs/model_building/model_ensemble.RDS\")\n",
    "model_ensemble <- readRDS(file = \"outputs/model_building/model_ensemble.RDS\")"
   ]
  },
  {
   "cell_type": "code",
   "execution_count": 559,
   "metadata": {},
   "outputs": [
    {
     "data": {
      "text/plain": [
       "Confusion Matrix and Statistics\n",
       "\n",
       "          Reference\n",
       "Prediction  less  more\n",
       "      less 27136   378\n",
       "      more  4679  1725\n",
       "                                          \n",
       "               Accuracy : 0.8509          \n",
       "                 95% CI : (0.8471, 0.8547)\n",
       "    No Information Rate : 0.938           \n",
       "    P-Value [Acc > NIR] : 1               \n",
       "                                          \n",
       "                  Kappa : 0.3443          \n",
       " Mcnemar's Test P-Value : <2e-16          \n",
       "                                          \n",
       "            Sensitivity : 0.82026         \n",
       "            Specificity : 0.85293         \n",
       "         Pos Pred Value : 0.26936         \n",
       "         Neg Pred Value : 0.98626         \n",
       "             Prevalence : 0.06200         \n",
       "         Detection Rate : 0.05086         \n",
       "   Detection Prevalence : 0.18881         \n",
       "      Balanced Accuracy : 0.83659         \n",
       "                                          \n",
       "       'Positive' Class : more            \n",
       "                                          "
      ]
     },
     "metadata": {},
     "output_type": "display_data"
    },
    {
     "name": "stdout",
     "output_type": "stream",
     "text": [
      " Accuracy     Kappa \n",
      "0.8509051 0.3443428 \n"
     ]
    }
   ],
   "source": [
    "##### PREDICT ENSEMBLE MODEL ON TEST SET #####\n",
    "# Analyse default classification results (probability threshold = 0.5):\n",
    "test_data$pred_ensemble_class_raw <- predict(object = model_ensemble, newdata = test_data, type = \"raw\")\n",
    "caret::confusionMatrix(test_data$pred_ensemble_class_raw, test_data$income, positive = \"more\")\n",
    "print(postResample(pred = test_data$pred_ensemble_class_raw, obs = test_data$income)) # 0.8530574 0.3478076 "
   ]
  },
  {
   "cell_type": "markdown",
   "metadata": {},
   "source": [
    "**Very good performance. 34% higher than random prediction-reference classification agreement.**"
   ]
  },
  {
   "cell_type": "code",
   "execution_count": 560,
   "metadata": {},
   "outputs": [
    {
     "data": {
      "text/plain": [
       "Time difference of 1.980648 mins"
      ]
     },
     "metadata": {},
     "output_type": "display_data"
    }
   ],
   "source": [
    "##### PROBABILITY THRESHOLD OPTIMISATION #####\n",
    "# Get prediction probabilities for income == \"more\":\n",
    "test_data$pred_ensemble_prob_more <- predict(object = model_ensemble, newdata = test_data, type = \"prob\")$more\n",
    "\n",
    "# Optimize classification probability threshold:\n",
    "t1 <- Sys.time()\n",
    "threshold_ensemble <- optimize_threshold(labels = test_data$income, probs = test_data$pred_ensemble_prob_more)\n",
    "t2 <- Sys.time(); t2 - t1 # Time difference of 2.033221 mins\n",
    "\n",
    "# Select as threshold p where Kappa is max:\n",
    "class_threshold_ensemble <- threshold_ensemble$Threshold[threshold_ensemble$Kappa == max(threshold_ensemble$Kappa)][1]"
   ]
  },
  {
   "cell_type": "code",
   "execution_count": 561,
   "metadata": {},
   "outputs": [
    {
     "data": {},
     "metadata": {},
     "output_type": "display_data"
    },
    {
     "data": {
      "image/png": "[encoded data removed]",
      "text/plain": [
       "plot without title"
      ]
     },
     "metadata": {},
     "output_type": "display_data"
    }
   ],
   "source": [
    "# Visualise relationship between Kappa vs. probability threshold:\n",
    "ggplot(data=threshold_ensemble, aes(x=Threshold, y=Kappa)) +\n",
    "  geom_line(color=\"tomato1\") + \n",
    "  geom_hline(aes(yintercept=max(Kappa)), color=\"seagreen2\")+\n",
    "  geom_text(aes(x=Threshold[Kappa == max(Kappa)][1], \n",
    "                label=paste(\"Kappa: \",round(max(Kappa), 2),\"\\np: \",Threshold[Kappa == max(Kappa)][1]), y=max(Kappa)), \n",
    "            size = 3, hjust = 1.5, vjust = 1.5, show.legend = FALSE,\n",
    "            color=\"firebrick4\")+\n",
    "  labs(title = \"Kappa vs. Probability Classification Threshold\",\n",
    "       subtitle = model_name) "
   ]
  },
  {
   "cell_type": "code",
   "execution_count": 562,
   "metadata": {},
   "outputs": [
    {
     "name": "stdout",
     "output_type": "stream",
     "text": [
      "Prior probs: 0.062\n",
      "Prediction probs: 0.0473"
     ]
    }
   ],
   "source": [
    "##### PREDICT ON test SET USING OPTIMISED PROBABILITY THRESHOLD #####\n",
    "test_data$pred_ensemble_class_opt <- as.factor(ifelse(test_data$pred_ensemble_prob_more >= class_threshold_ensemble, \"more\", \"less\"))\n",
    "\n",
    "# Compare prior probabilities to prediction probabilities:\n",
    "priors_test_data <- estimte_prior_probs(labels = test_data$income)\n",
    "post_test_data <- sum(test_data$pred_ensemble_class_opt == \"more\")/nrow(test_data) \n",
    "cat(paste0(\"Prior probs: \",round(priors_test_data, 4), \"\\nPrediction probs: \", round(post_test_data, 4)))"
   ]
  },
  {
   "cell_type": "code",
   "execution_count": 563,
   "metadata": {},
   "outputs": [
    {
     "data": {
      "text/plain": [
       "Confusion Matrix and Statistics\n",
       "\n",
       "          Reference\n",
       "Prediction  less  more\n",
       "      less 31002  1312\n",
       "      more   813   791\n",
       "                                          \n",
       "               Accuracy : 0.9373          \n",
       "                 95% CI : (0.9347, 0.9399)\n",
       "    No Information Rate : 0.938           \n",
       "    P-Value [Acc > NIR] : 0.6946          \n",
       "                                          \n",
       "                  Kappa : 0.3943          \n",
       " Mcnemar's Test P-Value : <2e-16          \n",
       "                                          \n",
       "            Sensitivity : 0.37613         \n",
       "            Specificity : 0.97445         \n",
       "         Pos Pred Value : 0.49314         \n",
       "         Neg Pred Value : 0.95940         \n",
       "             Prevalence : 0.06200         \n",
       "         Detection Rate : 0.02332         \n",
       "   Detection Prevalence : 0.04729         \n",
       "      Balanced Accuracy : 0.67529         \n",
       "                                          \n",
       "       'Positive' Class : more            \n",
       "                                          "
      ]
     },
     "metadata": {},
     "output_type": "display_data"
    },
    {
     "name": "stdout",
     "output_type": "stream",
     "text": [
      " Accuracy     Kappa \n",
      "0.9373489 0.3942583 \n"
     ]
    }
   ],
   "source": [
    "##### EVALUATE ENSEMBLE MODEL PERFORMANCE #####\n",
    "caret::confusionMatrix(test_data$pred_ensemble_class_opt, test_data$income, positive = \"more\")\n",
    "print(postResample(pred = test_data$pred_ensemble_class_opt, obs = test_data$income))"
   ]
  },
  {
   "cell_type": "markdown",
   "metadata": {},
   "source": [
    "## <font color=green>SUMMARY</font>\n",
    "* Better performance than any of the base models individually. \n",
    "* Ensemble model produces 39% higher than random prediction-reference classification agreement.\n",
    "* Accuracy of 94% is acceptable for deploying model into production, prior error analysis of misclassified cases."
   ]
  },
  {
   "cell_type": "markdown",
   "metadata": {},
   "source": [
    "# <font color=blue>6. Model Deployment</font>"
   ]
  },
  {
   "cell_type": "markdown",
   "metadata": {},
   "source": [
    "Deployment of this model can be adopted in several ways, not all exclusive. \n",
    "<br>\n",
    "<br>\n",
    "In the context of the US Census Bureau, the model can be integrated as a process within a larger data pipeline where survey data gets aggregated, where it consumes the relevant variables the model uses as predictors, and predicts the outcome variable \"Income\" for observations which lack a true value for it. \n",
    "<br>\n",
    "<br>\n",
    "Furthermore, observations which do have a true value for the variable \"Income\" can be used to continously measure the model's performance and observe for potential model drift.\n",
    "<br>\n",
    "<br>\n",
    "Last, the model can also de deployed with an exposed endpoint which users can call on demand for particular research and analysis of census data."
   ]
  },
  {
   "cell_type": "markdown",
   "metadata": {},
   "source": [
    "# <font color=blue>7. Business Insights</font>"
   ]
  },
  {
   "cell_type": "markdown",
   "metadata": {},
   "source": [
    "To infer which features seem to be most influential in determining whether an individual earns more or less than USD 50k, an analysis of variable importance is conducted side-by-side with an analysis of the most important variables' conditional distribution vis-a-vis income."
   ]
  },
  {
   "cell_type": "code",
   "execution_count": 564,
   "metadata": {},
   "outputs": [
    {
     "name": "stdout",
     "output_type": "stream",
     "text": [
      "gbm variable importance\n",
      "\n",
      "  only 20 most important variables shown (out of 21)\n",
      "\n",
      "                                    Overall\n",
      "weeks_worked_in_year              100.00000\n",
      "detailed_occupation_recode         49.24074\n",
      "education                          36.37357\n",
      "age                                25.83578\n",
      "sex                                10.23957\n",
      "capital_gains                       6.61573\n",
      "tax_filer_stat                      6.42132\n",
      "class_of_worker                     5.85428\n",
      "detailed_industry_recode            5.76597\n",
      "num_persons_worked_for_employer     4.57130\n",
      "dividends_from_stocks               3.49818\n",
      "capital_losses                      1.31700\n",
      "marital_stat                        1.11516\n",
      "country_of_birth_mother             0.87076\n",
      "wage_per_hour                       0.86925\n",
      "full_or_part_time_employment_stat   0.62249\n",
      "own_business_or_self_employed       0.34695\n",
      "race                                0.26989\n",
      "citizenship                         0.19623\n",
      "hispanic_origin                     0.07497\n"
     ]
    },
    {
     "data": {},
     "metadata": {},
     "output_type": "display_data"
    },
    {
     "data": {
      "image/png": "[encoded data removed]",
      "text/plain": [
       "plot without title"
      ]
     },
     "metadata": {},
     "output_type": "display_data"
    }
   ],
   "source": [
    "##### FEATURE INSIGHTS FROM GBM BASE LAYER MODEL #####\n",
    "var_imp_gbm <- varImp(model_gbm, scale=TRUE)\n",
    "print(var_imp_gbm)\n",
    "plot(var_imp_gbm, main = \"Variable Importance Estimated with GBM Base Layer Model\")"
   ]
  },
  {
   "cell_type": "markdown",
   "metadata": {},
   "source": [
    "## <font color=green>SUMMARY</font>\n",
    "* The GBM model gives the top predictive power for incomes > USD 50k to the feature \"weeks_worked_in_year\". \n",
    "* The second most predictive feature, with only half of the relative importance of the top feature (49.24/100), is the feature \"detailed_occupation_recode\".\n",
    "* Features \"education\" and \"age\" play an important role in predicting income, although with a third and a quarter of relative importance, respectively, in relationship with the top feature \"weeks_worked_in_year\".\n",
    "* In general, GBM appears to be sensitiv to several of the demographic variables in the dataset."
   ]
  },
  {
   "cell_type": "code",
   "execution_count": 565,
   "metadata": {},
   "outputs": [
    {
     "name": "stdout",
     "output_type": "stream",
     "text": [
      "rpart variable importance\n",
      "\n",
      "  only 20 most important variables shown (out of 21)\n",
      "\n",
      "                                  Overall\n",
      "age                               100.000\n",
      "weeks_worked_in_year               91.644\n",
      "num_persons_worked_for_employer    74.760\n",
      "class_of_worker                    70.941\n",
      "tax_filer_stat                     65.410\n",
      "detailed_occupation_recode         44.806\n",
      "education                          41.964\n",
      "sex                                24.525\n",
      "detailed_industry_recode           15.235\n",
      "capital_gains                       4.622\n",
      "full_or_part_time_employment_stat   0.000\n",
      "hispanic_origin                     0.000\n",
      "own_business_or_self_employed       0.000\n",
      "marital_stat                        0.000\n",
      "dividends_from_stocks               0.000\n",
      "race                                0.000\n",
      "wage_per_hour                       0.000\n",
      "country_of_birth_self               0.000\n",
      "country_of_birth_mother             0.000\n",
      "citizenship                         0.000\n"
     ]
    },
    {
     "data": {},
     "metadata": {},
     "output_type": "display_data"
    },
    {
     "data": {
      "image/png": "[encoded data removed]",
      "text/plain": [
       "plot without title"
      ]
     },
     "metadata": {},
     "output_type": "display_data"
    }
   ],
   "source": [
    "##### FEATURE INSIGHTS FROM RPART BASE LAYER MODEL #####\n",
    "var_imp_rpart <- varImp(model_rpart, scale=TRUE)\n",
    "print(var_imp_rpart)\n",
    "plot(var_imp_rpart, main = \"Variable Importance Estimated with RPART Base Layer Model\")"
   ]
  },
  {
   "cell_type": "markdown",
   "metadata": {},
   "source": [
    "## <font color=green>SUMMARY</font>\n",
    "* The RPART model gives the top predictive power for incomes > USD 50k to the feature \"age\", with \"weeks_worked_in_year\" almost as important. \n",
    "* RPART assigns to third, fourth, and fifth most predictive features to \"num_persons_worked_for_employer\", \"class_of_worker\", and \"tax_filer_stat\", all with a relative importance of about two thirds of the importance of the top feature \"age\".\n",
    "* In general, RPART appears to favour the features from the employment surveys, and its sensitivity is evenly spread among the top features, unlike GBM, which is heavily biased towards its single top feature \"weeks_worked_in_year\"."
   ]
  },
  {
   "cell_type": "code",
   "execution_count": 566,
   "metadata": {},
   "outputs": [
    {
     "name": "stdout",
     "output_type": "stream",
     "text": [
      "treebag variable importance\n",
      "\n",
      "  only 20 most important variables shown (out of 21)\n",
      "\n",
      "                                    Overall\n",
      "age                               100.00000\n",
      "weeks_worked_in_year               59.77665\n",
      "num_persons_worked_for_employer    57.55645\n",
      "class_of_worker                    54.84637\n",
      "detailed_occupation_recode         54.03859\n",
      "tax_filer_stat                     50.31946\n",
      "education                          49.33015\n",
      "detailed_industry_recode           36.80341\n",
      "sex                                22.64260\n",
      "capital_gains                      14.67450\n",
      "marital_stat                       10.70033\n",
      "full_or_part_time_employment_stat   6.34764\n",
      "country_of_birth_mother             4.95026\n",
      "dividends_from_stocks               3.48565\n",
      "own_business_or_self_employed       2.38075\n",
      "race                                1.66472\n",
      "wage_per_hour                       1.33984\n",
      "country_of_birth_self               1.10315\n",
      "capital_losses                      0.44805\n",
      "hispanic_origin                     0.05728\n"
     ]
    },
    {
     "data": {},
     "metadata": {},
     "output_type": "display_data"
    },
    {
     "data": {
      "image/png": "[encoded data removed]",
      "text/plain": [
       "plot without title"
      ]
     },
     "metadata": {},
     "output_type": "display_data"
    }
   ],
   "source": [
    "##### FEATURE INSIGHTS FROM CART BASE LAYER MODEL #####\n",
    "var_imp_cart <- varImp(model_cart, scale=TRUE)\n",
    "print(var_imp_cart)\n",
    "plot(var_imp_cart, main = \"Variable Importance Estimated with CART Base Layer Model\")"
   ]
  },
  {
   "cell_type": "markdown",
   "metadata": {},
   "source": [
    "## <font color=green>SUMMARY</font>\n",
    "* The CART model also gives the top predictive power for incomes > USD 50k to the feature \"age\".\n",
    "* The feature \"weeks_worked_in_year\" also comes in second in CART, but unlike RPART, at a little under two-thirds of the relative importance of age.\n",
    "* CART also assigns to third, fourth, and _sixth_ most predictive features to \"num_persons_worked_for_employer\", \"class_of_worker\", and \"tax_filer_stat\", all with a relative importance of about half of the importance of the top feature \"age\". It also ranks \"detailed_occupation_recode\" and \"education\" in that range of relative importance, at fifth and seventh place.\n",
    "* In general, feature importance with CART appears to be evenly distributed between demographic and employment variables, as well as distributing the relative importance of features across many variables."
   ]
  },
  {
   "cell_type": "code",
   "execution_count": 567,
   "metadata": {},
   "outputs": [
    {
     "name": "stdout",
     "output_type": "stream",
     "text": [
      "                             FEATURE        AGGR\n",
      "21              weeks_worked_in_year 83.80702788\n",
      "1                                age 75.27859282\n",
      "9         detailed_occupation_recode 49.36186059\n",
      "15   num_persons_worked_for_employer 45.62908341\n",
      "5                    class_of_worker 43.88065879\n",
      "11                         education 42.55586533\n",
      "19                    tax_filer_stat 40.71690808\n",
      "8           detailed_industry_recode 19.26800736\n",
      "18                               sex 19.13562860\n",
      "2                      capital_gains  8.63738707\n",
      "14                      marital_stat  3.93849725\n",
      "10             dividends_from_stocks  2.32794172\n",
      "12 full_or_part_time_employment_stat  2.32337780\n",
      "6            country_of_birth_mother  1.94034040\n",
      "16     own_business_or_self_employed  0.90923307\n",
      "20                     wage_per_hour  0.73636298\n",
      "17                              race  0.64486899\n",
      "3                     capital_losses  0.58835001\n",
      "7              country_of_birth_self  0.36771545\n",
      "4                        citizenship  0.06540886\n",
      "13                   hispanic_origin  0.04408390\n"
     ]
    },
    {
     "data": {},
     "metadata": {},
     "output_type": "display_data"
    },
    {
     "data": {
      "image/png": "[encoded data removed]",
      "text/plain": [
       "plot without title"
      ]
     },
     "metadata": {},
     "output_type": "display_data"
    }
   ],
   "source": [
    "##### AGGREGATE FEATURE IMPORTANCE #####\n",
    "var_names <- unique(c(row.names(var_imp_gbm$importance), row.names(var_imp_rpart$importance), row.names(var_imp_cart$importance)))\n",
    "var_imp_gbm_df <- data.frame(FEATURE = row.names(var_imp_gbm$importance), GBM = var_imp_gbm$importance$Overall, stringsAsFactors = FALSE)\n",
    "var_imp_rpart_df <- data.frame(FEATURE = row.names(var_imp_rpart$importance), RPART = var_imp_rpart$importance$Overall, stringsAsFactors = FALSE)\n",
    "var_imp_cart_df <- data.frame(FEATURE = row.names(var_imp_cart$importance), CART = var_imp_cart$importance$Overall, stringsAsFactors = FALSE)\n",
    "var_imp_aggr <- merge(var_imp_gbm_df, var_imp_rpart_df, by = \"FEATURE\")\n",
    "var_imp_aggr <- merge(var_imp_aggr, var_imp_cart_df, by = \"FEATURE\")\n",
    "\n",
    "#var_imp_gbm$importance, var_imp_rpart$importance, var_imp_cart$importance)\n",
    "var_imp_aggr$AGGR <- rowMeans(var_imp_aggr[,2:4])\n",
    "var_imp_aggr <- var_imp_aggr[order(-var_imp_aggr$AGGR),]\n",
    "print(var_imp_aggr[,c(\"FEATURE\", \"AGGR\")])\n",
    "# Plot feature importance:\n",
    "ggplot(var_imp_aggr, aes(x=reorder(FEATURE, -AGGR), y= AGGR)) + \n",
    "  geom_point(size=3, color = \"seagreen2\") + \n",
    "  geom_segment(aes(x=FEATURE, \n",
    "                   xend=FEATURE, \n",
    "                   y=0, \n",
    "                   yend=AGGR),\n",
    "               size = 1,\n",
    "               color = \"seagreen2\") + \n",
    "  labs(title=\"Aggregated Feature Importance\", \n",
    "       subtitle=\"Averaged Feature Importance from GBM, RPART, and CART Base Layer Models\",\n",
    "       caption = \"source: U.S. Census Bureau Data, Current Population Surveys 1994 and 1995\") + \n",
    "  theme(axis.text.x = element_text(angle=90, vjust=0.6),  axis.title.x=element_blank()) +\n",
    "  ylab(\"Weight\")"
   ]
  },
  {
   "cell_type": "code",
   "execution_count": 568,
   "metadata": {},
   "outputs": [],
   "source": [
    "##### CONDITIONAL DISTRIBUTION OF TOP-N FEATURES #####\n",
    "copy_of_train_data <- readRDS(file = \"data/train_data_factors_na_removed.RDS\") \n",
    "#top_n_features <- 7\n",
    "#for(i in var_imp_aggr$FEATURE[1:top_n_features]){\n",
    "#  var_class <- class(copy_of_train_data[,names(copy_of_train_data) == i])\n",
    "#  if(var_class == \"integer\"){\n",
    "#    print(plot_numerical_variable(variable = i, dataset = copy_of_train_data, colour = sample(palette, 1), set_type = \"Training Set\"))\n",
    "#  } else if(var_class == \"factor\") {\n",
    "#    suppressWarnings(print(plot_categorical_variable(variable = i, dataset = copy_of_train_data, colour = sample(palette, 1), set_type = \"Training Set\", n = 9)))\n",
    "#  }\n",
    "#}"
   ]
  },
  {
   "cell_type": "code",
   "execution_count": 569,
   "metadata": {},
   "outputs": [
    {
     "name": "stdout",
     "output_type": "stream",
     "text": [
      "TableGrob (1 x 2) \"arrange\": 2 grobs\n",
      "  z     cells    name           grob\n",
      "1 1 (1-1,1-1) arrange gtable[layout]\n",
      "2 2 (1-1,2-2) arrange gtable[layout]\n"
     ]
    },
    {
     "data": {
      "image/png": "[encoded data removed]",
      "text/plain": [
       "plot without title"
      ]
     },
     "metadata": {},
     "output_type": "display_data"
    }
   ],
   "source": [
    "print(plot_numerical_variable(variable = \"weeks_worked_in_year\", dataset = copy_of_train_data, colour = sample(palette, 1), set_type = \"Training Set\"))"
   ]
  },
  {
   "cell_type": "markdown",
   "metadata": {},
   "source": [
    "## <font color=green>SUMMARY</font>\n",
    "* For people who make < USD 50k there's a bimodal distribution with regards to the number of weeks they work in a year. The higher mode is towards 0 days, while the second mode is towards 52.\n",
    "* On the other side, almost every person who makes > USD 50k works 52 weeks per year. Only outliers lie beneath the 52-weeks-a-year mark.\n",
    "* This means that working all year long is necessary (disregarding the outliers) for high income, but not sufficient, as a significant portion of people work all year but still earn below the USD 50k."
   ]
  },
  {
   "cell_type": "code",
   "execution_count": 570,
   "metadata": {},
   "outputs": [
    {
     "name": "stdout",
     "output_type": "stream",
     "text": [
      "TableGrob (1 x 2) \"arrange\": 2 grobs\n",
      "  z     cells    name           grob\n",
      "1 1 (1-1,1-1) arrange gtable[layout]\n",
      "2 2 (1-1,2-2) arrange gtable[layout]\n"
     ]
    },
    {
     "data": {
      "image/png": "[encoded data removed]",
      "text/plain": [
       "plot without title"
      ]
     },
     "metadata": {},
     "output_type": "display_data"
    }
   ],
   "source": [
    "print(plot_numerical_variable(variable = \"age\", dataset = copy_of_train_data, colour = sample(palette, 1), set_type = \"Training Set\"))"
   ]
  },
  {
   "cell_type": "markdown",
   "metadata": {},
   "source": [
    "## <font color=green>SUMMARY</font>\n",
    "* Once again, for people earning < USD 50k there's a bimodal distribution with regards to age. The left most peak represents the portion of the population underaged (children), while the second peak represents adults in their working prime years (~33).\n",
    "* For people making > USD 50k, the distribution is fairly symmetric and with short tails, centered at ~45 years of age.\n",
    "* Towards the elderly years, the density of the < USD 50k is larger than the > USD 50k. This suggests several hypothesis:\n",
    "    * Declining incomes as people get older.\n",
    "    * Generational transfers of wealth (e.g. changes in welfare policies).\n",
    "    * Distinct generations riding different stages of the long-term business cycle (booms and busts affecting generations in their prime years differently). "
   ]
  },
  {
   "cell_type": "code",
   "execution_count": 571,
   "metadata": {},
   "outputs": [
    {
     "data": {
      "image/png": "[encoded data removed]",
      "text/plain": [
       "plot without title"
      ]
     },
     "metadata": {},
     "output_type": "display_data"
    }
   ],
   "source": [
    "suppressWarnings(print(plot_categorical_variable(variable = \"detailed_occupation_recode\", dataset = copy_of_train_data, colour = sample(palette, 1), set_type = \"Training Set\", n = 14)))"
   ]
  },
  {
   "cell_type": "markdown",
   "metadata": {},
   "source": [
    "## <font color=green>SUMMARY</font>\n",
    "* The main occupation predicting incomes > USD 50k is \"Executive admin and managerial\" (code 2), representing more than 20% of high-earning individuals.\n",
    "* Other occupations which also predict high incomes, although at a lesser degree, are:\n",
    "    * Sales (codes 16, 17, and 18)\n",
    "    * Professional services (code 11)"
   ]
  },
  {
   "cell_type": "code",
   "execution_count": 572,
   "metadata": {},
   "outputs": [
    {
     "data": {
      "image/png": "[encoded data removed]",
      "text/plain": [
       "plot without title"
      ]
     },
     "metadata": {},
     "output_type": "display_data"
    }
   ],
   "source": [
    "suppressWarnings(print(plot_categorical_variable(variable = \"class_of_worker\", dataset = copy_of_train_data, colour = sample(palette, 1), set_type = \"Training Set\", n = 14)))"
   ]
  },
  {
   "cell_type": "markdown",
   "metadata": {},
   "source": [
    "## <font color=green>SUMMARY</font>\n",
    "* Almost three-quarters of individuals earning > USD 50k belong to the private sector, including those self-employed.\n",
    "* However, almost a third of people earning < USD 50k also work in the private sector, making it also a (relatively) necessary condition, but not sufficient for determining high incomes.\n",
    "* Among individuals with high incomes, all work (no \"never worked\"), and very few are outside of the labour force."
   ]
  },
  {
   "cell_type": "code",
   "execution_count": 573,
   "metadata": {},
   "outputs": [
    {
     "data": {
      "image/png": "[encoded data removed]",
      "text/plain": [
       "plot without title"
      ]
     },
     "metadata": {},
     "output_type": "display_data"
    }
   ],
   "source": [
    "suppressWarnings(print(plot_categorical_variable(variable = \"education\", dataset = copy_of_train_data, colour = sample(palette, 1), set_type = \"Training Set\", n = 14)))"
   ]
  },
  {
   "cell_type": "markdown",
   "metadata": {},
   "source": [
    "## <font color=green>SUMMARY</font>\n",
    "* With regards to education, any university degree is a predictor of higher incomes.\n",
    "* A third of all individuals earning > USD 50k have finished an undergraduate degree, while only 10% of lower incomes individuals completed them.\n",
    "* It is thus that a graduate and postgraduate degree is a far stronger predictor for higher incomes than an undergraduate degree."
   ]
  },
  {
   "cell_type": "code",
   "execution_count": 574,
   "metadata": {},
   "outputs": [
    {
     "data": {
      "image/png": "[encoded data removed]",
      "text/plain": [
       "plot without title"
      ]
     },
     "metadata": {},
     "output_type": "display_data"
    }
   ],
   "source": [
    "suppressWarnings(print(plot_categorical_variable(variable = \"tax_filer_stat\", dataset = copy_of_train_data, colour = sample(palette, 1), set_type = \"Training Set\", n = 14)))"
   ]
  },
  {
   "cell_type": "markdown",
   "metadata": {},
   "source": [
    "## <font color=green>SUMMARY</font>\n",
    "* The strongest predicter of high incomes with regards to an individual's tax filing status is that almost none of them are nonfilers.\n",
    "* Additionally, three-quarters of high income individuals are classified as \"Joint both under 65\", compared to less than a third of lower income individuals\n",
    "* Conversely, 40% of individuals earning < USD 50k are classified as non-filers.\n",
    "* It's important to note that the tax filer status is a lagging indicator of income, not a driver. That is, it helps to predict the previous income of an individual, but has no direct effect of determining the future income of an individual."
   ]
  },
  {
   "cell_type": "markdown",
   "metadata": {},
   "source": [
    "# <font color=blue>8. Conclusions</font>"
   ]
  },
  {
   "attachments": {},
   "cell_type": "markdown",
   "metadata": {},
   "source": [
    "## <font color=green>IMPROVEMENTS</font>\n",
    "There are many improvement opportunities for this project. Far more than listed below. These are just some examples of the many low-hanging fruit improvements which can be implemented, which have potential to improve model performance:\n",
    "* There are opportunities for refactoring the code and making it more efficient.\n",
    "* Instead of WOE, apply one-hot encoding, filter (reduce number of features) with Information Value, and then estimate variable importance.\n",
    "* Alternatively, apply PCA to reduce the number of original variables and minimize multicolinearity, eliminating the need for estimating correlation between predictor variables.\n",
    "* Additionally, Factor Analysis can be applied to add a few new features which pick up on patterns of shared variance between the original variables.\n",
    "* Normalize and scale remaining variables which have not been transformed with WOE (i.e. age, wage_per_hour, num_persons_worked_for_employer, and weeks_worked_in_year).\n",
    "* For dealing with the unbalanced class problem, several approaches can be tested and compared to: i) no under/over sampling, and ii) SMOTE, such as:\n",
    "    * Outlier detection\n",
    "    * Anomaly detection\n",
    "    * Resampling the training set into a set of multiple balanced sets, running an ensemble of classifiers.\n",
    "* Using a GLM model for measuring variable importance would not only produce insights regarding which variables are more predictive of an individual's income being above USD 50k, but would also provide insights in the nature of the relationship. That is, it could also show if the relationship of proportional or inverse.\n",
    "* Reducing the size of models in order to store and validate reproducibility of code. Particularly, the CART model had an initial size of close to 1GB. This was the result of i) caret making copies of the data (and depending on the model, of additional information), and ii) the underlying model package would also save a copy of the data. By modifying these data stoage parameters, model sizes were reduced to less than a third of original size, but still remain quiet large, particularly CART."
   ]
  },
  {
   "cell_type": "markdown",
   "metadata": {},
   "source": [
    "## <font color=green>CHALLENGES</font>\n",
    "The main challenges I faced during this project were:\n",
    "* For the last two years my focus has been on Natural Language Processing, so I had to get re-familiarised with most of the algorithms tried and implemented in this project. This meant re-reading most of the caret package documentation, and the documentation of some of caret's underlying libraries (e.g. package gbm).\n",
    "* Lack of computing power for hyperparameter tunning forced me to do multiple iterative small grid searches on each of the base layer algorithms to get a feeling of which set of parameters best helped the algorithms adapt to this data. This was significantly time consuming and prone to error.\n",
    "* Related to the point above, I wanted to use random forest as one of the base layer algorithms. However, my personal computer crashed everytime I trained it, even with no hyperparameter tuning, and allowing the algorithm to keep all of its default parameters, such as keep.forest = TRUE, which I wanted to change to FALSE to keep the size of the model relatively small for sharing."
   ]
  },
  {
   "attachments": {},
   "cell_type": "markdown",
   "metadata": {},
   "source": [
    "## <font color=green>IDEAS FOR THE FUTURE</font>\n",
    "Doing research on the US Census Bureau and the business applications of survey data, I came across some interesting studies. One in particularly, stated that success of students at certain tertiary education programs was positively influenced by the presence of a foreign father and native born (in the US) mother. The subjective interpretation of this effect had to do with the foreign father instilling a strong sense of work ethic in his children, and the mother providing the native tongue.\n",
    "This model could be used to some degree to replicate or challenge the results of that study, and further identify which other cultural, economic, and geographic variables can improve the chances of children to do well in their education, and subsequently in their professional endeavours."
   ]
  },
  {
   "cell_type": "markdown",
   "metadata": {},
   "source": [
    "_**This project was carried out by Francis Beeson (leobeeson@gmail.com)**_ \n",
    "\n",
    "_**Please feel free to comment or reach out if you find something wrong, an inconsistency, or want to suggest an improvement. Always happy to make things better.**_"
   ]
  },
  {
   "cell_type": "code",
   "execution_count": null,
   "metadata": {},
   "outputs": [],
   "source": []
  }
 ],
 "metadata": {
  "kernelspec": {
   "display_name": "R",
   "language": "R",
   "name": "ir"
  },
  "language_info": {
   "codemirror_mode": "r",
   "file_extension": ".r",
   "mimetype": "text/x-r-source",
   "name": "R",
   "pygments_lexer": "r",
   "version": "3.5.1"
  }
 },
 "nbformat": 4,
 "nbformat_minor": 2
}
